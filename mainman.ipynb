{
 "cells": [
  {
   "cell_type": "code",
   "execution_count": 1,
   "metadata": {},
   "outputs": [
    {
     "name": "stdout",
     "output_type": "stream",
     "text": [
      "Collecting pinecone-client\n",
      "  Using cached pinecone_client-5.0.1-py3-none-any.whl.metadata (19 kB)\n",
      "Collecting openai\n",
      "  Downloading openai-1.59.6-py3-none-any.whl.metadata (27 kB)\n",
      "Requirement already satisfied: numpy in c:\\users\\aksha\\anaconda3\\envs\\sihenv\\lib\\site-packages (1.26.4)\n",
      "Requirement already satisfied: pandas in c:\\users\\aksha\\anaconda3\\envs\\sihenv\\lib\\site-packages (2.2.3)\n",
      "Collecting streamlit\n",
      "  Downloading streamlit-1.41.1-py2.py3-none-any.whl.metadata (8.5 kB)\n",
      "Requirement already satisfied: certifi>=2019.11.17 in c:\\users\\aksha\\anaconda3\\envs\\sihenv\\lib\\site-packages (from pinecone-client) (2024.8.30)\n",
      "Collecting pinecone-plugin-inference<2.0.0,>=1.0.3 (from pinecone-client)\n",
      "  Using cached pinecone_plugin_inference-1.1.0-py3-none-any.whl.metadata (2.2 kB)\n",
      "Collecting pinecone-plugin-interface<0.0.8,>=0.0.7 (from pinecone-client)\n",
      "  Using cached pinecone_plugin_interface-0.0.7-py3-none-any.whl.metadata (1.2 kB)\n",
      "Requirement already satisfied: tqdm>=4.64.1 in c:\\users\\aksha\\anaconda3\\envs\\sihenv\\lib\\site-packages (from pinecone-client) (4.67.1)\n",
      "Requirement already satisfied: typing-extensions>=3.7.4 in c:\\users\\aksha\\anaconda3\\envs\\sihenv\\lib\\site-packages (from pinecone-client) (4.12.2)\n",
      "Requirement already satisfied: urllib3>=1.26.0 in c:\\users\\aksha\\anaconda3\\envs\\sihenv\\lib\\site-packages (from pinecone-client) (2.2.3)\n",
      "Requirement already satisfied: anyio<5,>=3.5.0 in c:\\users\\aksha\\anaconda3\\envs\\sihenv\\lib\\site-packages (from openai) (4.6.2)\n",
      "Collecting distro<2,>=1.7.0 (from openai)\n",
      "  Using cached distro-1.9.0-py3-none-any.whl.metadata (6.8 kB)\n",
      "Requirement already satisfied: httpx<1,>=0.23.0 in c:\\users\\aksha\\anaconda3\\envs\\sihenv\\lib\\site-packages (from openai) (0.27.0)\n",
      "Collecting jiter<1,>=0.4.0 (from openai)\n",
      "  Downloading jiter-0.8.2-cp39-cp39-win_amd64.whl.metadata (5.3 kB)\n",
      "Requirement already satisfied: pydantic<3,>=1.9.0 in c:\\users\\aksha\\anaconda3\\envs\\sihenv\\lib\\site-packages (from openai) (2.10.3)\n",
      "Requirement already satisfied: sniffio in c:\\users\\aksha\\anaconda3\\envs\\sihenv\\lib\\site-packages (from openai) (1.3.0)\n",
      "Requirement already satisfied: python-dateutil>=2.8.2 in c:\\users\\aksha\\anaconda3\\envs\\sihenv\\lib\\site-packages (from pandas) (2.9.0.post0)\n",
      "Requirement already satisfied: pytz>=2020.1 in c:\\users\\aksha\\anaconda3\\envs\\sihenv\\lib\\site-packages (from pandas) (2024.1)\n",
      "Requirement already satisfied: tzdata>=2022.7 in c:\\users\\aksha\\anaconda3\\envs\\sihenv\\lib\\site-packages (from pandas) (2024.2)\n",
      "Collecting altair<6,>=4.0 (from streamlit)\n",
      "  Downloading altair-5.5.0-py3-none-any.whl.metadata (11 kB)\n",
      "Requirement already satisfied: blinker<2,>=1.0.0 in c:\\users\\aksha\\anaconda3\\envs\\sihenv\\lib\\site-packages (from streamlit) (1.9.0)\n",
      "Requirement already satisfied: cachetools<6,>=4.0 in c:\\users\\aksha\\anaconda3\\envs\\sihenv\\lib\\site-packages (from streamlit) (5.5.0)\n",
      "Requirement already satisfied: click<9,>=7.0 in c:\\users\\aksha\\anaconda3\\envs\\sihenv\\lib\\site-packages (from streamlit) (8.1.7)\n",
      "Requirement already satisfied: packaging<25,>=20 in c:\\users\\aksha\\anaconda3\\envs\\sihenv\\lib\\site-packages (from streamlit) (24.2)\n",
      "Requirement already satisfied: pillow<12,>=7.1.0 in c:\\users\\aksha\\anaconda3\\envs\\sihenv\\lib\\site-packages (from streamlit) (11.0.0)\n",
      "Requirement already satisfied: protobuf<6,>=3.20 in c:\\users\\aksha\\anaconda3\\envs\\sihenv\\lib\\site-packages (from streamlit) (5.29.1)\n",
      "Requirement already satisfied: pyarrow>=7.0 in c:\\users\\aksha\\anaconda3\\envs\\sihenv\\lib\\site-packages (from streamlit) (18.1.0)\n",
      "Requirement already satisfied: requests<3,>=2.27 in c:\\users\\aksha\\anaconda3\\envs\\sihenv\\lib\\site-packages (from streamlit) (2.32.3)\n",
      "Collecting rich<14,>=10.14.0 (from streamlit)\n",
      "  Downloading rich-13.9.4-py3-none-any.whl.metadata (18 kB)\n",
      "Requirement already satisfied: tenacity<10,>=8.1.0 in c:\\users\\aksha\\anaconda3\\envs\\sihenv\\lib\\site-packages (from streamlit) (9.0.0)\n",
      "Collecting toml<2,>=0.10.1 (from streamlit)\n",
      "  Downloading toml-0.10.2-py2.py3-none-any.whl.metadata (7.1 kB)\n",
      "Collecting watchdog<7,>=2.1.5 (from streamlit)\n",
      "  Downloading watchdog-6.0.0-py3-none-win_amd64.whl.metadata (44 kB)\n",
      "Collecting gitpython!=3.1.19,<4,>=3.0.7 (from streamlit)\n",
      "  Downloading GitPython-3.1.44-py3-none-any.whl.metadata (13 kB)\n",
      "Collecting pydeck<1,>=0.8.0b4 (from streamlit)\n",
      "  Downloading pydeck-0.9.1-py2.py3-none-any.whl.metadata (4.1 kB)\n",
      "Requirement already satisfied: tornado<7,>=6.0.3 in c:\\users\\aksha\\anaconda3\\envs\\sihenv\\lib\\site-packages (from streamlit) (6.2)\n",
      "Requirement already satisfied: jinja2 in c:\\users\\aksha\\anaconda3\\envs\\sihenv\\lib\\site-packages (from altair<6,>=4.0->streamlit) (3.1.4)\n",
      "Requirement already satisfied: jsonschema>=3.0 in c:\\users\\aksha\\anaconda3\\envs\\sihenv\\lib\\site-packages (from altair<6,>=4.0->streamlit) (4.23.0)\n",
      "Collecting narwhals>=1.14.2 (from altair<6,>=4.0->streamlit)\n",
      "  Downloading narwhals-1.21.1-py3-none-any.whl.metadata (10.0 kB)\n",
      "Requirement already satisfied: idna>=2.8 in c:\\users\\aksha\\anaconda3\\envs\\sihenv\\lib\\site-packages (from anyio<5,>=3.5.0->openai) (2.10)\n",
      "Requirement already satisfied: exceptiongroup>=1.0.2 in c:\\users\\aksha\\anaconda3\\envs\\sihenv\\lib\\site-packages (from anyio<5,>=3.5.0->openai) (1.2.0)\n",
      "Requirement already satisfied: colorama in c:\\users\\aksha\\anaconda3\\envs\\sihenv\\lib\\site-packages (from click<9,>=7.0->streamlit) (0.4.6)\n",
      "Collecting gitdb<5,>=4.0.1 (from gitpython!=3.1.19,<4,>=3.0.7->streamlit)\n",
      "  Downloading gitdb-4.0.12-py3-none-any.whl.metadata (1.2 kB)\n",
      "Requirement already satisfied: httpcore==1.* in c:\\users\\aksha\\anaconda3\\envs\\sihenv\\lib\\site-packages (from httpx<1,>=0.23.0->openai) (1.0.2)\n",
      "Requirement already satisfied: h11<0.15,>=0.13 in c:\\users\\aksha\\anaconda3\\envs\\sihenv\\lib\\site-packages (from httpcore==1.*->httpx<1,>=0.23.0->openai) (0.14.0)\n",
      "Requirement already satisfied: annotated-types>=0.6.0 in c:\\users\\aksha\\anaconda3\\envs\\sihenv\\lib\\site-packages (from pydantic<3,>=1.9.0->openai) (0.7.0)\n",
      "Requirement already satisfied: pydantic-core==2.27.1 in c:\\users\\aksha\\anaconda3\\envs\\sihenv\\lib\\site-packages (from pydantic<3,>=1.9.0->openai) (2.27.1)\n",
      "Requirement already satisfied: six>=1.5 in c:\\users\\aksha\\anaconda3\\envs\\sihenv\\lib\\site-packages (from python-dateutil>=2.8.2->pandas) (1.16.0)\n",
      "Requirement already satisfied: charset-normalizer<4,>=2 in c:\\users\\aksha\\anaconda3\\envs\\sihenv\\lib\\site-packages (from requests<3,>=2.27->streamlit) (3.3.2)\n",
      "Collecting markdown-it-py>=2.2.0 (from rich<14,>=10.14.0->streamlit)\n",
      "  Using cached markdown_it_py-3.0.0-py3-none-any.whl.metadata (6.9 kB)\n",
      "Requirement already satisfied: pygments<3.0.0,>=2.13.0 in c:\\users\\aksha\\anaconda3\\envs\\sihenv\\lib\\site-packages (from rich<14,>=10.14.0->streamlit) (2.18.0)\n",
      "Collecting smmap<6,>=3.0.1 (from gitdb<5,>=4.0.1->gitpython!=3.1.19,<4,>=3.0.7->streamlit)\n",
      "  Downloading smmap-5.0.2-py3-none-any.whl.metadata (4.3 kB)\n",
      "Requirement already satisfied: MarkupSafe>=2.0 in c:\\users\\aksha\\anaconda3\\envs\\sihenv\\lib\\site-packages (from jinja2->altair<6,>=4.0->streamlit) (2.1.3)\n",
      "Requirement already satisfied: attrs>=22.2.0 in c:\\users\\aksha\\anaconda3\\envs\\sihenv\\lib\\site-packages (from jsonschema>=3.0->altair<6,>=4.0->streamlit) (24.2.0)\n",
      "Requirement already satisfied: jsonschema-specifications>=2023.03.6 in c:\\users\\aksha\\anaconda3\\envs\\sihenv\\lib\\site-packages (from jsonschema>=3.0->altair<6,>=4.0->streamlit) (2023.7.1)\n",
      "Requirement already satisfied: referencing>=0.28.4 in c:\\users\\aksha\\anaconda3\\envs\\sihenv\\lib\\site-packages (from jsonschema>=3.0->altair<6,>=4.0->streamlit) (0.30.2)\n",
      "Requirement already satisfied: rpds-py>=0.7.1 in c:\\users\\aksha\\anaconda3\\envs\\sihenv\\lib\\site-packages (from jsonschema>=3.0->altair<6,>=4.0->streamlit) (0.10.6)\n",
      "Collecting mdurl~=0.1 (from markdown-it-py>=2.2.0->rich<14,>=10.14.0->streamlit)\n",
      "  Using cached mdurl-0.1.2-py3-none-any.whl.metadata (1.6 kB)\n",
      "Using cached pinecone_client-5.0.1-py3-none-any.whl (244 kB)\n",
      "Downloading openai-1.59.6-py3-none-any.whl (454 kB)\n",
      "Downloading streamlit-1.41.1-py2.py3-none-any.whl (9.1 MB)\n",
      "   ---------------------------------------- 0.0/9.1 MB ? eta -:--:--\n",
      "   --- ------------------------------------ 0.8/9.1 MB 3.3 MB/s eta 0:00:03\n",
      "   -------- ------------------------------- 1.8/9.1 MB 4.4 MB/s eta 0:00:02\n",
      "   ------------ --------------------------- 2.9/9.1 MB 4.7 MB/s eta 0:00:02\n",
      "   ----------------- ---------------------- 3.9/9.1 MB 4.5 MB/s eta 0:00:02\n",
      "   --------------------- ------------------ 5.0/9.1 MB 4.6 MB/s eta 0:00:01\n",
      "   ------------------------- -------------- 5.8/9.1 MB 4.6 MB/s eta 0:00:01\n",
      "   ---------------------------- ----------- 6.6/9.1 MB 4.4 MB/s eta 0:00:01\n",
      "   --------------------------------- ------ 7.6/9.1 MB 4.5 MB/s eta 0:00:01\n",
      "   -------------------------------------- - 8.7/9.1 MB 4.5 MB/s eta 0:00:01\n",
      "   ---------------------------------------- 9.1/9.1 MB 4.4 MB/s eta 0:00:00\n",
      "Downloading altair-5.5.0-py3-none-any.whl (731 kB)\n",
      "   ---------------------------------------- 0.0/731.2 kB ? eta -:--:--\n",
      "   ---------------------------------------- 731.2/731.2 kB 4.3 MB/s eta 0:00:00\n",
      "Using cached distro-1.9.0-py3-none-any.whl (20 kB)\n",
      "Downloading GitPython-3.1.44-py3-none-any.whl (207 kB)\n",
      "Downloading jiter-0.8.2-cp39-cp39-win_amd64.whl (207 kB)\n",
      "Using cached pinecone_plugin_inference-1.1.0-py3-none-any.whl (85 kB)\n",
      "Using cached pinecone_plugin_interface-0.0.7-py3-none-any.whl (6.2 kB)\n",
      "Downloading pydeck-0.9.1-py2.py3-none-any.whl (6.9 MB)\n",
      "   ---------------------------------------- 0.0/6.9 MB ? eta -:--:--\n",
      "   ---- ----------------------------------- 0.8/6.9 MB 4.2 MB/s eta 0:00:02\n",
      "   ---------- ----------------------------- 1.8/6.9 MB 4.8 MB/s eta 0:00:02\n",
      "   --------------- ------------------------ 2.6/6.9 MB 4.6 MB/s eta 0:00:01\n",
      "   ------------------- -------------------- 3.4/6.9 MB 4.1 MB/s eta 0:00:01\n",
      "   ------------------------- -------------- 4.5/6.9 MB 4.3 MB/s eta 0:00:01\n",
      "   ------------------------------- -------- 5.5/6.9 MB 4.3 MB/s eta 0:00:01\n",
      "   ------------------------------------ --- 6.3/6.9 MB 4.3 MB/s eta 0:00:01\n",
      "   ---------------------------------------- 6.9/6.9 MB 4.2 MB/s eta 0:00:00\n",
      "Downloading rich-13.9.4-py3-none-any.whl (242 kB)\n",
      "Downloading toml-0.10.2-py2.py3-none-any.whl (16 kB)\n",
      "Downloading watchdog-6.0.0-py3-none-win_amd64.whl (79 kB)\n",
      "Downloading gitdb-4.0.12-py3-none-any.whl (62 kB)\n",
      "Using cached markdown_it_py-3.0.0-py3-none-any.whl (87 kB)\n",
      "Downloading narwhals-1.21.1-py3-none-any.whl (282 kB)\n",
      "Using cached mdurl-0.1.2-py3-none-any.whl (10.0 kB)\n",
      "Downloading smmap-5.0.2-py3-none-any.whl (24 kB)\n",
      "Installing collected packages: watchdog, toml, smmap, pinecone-plugin-interface, narwhals, mdurl, jiter, distro, pydeck, pinecone-plugin-inference, markdown-it-py, gitdb, rich, pinecone-client, openai, gitpython, altair, streamlit\n",
      "Successfully installed altair-5.5.0 distro-1.9.0 gitdb-4.0.12 gitpython-3.1.44 jiter-0.8.2 markdown-it-py-3.0.0 mdurl-0.1.2 narwhals-1.21.1 openai-1.59.6 pinecone-client-5.0.1 pinecone-plugin-inference-1.1.0 pinecone-plugin-interface-0.0.7 pydeck-0.9.1 rich-13.9.4 smmap-5.0.2 streamlit-1.41.1 toml-0.10.2 watchdog-6.0.0\n"
     ]
    }
   ],
   "source": [
    "!pip install pinecone-client openai numpy pandas streamlit"
   ]
  },
  {
   "cell_type": "code",
   "execution_count": 2,
   "metadata": {},
   "outputs": [
    {
     "name": "stderr",
     "output_type": "stream",
     "text": [
      "c:\\Users\\aksha\\anaconda3\\envs\\sihenv\\lib\\site-packages\\pinecone\\data\\index.py:1: TqdmWarning: IProgress not found. Please update jupyter and ipywidgets. See https://ipywidgets.readthedocs.io/en/stable/user_install.html\n",
      "  from tqdm.autonotebook import tqdm\n"
     ]
    }
   ],
   "source": [
    "import pandas as pd\n",
    "import numpy as np\n",
    "import streamlit as st\n",
    "import pinecone\n",
    "import os"
   ]
  },
  {
   "cell_type": "code",
   "execution_count": 16,
   "metadata": {},
   "outputs": [
    {
     "name": "stdout",
     "output_type": "stream",
     "text": [
      "Requirement already satisfied: pinecone-client in c:\\users\\aksha\\anaconda3\\envs\\sihenv\\lib\\site-packages (5.0.1)\n",
      "Requirement already satisfied: certifi>=2019.11.17 in c:\\users\\aksha\\anaconda3\\envs\\sihenv\\lib\\site-packages (from pinecone-client) (2024.8.30)\n",
      "Requirement already satisfied: pinecone-plugin-inference<2.0.0,>=1.0.3 in c:\\users\\aksha\\anaconda3\\envs\\sihenv\\lib\\site-packages (from pinecone-client) (1.1.0)\n",
      "Requirement already satisfied: pinecone-plugin-interface<0.0.8,>=0.0.7 in c:\\users\\aksha\\anaconda3\\envs\\sihenv\\lib\\site-packages (from pinecone-client) (0.0.7)\n",
      "Requirement already satisfied: tqdm>=4.64.1 in c:\\users\\aksha\\anaconda3\\envs\\sihenv\\lib\\site-packages (from pinecone-client) (4.67.1)\n",
      "Requirement already satisfied: typing-extensions>=3.7.4 in c:\\users\\aksha\\anaconda3\\envs\\sihenv\\lib\\site-packages (from pinecone-client) (4.12.2)\n",
      "Requirement already satisfied: urllib3>=1.26.0 in c:\\users\\aksha\\anaconda3\\envs\\sihenv\\lib\\site-packages (from pinecone-client) (2.2.3)\n",
      "Requirement already satisfied: colorama in c:\\users\\aksha\\anaconda3\\envs\\sihenv\\lib\\site-packages (from tqdm>=4.64.1->pinecone-client) (0.4.6)\n",
      "Note: you may need to restart the kernel to use updated packages.\n"
     ]
    }
   ],
   "source": [
    "pip install --upgrade pinecone-client\n"
   ]
  },
  {
   "cell_type": "code",
   "execution_count": 29,
   "metadata": {},
   "outputs": [
    {
     "name": "stdout",
     "output_type": "stream",
     "text": [
      "Existing indexes: {'indexes': [{'deletion_protection': 'disabled',\n",
      "              'dimension': 384,\n",
      "              'host': 'medical-chatbot-q8wblkd.svc.aped-4627-b74a.pinecone.io',\n",
      "              'metric': 'cosine',\n",
      "              'name': 'medical-chatbot',\n",
      "              'spec': {'serverless': {'cloud': 'aws', 'region': 'us-east-1'}},\n",
      "              'status': {'ready': True, 'state': 'Ready'}},\n",
      "             {'deletion_protection': 'disabled',\n",
      "              'dimension': 384,\n",
      "              'host': 'medicalchatbot-q8wblkd.svc.aped-4627-b74a.pinecone.io',\n",
      "              'metric': 'cosine',\n",
      "              'name': 'medicalchatbot',\n",
      "              'spec': {'serverless': {'cloud': 'aws', 'region': 'us-east-1'}},\n",
      "              'status': {'ready': True, 'state': 'Ready'}}]}\n"
     ]
    }
   ],
   "source": [
    "import pinecone\n",
    "\n",
    "API_KEY = \"pcsk_3M1QuE_KxGKqkXTJ84Fwx3jXsuoc3fYSbJQwUEowbTRX1gfZ6knfDTQmnAC1k4dPtHBdTQ\"  \n",
    "ENVIRONMENT = \"us-west1-gcp\"  \n",
    "\n",
    "pinecone_client = pinecone.Pinecone(\n",
    "    api_key=API_KEY, \n",
    "    environment=ENVIRONMENT\n",
    ")\n",
    "\n",
    "indexes = pinecone_client.list_indexes()\n",
    "print(\"Existing indexes:\", indexes)\n"
   ]
  },
  {
   "cell_type": "code",
   "execution_count": 30,
   "metadata": {},
   "outputs": [
    {
     "name": "stdout",
     "output_type": "stream",
     "text": [
      "Existing indexes: {'indexes': [{'deletion_protection': 'disabled',\n",
      "              'dimension': 384,\n",
      "              'host': 'medical-chatbot-q8wblkd.svc.aped-4627-b74a.pinecone.io',\n",
      "              'metric': 'cosine',\n",
      "              'name': 'medical-chatbot',\n",
      "              'spec': {'serverless': {'cloud': 'aws', 'region': 'us-east-1'}},\n",
      "              'status': {'ready': True, 'state': 'Ready'}},\n",
      "             {'deletion_protection': 'disabled',\n",
      "              'dimension': 384,\n",
      "              'host': 'medicalchatbot-q8wblkd.svc.aped-4627-b74a.pinecone.io',\n",
      "              'metric': 'cosine',\n",
      "              'name': 'medicalchatbot',\n",
      "              'spec': {'serverless': {'cloud': 'aws', 'region': 'us-east-1'}},\n",
      "              'status': {'ready': True, 'state': 'Ready'}}]}\n"
     ]
    }
   ],
   "source": [
    "import pinecone\n",
    "\n",
    "API_KEY = \"pcsk_3M1QuE_KxGKqkXTJ84Fwx3jXsuoc3fYSbJQwUEowbTRX1gfZ6knfDTQmnAC1k4dPtHBdTQ\"  \n",
    "ENVIRONMENT = \"us-east1-aws\"  \n",
    "\n",
    "pinecone_client = pinecone.Pinecone(\n",
    "    api_key=API_KEY, \n",
    "    environment=ENVIRONMENT\n",
    ")\n",
    "\n",
    "indexes = pinecone_client.list_indexes()\n",
    "print(\"Existing indexes:\", indexes)\n"
   ]
  },
  {
   "cell_type": "code",
   "execution_count": 120,
   "metadata": {},
   "outputs": [],
   "source": [
    "index_name = \"example-index\"\n",
    "\n"
   ]
  },
  {
   "cell_type": "code",
   "execution_count": 105,
   "metadata": {},
   "outputs": [],
   "source": [
    "from langchain.embeddings import HuggingFaceEmbeddings\n",
    "from langchain.llms import CTransformers\n",
    "from langchain.document_loaders import PyPDFLoader\n",
    "from langchain.text_splitter import RecursiveCharacterTextSplitter"
   ]
  },
  {
   "cell_type": "code",
   "execution_count": 106,
   "metadata": {},
   "outputs": [
    {
     "name": "stdout",
     "output_type": "stream",
     "text": [
      "Query Embedding Length: 384\n"
     ]
    }
   ],
   "source": [
    "def download_hugging_face_embeddings():\n",
    "    embeddings = HuggingFaceEmbeddings(model_name=\"sentence-transformers/all-MiniLM-L6-v2\")\n",
    "    return embeddings\n",
    "\n",
    "\n",
    "embeddings = download_hugging_face_embeddings()\n",
    "\n",
    "query_result = embeddings.embed_query(\"Hello world\")\n",
    "print(f\"Query Embedding Length: {len(query_result)}\")"
   ]
  },
  {
   "cell_type": "code",
   "execution_count": 107,
   "metadata": {},
   "outputs": [],
   "source": [
    "pdf_loader = PyPDFLoader(\"farmerbook.pdf\")\n",
    "documents = pdf_loader.load()"
   ]
  },
  {
   "cell_type": "code",
   "execution_count": 108,
   "metadata": {},
   "outputs": [],
   "source": [
    "text_splitter = RecursiveCharacterTextSplitter(chunk_size=500, chunk_overlap=50)\n",
    "split_docs = text_splitter.split_documents(documents)"
   ]
  },
  {
   "cell_type": "code",
   "execution_count": 109,
   "metadata": {},
   "outputs": [],
   "source": [
    "from pinecone import Pinecone\n",
    "\n",
    "pc = Pinecone(api_key=\"pcsk_3M1QuE_KxGKqkXTJ84Fwx3jXsuoc3fYSbJQwUEowbTRX1gfZ6knfDTQmnAC1k4dPtHBdTQ\")"
   ]
  },
  {
   "cell_type": "code",
   "execution_count": 110,
   "metadata": {},
   "outputs": [
    {
     "name": "stdout",
     "output_type": "stream",
     "text": [
      "^C\n",
      "Note: you may need to restart the kernel to use updated packages.\n"
     ]
    }
   ],
   "source": [
    "pip uninstall pinecone-client"
   ]
  },
  {
   "cell_type": "code",
   "execution_count": 111,
   "metadata": {},
   "outputs": [
    {
     "name": "stdout",
     "output_type": "stream",
     "text": [
      "Requirement already satisfied: pinecone in c:\\users\\aksha\\anaconda3\\envs\\sihenv\\lib\\site-packages (5.4.2)\n",
      "Requirement already satisfied: certifi>=2019.11.17 in c:\\users\\aksha\\anaconda3\\envs\\sihenv\\lib\\site-packages (from pinecone) (2024.8.30)\n",
      "Requirement already satisfied: pinecone-plugin-inference<4.0.0,>=2.0.0 in c:\\users\\aksha\\anaconda3\\envs\\sihenv\\lib\\site-packages (from pinecone) (3.1.0)\n",
      "Requirement already satisfied: pinecone-plugin-interface<0.0.8,>=0.0.7 in c:\\users\\aksha\\anaconda3\\envs\\sihenv\\lib\\site-packages (from pinecone) (0.0.7)\n",
      "Requirement already satisfied: python-dateutil>=2.5.3 in c:\\users\\aksha\\anaconda3\\envs\\sihenv\\lib\\site-packages (from pinecone) (2.9.0.post0)\n",
      "Requirement already satisfied: tqdm>=4.64.1 in c:\\users\\aksha\\anaconda3\\envs\\sihenv\\lib\\site-packages (from pinecone) (4.67.1)\n",
      "Requirement already satisfied: typing-extensions>=3.7.4 in c:\\users\\aksha\\anaconda3\\envs\\sihenv\\lib\\site-packages (from pinecone) (4.12.2)\n",
      "Requirement already satisfied: urllib3>=1.26.0 in c:\\users\\aksha\\anaconda3\\envs\\sihenv\\lib\\site-packages (from pinecone) (2.2.3)\n",
      "Requirement already satisfied: six>=1.5 in c:\\users\\aksha\\anaconda3\\envs\\sihenv\\lib\\site-packages (from python-dateutil>=2.5.3->pinecone) (1.16.0)\n",
      "Requirement already satisfied: colorama in c:\\users\\aksha\\anaconda3\\envs\\sihenv\\lib\\site-packages (from tqdm>=4.64.1->pinecone) (0.4.6)\n",
      "Note: you may need to restart the kernel to use updated packages.\n"
     ]
    }
   ],
   "source": [
    "pip install pinecone"
   ]
  },
  {
   "cell_type": "code",
   "execution_count": 112,
   "metadata": {},
   "outputs": [],
   "source": [
    "from pinecone import Pinecone\n",
    "\n",
    "pc = Pinecone(api_key=\"pcsk_3M1QuE_KxGKqkXTJ84Fwx3jXsuoc3fYSbJQwUEowbTRX1gfZ6knfDTQmnAC1k4dPtHBdTQ\")"
   ]
  },
  {
   "cell_type": "code",
   "execution_count": 113,
   "metadata": {},
   "outputs": [
    {
     "name": "stdout",
     "output_type": "stream",
     "text": [
      "{'indexes': [{'deletion_protection': 'disabled',\n",
      "              'dimension': 384,\n",
      "              'host': 'medical-chatbot-q8wblkd.svc.aped-4627-b74a.pinecone.io',\n",
      "              'metric': 'cosine',\n",
      "              'name': 'medical-chatbot',\n",
      "              'spec': {'serverless': {'cloud': 'aws', 'region': 'us-east-1'}},\n",
      "              'status': {'ready': True, 'state': 'Ready'}},\n",
      "             {'deletion_protection': 'disabled',\n",
      "              'dimension': 384,\n",
      "              'host': 'medicalchatbot-q8wblkd.svc.aped-4627-b74a.pinecone.io',\n",
      "              'metric': 'cosine',\n",
      "              'name': 'medicalchatbot',\n",
      "              'spec': {'serverless': {'cloud': 'aws', 'region': 'us-east-1'}},\n",
      "              'status': {'ready': True, 'state': 'Ready'}},\n",
      "             {'deletion_protection': 'disabled',\n",
      "              'dimension': 1536,\n",
      "              'host': 'example-index-q8wblkd.svc.aped-4627-b74a.pinecone.io',\n",
      "              'metric': 'cosine',\n",
      "              'name': 'example-index',\n",
      "              'spec': {'serverless': {'cloud': 'aws', 'region': 'us-east-1'}},\n",
      "              'status': {'ready': True, 'state': 'Ready'}}]}\n"
     ]
    }
   ],
   "source": [
    "index_list = pc.list_indexes()\n",
    "print(index_list)"
   ]
  },
  {
   "cell_type": "code",
   "execution_count": 114,
   "metadata": {},
   "outputs": [
    {
     "data": {
      "text/plain": [
       "{'deletion_protection': 'disabled',\n",
       " 'dimension': 1536,\n",
       " 'host': 'example-index-q8wblkd.svc.aped-4627-b74a.pinecone.io',\n",
       " 'metric': 'cosine',\n",
       " 'name': 'example-index',\n",
       " 'spec': {'serverless': {'cloud': 'aws', 'region': 'us-east-1'}},\n",
       " 'status': {'ready': True, 'state': 'Ready'}}"
      ]
     },
     "execution_count": 114,
     "metadata": {},
     "output_type": "execute_result"
    }
   ],
   "source": [
    "pc.describe_index(\"example-index\")"
   ]
  },
  {
   "cell_type": "code",
   "execution_count": 115,
   "metadata": {},
   "outputs": [],
   "source": [
    "from langchain.embeddings import HuggingFaceEmbeddings\n",
    "\n",
    "embeddings = HuggingFaceEmbeddings(model_name=\"sentence-transformers/all-MiniLM-L6-v2\")\n",
    "\n",
    "split_docs = [\n",
    "    {\"page_content\": \"A holistic perspective of scientific agriculture\", \"metadata\": {\"id\": \"doc1\"}},\n",
    "    {\"page_content\": \"A joint initiative to impart farmers with technical knowledge\", \"metadata\": {\"id\": \"doc2\"}}\n",
    "]\n",
    "\n",
    "upsert_data = []\n",
    "\n",
    "for doc in split_docs:\n",
    "    doc_content = doc[\"page_content\"]\n",
    "    doc_id = doc[\"metadata\"].get(\"id\", str(hash(doc_content))) \n",
    "    doc_embedding = embeddings.embed_query(doc_content)\n",
    "    upsert_data.append((doc_id, doc_embedding))\n",
    "\n"
   ]
  },
  {
   "cell_type": "code",
   "execution_count": 121,
   "metadata": {},
   "outputs": [
    {
     "name": "stdout",
     "output_type": "stream",
     "text": [
      "Connected to index: example-index\n"
     ]
    }
   ],
   "source": [
    "from pinecone import Pinecone\n",
    "\n",
    "pc = Pinecone(api_key=\"pcsk_3M1QuE_KxGKqkXTJ84Fwx3jXsuoc3fYSbJQwUEowbTRX1gfZ6knfDTQmnAC1k4dPtHBdTQ\")\n",
    "index = pc.Index(\"example-index\")\n",
    "print(f\"Connected to index: {index_name}\")\n"
   ]
  },
  {
   "cell_type": "code",
   "execution_count": 134,
   "metadata": {},
   "outputs": [
    {
     "name": "stdout",
     "output_type": "stream",
     "text": [
      "{'deletion_protection': 'disabled',\n",
      " 'dimension': 1536,\n",
      " 'host': 'example-index-q8wblkd.svc.aped-4627-b74a.pinecone.io',\n",
      " 'metric': 'cosine',\n",
      " 'name': 'example-index',\n",
      " 'spec': {'serverless': {'cloud': 'aws', 'region': 'us-east-1'}},\n",
      " 'status': {'ready': True, 'state': 'Ready'}}\n"
     ]
    }
   ],
   "source": [
    "print(pc.describe_index(\"example-index\"))"
   ]
  },
  {
   "cell_type": "code",
   "execution_count": 136,
   "metadata": {},
   "outputs": [
    {
     "name": "stdout",
     "output_type": "stream",
     "text": [
      "{'indexes': [{'deletion_protection': 'disabled',\n",
      "              'dimension': 384,\n",
      "              'host': 'medical-chatbot-q8wblkd.svc.aped-4627-b74a.pinecone.io',\n",
      "              'metric': 'cosine',\n",
      "              'name': 'medical-chatbot',\n",
      "              'spec': {'serverless': {'cloud': 'aws', 'region': 'us-east-1'}},\n",
      "              'status': {'ready': True, 'state': 'Ready'}},\n",
      "             {'deletion_protection': 'disabled',\n",
      "              'dimension': 384,\n",
      "              'host': 'medicalchatbot-q8wblkd.svc.aped-4627-b74a.pinecone.io',\n",
      "              'metric': 'cosine',\n",
      "              'name': 'medicalchatbot',\n",
      "              'spec': {'serverless': {'cloud': 'aws', 'region': 'us-east-1'}},\n",
      "              'status': {'ready': True, 'state': 'Ready'}},\n",
      "             {'deletion_protection': 'disabled',\n",
      "              'dimension': 384,\n",
      "              'host': 'book-index-q8wblkd.svc.aped-4627-b74a.pinecone.io',\n",
      "              'metric': 'cosine',\n",
      "              'name': 'book-index',\n",
      "              'spec': {'serverless': {'cloud': 'aws', 'region': 'us-east-1'}},\n",
      "              'status': {'ready': True, 'state': 'Ready'}}]}\n"
     ]
    }
   ],
   "source": [
    "print(pc.list_indexes())"
   ]
  },
  {
   "cell_type": "code",
   "execution_count": null,
   "metadata": {},
   "outputs": [
    {
     "name": "stdout",
     "output_type": "stream",
     "text": [
      "Data inserted into Pinecone index successfully.\n"
     ]
    }
   ],
   "source": [
    "from pinecone import Pinecone\n",
    "\n",
    "pc = Pinecone(api_key=\"pcsk_3M1QuE_KxGKqkXTJ84Fwx3jXsuoc3fYSbJQwUEowbTRX1gfZ6knfDTQmnAC1k4dPtHBdTQ\")\n",
    "index = pc.Index(\"book-index\")\n",
    "vectors = [\n",
    "    {\n",
    "        \"id\": doc_id,\n",
    "        \"values\": doc_embedding,\n",
    "        \"metadata\": {\"text\": doc_content}\n",
    "    }\n",
    "    for doc_id, doc_embedding, doc_content in zip(\n",
    "        [doc[\"metadata\"][\"id\"] for doc in split_docs],\n",
    "        [embeddings.embed_query(doc[\"page_content\"]) for doc in split_docs],\n",
    "        [doc[\"page_content\"] for doc in split_docs]\n",
    "    )\n",
    "]\n",
    "\n",
    "index.upsert(\n",
    "    vectors=vectors,\n",
    "    namespace=\"example-namespace\"  \n",
    ")\n",
    "\n",
    "from langchain.embeddings import HuggingFaceEmbeddings\n",
    "\n",
    "embeddings = HuggingFaceEmbeddings(model_name=\"sentence-transformers/all-MiniLM-L6-v2\")\n",
    "\n",
    "split_docs = [\n",
    "    {\"page_content\": \"A holistic perspective of scientific agriculture\", \"metadata\": {\"id\": \"doc1\"}},\n",
    "    {\"page_content\": \"A joint initiative to impart farmers with technical knowledge\", \"metadata\": {\"id\": \"doc2\"}}\n",
    "]\n",
    "\n",
    "upsert_data = []\n",
    "\n",
    "for doc in split_docs:\n",
    "    doc_content = doc[\"page_content\"]\n",
    "    doc_id = doc[\"metadata\"].get(\"id\", str(hash(doc_content)))  \n",
    "    doc_embedding = embeddings.embed_query(doc_content)\n",
    "    upsert_data.append((doc_id, doc_embedding))\n",
    "\n",
    "# Insert into Pinecone index\n",
    "index.upsert(vectors=upsert_data)\n",
    "\n",
    "print(\"Data inserted into Pinecone index successfully.\")\n"
   ]
  },
  {
   "cell_type": "code",
   "execution_count": 141,
   "metadata": {},
   "outputs": [
    {
     "name": "stdout",
     "output_type": "stream",
     "text": [
      "Query Results: {'matches': [{'id': 'doc2', 'score': 0.671286047, 'values': []},\n",
      "             {'id': 'doc1', 'score': 0.600005269, 'values': []}],\n",
      " 'namespace': '',\n",
      " 'usage': {'read_units': 6}}\n"
     ]
    }
   ],
   "source": [
    "query = \"agriculture initiative\"\n",
    "\n",
    "query_embedding = embeddings.embed_query(query)\n",
    "\n",
    "query_results = index.query(\n",
    "    vector=query_embedding,\n",
    "    top_k=3,  \n",
    "    include_metadata=True\n",
    ")\n",
    "\n",
    "print(f\"Query Results: {query_results}\")\n"
   ]
  },
  {
   "cell_type": "code",
   "execution_count": null,
   "metadata": {},
   "outputs": [],
   "source": [
    "import PyPDF2\n",
    "\n",
    "with open('farmerbook.pdf', 'rb') as file:\n",
    "    reader = PyPDF2.PdfReader(file)\n",
    "    \n",
    "    split_docs = []\n",
    "    for i, page in enumerate(reader.pages):\n",
    "        text = page.extract_text()\n",
    "        split_docs.append({\n",
    "            \"page_content\": text, \n",
    "            \"metadata\": {\"id\": f\"doc_{i}\", \"page\": i + 1}  \n",
    "        })\n"
   ]
  },
  {
   "cell_type": "code",
   "execution_count": 156,
   "metadata": {},
   "outputs": [
    {
     "name": "stdout",
     "output_type": "stream",
     "text": [
      "Data inserted into Pinecone index successfully.\n"
     ]
    }
   ],
   "source": [
    "from langchain.embeddings import HuggingFaceEmbeddings\n",
    "\n",
    "embeddings = HuggingFaceEmbeddings(model_name=\"sentence-transformers/all-MiniLM-L6-v2\")\n",
    "\n",
    "upsert_data = []\n",
    "\n",
    "for doc in split_docs:\n",
    "    doc_content = doc[\"page_content\"]\n",
    "    doc_id = doc[\"metadata\"].get(\"id\", str(hash(doc_content)))  \n",
    "    doc_embedding = embeddings.embed_query(doc_content)\n",
    "    upsert_data.append((doc_id, doc_embedding, {'page': doc[\"metadata\"]['page']})) \n",
    "\n",
    "index.upsert(vectors=upsert_data)\n",
    "print(\"Data inserted into Pinecone index successfully.\")\n"
   ]
  },
  {
   "cell_type": "code",
   "execution_count": null,
   "metadata": {},
   "outputs": [
    {
     "name": "stdout",
     "output_type": "stream",
     "text": [
      "Query Results: {'matches': [{'id': 'doc_82',\n",
      "              'metadata': {'page': 83.0},\n",
      "              'score': 0.651050687,\n",
      "              'values': []},\n",
      "             {'id': 'doc_104',\n",
      "              'metadata': {'page': 105.0},\n",
      "              'score': 0.534242749,\n",
      "              'values': []},\n",
      "             {'id': 'doc_130',\n",
      "              'metadata': {'page': 131.0},\n",
      "              'score': 0.531795442,\n",
      "              'values': []}],\n",
      " 'namespace': '',\n",
      " 'usage': {'read_units': 6}}\n",
      "Relevant Text from Page 83.0:\n",
      "doc_82\n",
      "--------------------------------------------------\n",
      "Relevant Text from Page 105.0:\n",
      "doc_104\n",
      "--------------------------------------------------\n",
      "Relevant Text from Page 131.0:\n",
      "doc_130\n",
      "--------------------------------------------------\n"
     ]
    }
   ],
   "source": [
    "query = \"pesticides\"\n",
    "query_embedding = embeddings.embed_query(query)\n",
    "query_results = index.query(\n",
    "    vector=query_embedding,\n",
    "    top_k=3,  \n",
    "    include_metadata=True  \n",
    ")\n",
    "\n",
    "print(\"Query Results:\", query_results)\n",
    "\n",
    "for match in query_results['matches']:\n",
    "    if 'metadata' in match:\n",
    "        page_number = match['metadata'].get('page', 'Unknown') \n",
    "        chunk_content = match['id']  \n",
    "        print(f\"Relevant Text from Page {page_number}:\")\n",
    "        print(chunk_content)  \n",
    "        print(\"-\" * 50)\n",
    "    else:\n",
    "        print(\"Metadata not available for this match.\")\n"
   ]
  },
  {
   "cell_type": "code",
   "execution_count": null,
   "metadata": {},
   "outputs": [
    {
     "name": "stdout",
     "output_type": "stream",
     "text": [
      "Index Stats: {'dimension': 384,\n",
      " 'index_fullness': 0.0,\n",
      " 'namespaces': {'': {'vector_count': 156},\n",
      "                'example-namespace': {'vector_count': 2}},\n",
      " 'total_vector_count': 158}\n"
     ]
    }
   ],
   "source": [
    "index_stats = index.describe_index_stats()\n",
    "print(\"Index Stats:\", index_stats)\n"
   ]
  },
  {
   "cell_type": "code",
   "execution_count": 169,
   "metadata": {},
   "outputs": [],
   "source": [
    "upsert_data.append((doc_id, doc_embedding, {'page': doc[\"metadata\"]['page']})) \n"
   ]
  },
  {
   "cell_type": "code",
   "execution_count": null,
   "metadata": {},
   "outputs": [
    {
     "name": "stdout",
     "output_type": "stream",
     "text": [
      "Query Embedding: [-0.019679613411426544, 0.0416148379445076, 0.005692733451724052, -0.010976482182741165, 0.11296194046735764, 0.01559834647923708, 0.13478486239910126, 0.08976802974939346, -0.018598631024360657, 0.038664862513542175, 0.045998603105545044, 0.0317658856511116, -0.03998725861310959, -0.0011248104274272919, -0.08783333003520966, 0.08625058829784393, 0.009093382395803928, 0.02088168077170849, -0.032308708876371384, -0.011717255227267742, -0.034773360937833786, 0.10970418900251389, -0.01885462924838066, 0.025102881714701653, -0.09342272579669952, 0.06056830286979675, -0.04187406972050667, -0.004207308404147625, -0.014920918270945549, -0.09757011383771896, 0.04887916520237923, 0.11839834600687027, -0.033578045666217804, -0.06134151294827461, 0.005369465332478285, 0.02823817916214466, -0.024141479283571243, -0.025187520310282707, 0.016550511121749878, 0.014102372340857983, 0.028445161879062653, -0.019339604303240776, -0.036865778267383575, 0.010351764038205147, -0.060602493584156036, -0.022759050130844116, -0.010531054809689522, 0.030456718057394028, 0.029593726620078087, -0.043271880596876144, 0.05271252617239952, -0.028293030336499214, -0.021659277379512787, -0.018417062237858772, 0.01666996255517006, -0.15242023766040802, 0.005308669991791248, -0.016142137348651886, -0.05079555884003639, -0.006105209235101938, 0.00787350907921791, -0.027713188901543617, -0.011312523856759071, 0.0023601457942277193, 0.018394427374005318, -0.01133471354842186, 0.00844966247677803, 0.022105548530817032, 0.0547054298222065, -0.012345382012426853, 0.027293508872389793, -0.07629948854446411, 0.024202637374401093, 0.036441512405872345, 0.055608849972486496, 0.003557853400707245, -0.011375822126865387, -0.056643616408109665, 0.09083873778581619, -0.0890595018863678, -0.04838620498776436, -0.10196506232023239, 0.02683834359049797, 0.018289098516106606, 0.12432297319173813, -0.0464753620326519, 0.018042532727122307, 0.023940324783325195, 0.07478905469179153, 0.05645768716931343, 0.025963211432099342, 0.014857240952551365, 0.02165207639336586, -0.009569508023560047, -0.11571349203586578, 0.06365030258893967, -0.02401112951338291, -0.10065382719039917, -0.09156619757413864, 0.15974882245063782, -0.030673937872052193, -0.0159001424908638, -0.12751998007297516, -0.00913710705935955, -0.014038347639143467, -0.02594398520886898, 0.03568035736680031, -0.0035991529002785683, 0.028469165787100792, -0.018878819420933723, -0.10426211357116699, 0.04894256219267845, -0.0008686374058015645, 0.04242521524429321, -0.07235360145568848, -0.11244846135377884, 0.12594863772392273, -0.07721550762653351, 0.013031729497015476, -0.041501760482788086, 0.020238930359482765, 0.01180335320532322, -0.07971659302711487, 0.013600101694464684, 0.027932854369282722, -0.030171414837241173, -0.01937994360923767, -1.8221056915478035e-33, 0.017034124583005905, 0.04392304643988609, 0.036095838993787766, -0.01661953143775463, -0.0554421991109848, -0.014244552701711655, -0.05184022709727287, -0.002398575423285365, 0.07237455993890762, -0.018854081630706787, -0.041490960866212845, -0.14210693538188934, -0.06004249304533005, -0.00624170433729887, 0.09107444435358047, -0.02862357720732689, -0.007753525860607624, 0.05238199606537819, 0.07318396866321564, -0.03602282702922821, -0.08869107067584991, 0.0195467472076416, -0.11097316443920135, 0.027859319001436234, -0.00037218976649455726, 0.027642980217933655, -0.07564008980989456, -0.0013460954651236534, 0.01678316667675972, 0.018447063863277435, 0.12608836591243744, 0.015034321695566177, -0.08205246925354004, 0.0358966588973999, -0.03744302690029144, 0.020827895030379295, -0.07503527402877808, -0.028935492038726807, 0.014055692590773106, -0.0006983726634643972, -0.03108185902237892, -0.03937890753149986, 0.030794421210885048, 0.01760527864098549, 0.021533383056521416, -0.03665405511856079, -0.08286046981811523, 0.06346103549003601, -0.016274500638246536, 0.005351702217012644, -0.017959177494049072, -0.006583378650248051, 0.06151558458805084, -0.015593074262142181, 0.03571310266852379, 0.03443128988146782, -0.03545170649886131, -0.08732637017965317, -0.014297721907496452, 0.03970382735133171, 0.03643227741122246, 0.08990713953971863, -0.09475516527891159, -0.04538833722472191, 0.09217625111341476, -0.04911166429519653, 0.04423988237977028, 0.028922919183969498, 0.01018969900906086, -0.005541275721043348, -0.03196897730231285, -0.039423100650310516, 0.03987652435898781, 0.05197824165225029, -0.03770291805267334, 0.013820581138134003, -0.015613765455782413, 0.021485911682248116, -0.043484535068273544, 0.06187498942017555, 0.04718472808599472, -0.07562152296304703, -0.009485668502748013, -0.01806681603193283, -0.08811288326978683, 0.06269515305757523, -0.001775391516275704, -0.029335927218198776, 0.05235125496983528, 0.02381715178489685, 0.03276773542165756, -0.052045758813619614, -0.007359595503658056, -0.024337030947208405, -0.07375190407037735, 1.2169926993196721e-33, -0.051541768014431, -0.03245111182332039, 0.026220321655273438, 0.06494556367397308, 0.01832849718630314, -0.04001699760556221, -0.011728190816938877, 0.007127729244530201, 0.042247314006090164, 0.012824846431612968, -0.0124414823949337, 0.0024215567391365767, 0.01721874065697193, -0.03136120364069939, -0.026345347985625267, 0.036805473268032074, 0.044934678822755814, 0.01735878922045231, 0.03732339292764664, -0.09336446970701218, -0.10043984651565552, 0.0361480750143528, -0.00899337325245142, 0.004653413314372301, -0.02846503257751465, 0.031192313879728317, -0.023020470514893532, 0.017028074711561203, 0.05073266476392746, 0.024572383612394333, 0.0035464204847812653, 0.05133133754134178, 0.028656139969825745, -0.00569166149944067, 0.024521367624402046, -0.011106418445706367, -0.02243071421980858, -0.039454542100429535, -0.025165392085909843, -0.04495709761977196, 0.014834334142506123, 0.007927052676677704, 0.014370857737958431, 0.0444648452103138, 0.01299482025206089, 0.05159822851419449, -0.005766177549958229, 0.07848064601421356, 0.03977923095226288, -0.017622724175453186, 0.008840135298669338, 0.10577990114688873, -0.014643652364611626, -0.02013169601559639, 0.021963847801089287, -0.02692999504506588, 0.060736287385225296, -0.06527653336524963, 0.02151038870215416, 0.005510187242180109, 0.05776224657893181, 0.07330137491226196, -0.06840796768665314, 0.036307692527770996, -0.05510509014129639, 0.04727616161108017, -0.004522973205894232, 0.04760747402906418, 0.03079448826611042, -0.04045139253139496, 0.03691655769944191, 0.049316421151161194, 0.04499824345111847, -0.044383514672517776, -0.1090928316116333, -0.07359703630208969, 0.016624625772237778, 0.014515060000121593, -0.0113071883097291, -0.09551580995321274, 0.057557810097932816, -0.02905542217195034, 0.00815065298229456, -0.022112922742962837, -0.05908321961760521, -0.04505733773112297, -0.0683317631483078, -0.000689839303959161, 0.0034414087422192097, -0.023560913279652596, -0.09600482136011124, 0.01814698800444603, -0.007973908446729183, 0.1427069902420044, 0.021512821316719055, -1.3156249423218469e-08, 0.024763312190771103, -0.0026673413813114166, 0.07622382044792175, -0.09916925430297852, 0.0005250665708445013, 0.018650798127055168, 0.039680298417806625, 0.06891424208879471, 0.009833733551204205, -0.011677149683237076, -0.04573329538106918, 0.1176060289144516, 0.03543749451637268, -0.023566650226712227, 0.03929584473371506, 0.002138812094926834, -0.01551709696650505, -0.0025367806665599346, -0.03987513482570648, -0.032831743359565735, -0.03776366636157036, 0.05401061847805977, -0.06014396250247955, -0.06013539060950279, 0.0368056520819664, -0.009347277693450451, 0.10110160708427429, 0.019994447007775307, 0.10611692070960999, 0.0463990643620491, 0.029939359053969383, 0.04573196917772293, 0.016926035284996033, -0.02590722218155861, -0.02025914192199707, 0.0010993279283866286, -0.011623699218034744, -0.07411662489175797, 0.04449958726763725, 0.010999555699527264, -0.048402104526758194, 0.05198895186185837, -0.03131131827831268, -0.015167334116995335, 0.0431164912879467, -0.052561916410923004, 0.03142540529370308, 0.07565111666917801, -0.00020904465054627508, -0.033353228121995926, 0.03441596403717995, 0.037983670830726624, 0.010930254124104977, -0.002368159592151642, -0.04987014830112457, 0.019182918593287468, 0.09524145722389221, -0.08847972005605698, 0.021344395354390144, -0.046843595802783966, 0.01111882645636797, -0.0240459181368351, 0.14811618626117706, 0.09825609624385834]\n"
     ]
    }
   ],
   "source": [
    "query_embedding = embeddings.embed_query(query)\n",
    "print(\"Query Embedding:\", query_embedding)  \n"
   ]
  },
  {
   "cell_type": "code",
   "execution_count": null,
   "metadata": {},
   "outputs": [
    {
     "name": "stdout",
     "output_type": "stream",
     "text": [
      "Query Embedding: [0.029680246487259865, 0.06129743158817291, -0.03370066359639168, -0.01533570233732462, -0.033864203840494156, 0.0032583812717348337, 0.00834826659411192, 0.0806918740272522, -0.014677347615361214, 0.06164935603737831, 0.01547048520296812, 0.005265510641038418, -0.04761866480112076, 0.04125284403562546, -0.11030630767345428, 0.0008834531181491911, -0.0024403701536357403, -0.026703355833888054, -0.04244432970881462, 0.005490240640938282, -0.01653960533440113, 0.10397682338953018, -0.02615547366440296, 0.00632143160328269, 0.05557871609926224, -0.03442627191543579, -0.04304182529449463, -0.06300567090511322, 0.05484522879123688, -0.05312185734510422, 0.03205636516213417, 0.20340123772621155, -0.04799467697739601, -0.04524049162864685, 0.04145227000117302, -0.10089876502752304, 0.005436401814222336, 0.03823874890804291, 0.015076570212841034, -0.025531260296702385, 0.0511627122759819, 0.05089171230792999, -0.05141045153141022, 0.010146107524633408, -0.016213880851864815, 0.008103103376924992, -0.015400443226099014, 0.0551624558866024, 0.12354341149330139, -0.00660724239423871, 0.06849619001150131, -0.01011080201715231, 0.06290052086114883, 0.007623225450515747, 0.02228388749063015, -0.050021734088659286, 0.030981656163930893, 0.09914783388376236, -0.02568429335951805, 0.050554078072309494, -0.047893255949020386, -0.007476322818547487, 0.0004044456873089075, -0.03415277227759361, 0.0049732886254787445, -0.008914166130125523, -0.062238533049821854, -0.07128722220659256, 0.08929987251758575, -0.0038063786923885345, -0.03222877159714699, 0.01742260903120041, -0.0923113226890564, -0.05682472139596939, -0.05263517051935196, 0.015371246263384819, -0.020530983805656433, 0.006176105234771967, -0.03132098913192749, -0.057289306074380875, -0.023029999807476997, -0.058935653418302536, 0.009502910077571869, 0.03055414743721485, 0.044996634125709534, -0.023622116073966026, -0.0021243279334157705, 0.1236191838979721, 0.14115239679813385, 0.028080452233552933, 0.015670040622353554, -0.01182951033115387, -0.037360332906246185, -0.1223490908741951, -0.026169203221797943, 0.05909968167543411, 0.01709798350930214, -0.0406554713845253, -0.05474214255809784, -0.006405225954949856, 0.020990421995520592, 0.013502351008355618, 0.03420189395546913, -0.07786635309457779, 0.011158931069076061, 0.052958980202674866, 0.01211786363273859, -0.010246852412819862, 0.02883879654109478, 0.014475375413894653, -0.05455295741558075, -0.005853994749486446, -0.004333492834120989, -0.05124327912926674, -0.039776209741830826, 0.008890724740922451, 0.049928560853004456, -0.0534425787627697, 0.061298806220293045, -0.08040983229875565, -0.048003774136304855, -0.06129992753267288, -0.0041566211730241776, 0.05654340609908104, 0.020675523206591606, -0.09727320820093155, 0.005821180529892445, -4.452444564522549e-33, -0.02290342003107071, 0.07208951562643051, -0.026409689337015152, -0.044079605489969254, -0.011776650324463844, -0.027080493047833443, 0.05187779292464256, -0.03181459382176399, 0.025080278515815735, 0.012655160389840603, -0.03401987627148628, -0.015667779371142387, -0.05702909454703331, 0.00450873514637351, -0.0009494885453023016, -0.1325666457414627, 0.00290476786904037, 0.0324539951980114, 0.0003674307663459331, -0.03034425526857376, -0.05589115992188454, -0.002505709882825613, -0.08141258358955383, -0.04289322346448898, -0.024644650518894196, 0.021219978109002113, 0.055560123175382614, -0.021762505173683167, 0.11614678055047989, -0.005769660230726004, -0.014183717779815197, 0.05535779148340225, 0.04517613723874092, -0.010591716505587101, -0.02350202016532421, 0.03709671273827553, 0.03002610057592392, 0.011128176935017109, 0.007044542580842972, -0.02614501118659973, -0.0018948620418086648, 0.09732544422149658, 0.0428648516535759, -0.05853840708732605, -0.028202222660183907, -0.009274471551179886, 0.02334815450012684, 0.033754244446754456, -0.031277742236852646, -0.017416561022400856, -0.027630537748336792, 0.05589764937758446, -0.01592651568353176, 0.05576685816049576, -0.030936019495129585, -0.009843843057751656, 0.003495307406410575, -0.009852887131273746, 0.040297627449035645, 0.06176748126745224, 0.001849791151471436, 0.062029581516981125, -0.10219236463308334, 0.07605066895484924, 0.039232540875673294, -0.06661216914653778, -0.02360948920249939, 0.034673742949962616, 0.03133315593004227, 0.05680948123335838, -0.03606951981782913, 0.0063138543628156185, -0.0489710196852684, -0.09140816330909729, 0.03975449129939079, -0.009680597111582756, 0.0312345027923584, 0.004281002562493086, 0.030973875895142555, 0.02021096833050251, 0.009275311604142189, -0.01942049339413643, -0.08301524072885513, -0.01059108879417181, 0.026057783514261246, 0.043494172394275665, 0.04086717963218689, 0.09750509262084961, -0.07159923017024994, 0.0037509636022150517, 0.0663125291466713, 0.01165799144655466, -0.04126147925853729, 0.060412850230932236, 0.07147743552923203, 2.4383578702824185e-33, -0.029940785840153694, 0.019535474479198456, 0.15086345374584198, 0.10841194540262222, 0.03531185910105705, 0.06283113360404968, -0.004857274238020182, -0.01947447657585144, 0.014816300943493843, -0.030552713200449944, -0.06954526156187057, 0.08039918541908264, 0.0064909025095403194, 0.066926509141922, 0.02367841824889183, -0.051523979753255844, -0.06060933694243431, 0.08438272774219513, 0.06859447062015533, -0.008010143414139748, -0.05680427700281143, 0.0015066860942170024, -0.019829750061035156, -0.006306329742074013, -0.09512699395418167, 0.037256140261888504, -0.059953391551971436, 0.08094026148319244, 0.004298297688364983, 0.02897995337843895, -0.00042143408791162074, 0.00676090270280838, -0.0517490953207016, 0.02833086997270584, -0.08223825693130493, -0.045655325055122375, 0.03701742738485336, 0.12322599440813065, 0.02138202078640461, -0.003943369258195162, -0.00565671781077981, 0.04279165342450142, -0.012866304256021976, -0.040926553308963776, -0.019994918256998062, -0.07138419151306152, -0.04063265025615692, -0.013109213672578335, 0.03015151247382164, 0.058328449726104736, 0.024522343650460243, 0.050935208797454834, -0.046147577464580536, 0.03936083987355232, -0.05180425941944122, -0.0138616431504488, 0.031003808602690697, 0.011694062501192093, -0.04860008507966995, -0.0014117577811703086, -0.06346657872200012, 0.10830234736204147, -0.07355672121047974, 0.0007588865701109171, -0.06709785014390945, 0.002314014360308647, 0.02120782621204853, 0.025872591882944107, -0.02644370310008526, 0.02462926134467125, -0.11488503962755203, 0.01214379258453846, 0.13023293018341064, -0.014673669822514057, 0.05816197767853737, -0.019495781511068344, 0.04041961580514908, -0.05234817415475845, 0.1346939206123352, -0.09299520403146744, -0.008722436614334583, 0.02803078293800354, -0.013168822973966599, -0.052613142877817154, -0.011073277331888676, -0.08512949198484421, -0.0894133523106575, 0.015989508479833603, 0.04315480589866638, 0.0732913464307785, -0.05276378244161606, 0.008973456919193268, 0.0008393632597289979, -0.018794570118188858, 0.0013253920478746295, -1.21536976038783e-08, -0.06607752293348312, 0.08854606002569199, 0.04083508998155594, 0.0469856821000576, 0.09655743092298508, 0.018371140584349632, 0.037247173488140106, 0.08695152401924133, -0.02367720752954483, -0.047462571412324905, 0.01806606724858284, -0.014969701878726482, -0.00652080774307251, 0.024914393201470375, -0.09150770306587219, -0.0009135123691521585, 0.028947966173291206, 0.012593237683176994, -0.014552432112395763, 0.004056290257722139, 0.002034673700109124, 0.0169075820595026, -0.04995815083384514, -0.03220280632376671, -0.06795704364776611, 0.04484018310904503, -0.01662997528910637, 0.031240073963999748, 0.03484125807881355, 0.08011762797832489, 0.051306623965501785, 0.06893985718488693, -0.05543486028909683, 0.047669459134340286, -0.08511581271886826, -0.09869975596666336, -0.10917331278324127, 0.01595691777765751, -0.01959475502371788, -0.02426600083708763, 0.0020381808280944824, -0.002399897901341319, -0.11039979755878448, -0.04548560455441475, 0.02775540202856064, -0.046829525381326675, -0.07997845858335495, -0.041861437261104584, -0.06234854832291603, -0.016805117949843407, 0.08873581141233444, 0.04275039583444595, 0.03854312002658844, 0.0061710975132882595, 0.05256804823875427, 0.029458897188305855, 0.0010772515088319778, 0.003208313137292862, -0.0010709973284974694, -0.004980416037142277, -0.09798038005828857, -0.09698072075843811, -0.0029993231873959303, 0.02063646726310253]\n",
      "Answer: doc_116 doc_114 doc_112\n",
      "Source: ['doc_34', 'doc_99', 'doc_116', 'doc_114', 'doc_112']\n"
     ]
    }
   ],
   "source": [
    "query = \"Cost of Manual weeding\"\n",
    "query_embedding = embeddings.embed_query(query)\n",
    "print(\"Query Embedding:\", query_embedding)\n",
    "\n",
    "query_results = index.query(\n",
    "    vector=query_embedding,\n",
    "    top_k=5,\n",
    "    include_metadata=True\n",
    ")\n",
    "\n",
    "relevant_texts = [match['id'] for match in query_results['matches']]\n",
    "\n",
    "context = \" \".join(relevant_texts)\n",
    "\n",
    "answer = qa_model(question=query, context=context)\n",
    "\n",
    "print(f\"Answer: {answer['answer']}\")\n",
    "print(f\"Source: {relevant_texts}\")"
   ]
  },
  {
   "cell_type": "code",
   "execution_count": 229,
   "metadata": {},
   "outputs": [
    {
     "name": "stderr",
     "output_type": "stream",
     "text": [
      "Device set to use cpu\n"
     ]
    },
    {
     "name": "stdout",
     "output_type": "stream",
     "text": [
      "Query Embedding: [-0.004743300378322601, 0.02406845986843109, -0.0030078450217843056, -0.0339399091899395, 0.07750163972377777, 0.02759176678955555, 0.09297775477170944, 0.056098032742738724, -0.009916678071022034, 0.04257131367921829, 0.028250012546777725, 0.044081948697566986, -0.022661881521344185, -0.019270289689302444, -0.07121263444423676, 0.08621933311223984, -0.014453887939453125, 0.028896614909172058, 0.023208383470773697, -0.027259239926934242, -0.05111321806907654, 0.11523845046758652, -0.05502905324101448, -0.003988027106970549, -0.06587772071361542, 0.008047053590416908, -0.040974441915750504, 0.02306428737938404, -0.04284253343939781, -0.028769776225090027, 0.05797678977251053, 0.10386613756418228, -0.04912193492054939, -0.03485066443681717, 0.012585069052875042, 0.03994123637676239, -0.004072347655892372, -0.014823594130575657, -0.023290520533919334, -0.042093463242053986, 0.04506769776344299, 0.015910927206277847, -0.040694672614336014, 0.018880899995565414, -0.07349134981632233, 0.004679339472204447, -0.0016034921864047647, 0.034678660333156586, 0.019922364503145218, -0.08032014966011047, 0.0539543591439724, -0.007074282504618168, 0.0044385516084730625, 0.0032440628856420517, 0.013799129985272884, -0.12881258130073547, 0.06409148126840591, -0.049580082297325134, -0.05767622962594032, -0.016814347356557846, -0.002075929893180728, -0.03177808225154877, 0.022544153034687042, 0.006758898962289095, -0.019977157935500145, -0.003835823852568865, 0.022151876240968704, 0.021148914471268654, 0.052488405257463455, -0.024684738367795944, -0.01485790777951479, -0.08585157990455627, 0.015842603519558907, 0.01944849267601967, 0.06053324043750763, -0.008270803838968277, -0.05449337139725685, -0.042286261916160583, 0.051320530474185944, -0.065632663667202, -0.09029725193977356, -0.09748426079750061, 0.014851837418973446, -0.007836367934942245, 0.0820198729634285, -0.08932442218065262, -0.0006790938205085695, 0.05007397383451462, 0.1101849228143692, 0.0596989169716835, 0.0030303271487355232, 0.036616623401641846, 0.02863987162709236, -0.02555793523788452, -0.11961013823747635, 0.021152691915631294, -0.0053179762326180935, -0.08608648926019669, -0.07466398179531097, 0.08432367444038391, -0.027955438941717148, -0.03144437074661255, -0.13657017052173615, -0.0013595519121736288, -0.004339590668678284, -0.009658291935920715, 0.08476854115724564, -0.0023879508953541517, 0.030517444014549255, -0.039298851042985916, -0.11303664743900299, 0.06188596412539482, -0.016500653699040413, 0.050997670739889145, -0.06615132838487625, -0.14421939849853516, 0.1001216322183609, -0.05769895762205124, 0.047822196036577225, -0.05747094005346298, 0.024150080978870392, 0.037260595709085464, -0.08213283121585846, -0.0031103813089430332, 0.06726457178592682, -0.033897336572408676, -0.04320881888270378, -4.236389804867366e-33, 0.04288593307137489, 0.051666583865880966, 0.0022659748792648315, -0.03143790364265442, -0.052996549755334854, -0.01313710492104292, -0.03889462351799011, 0.019912496209144592, 0.07358492910861969, 0.0027839087415486574, -0.021454768255352974, -0.133201465010643, -0.027992747724056244, 0.016332615166902542, 0.07909002900123596, -0.011754283681511879, -0.03707560896873474, 0.05827995017170906, 0.08254588395357132, -0.02330423705279827, -0.06911937892436981, -0.005302950739860535, -0.11639533936977386, 0.006097717676311731, 0.04512517899274826, 0.04955148324370384, -0.10307479649782181, 0.015062801539897919, 0.014407111331820488, 0.005013687070459127, 0.09528832882642746, 0.011047481559216976, -0.05308499187231064, 0.06831958889961243, -0.05203283205628395, -0.0050921072252094746, -0.059659190475940704, -0.011853734031319618, 0.022100917994976044, -0.011877750046551228, -0.03364906087517738, -0.05934680625796318, 0.0446920283138752, 0.003632386215031147, -0.004172999411821365, -0.032982513308525085, -0.08206557482481003, 0.051152925938367844, -0.01778383180499077, 0.01105545274913311, -0.01108368206769228, -0.052906107157468796, 0.06625860184431076, -0.01702888123691082, 0.03241404891014099, 0.03228604421019554, -0.03384453058242798, -0.07926451414823532, -0.03925428166985512, 0.00970299169421196, 0.03621378168463707, 0.06230098381638527, -0.1049022227525711, -0.06816830486059189, 0.13307513296604156, -0.05715412274003029, 0.07542963325977325, 0.03878946602344513, 0.03732071816921234, -0.029458561912178993, 0.008375040255486965, -0.02068224549293518, 0.011401944793760777, 0.07587011158466339, -0.016134275123476982, 0.02523391880095005, -0.02693973295390606, 0.012707638554275036, -0.05871640145778656, 0.08114499598741531, 0.0549187958240509, -0.11262204498052597, -0.03774123266339302, -0.05113731324672699, -0.08343193680047989, 0.07588936388492584, 0.04049406945705414, -0.011211997829377651, 0.08706991374492645, -0.016379252076148987, 0.028034908697009087, -0.02586146630346775, -0.001719073043204844, -0.032944321632385254, -0.0658629909157753, 1.185754671630539e-33, -0.05614865943789482, -0.009287534281611443, 0.026981355622410774, 0.04246464744210243, 0.020524516701698303, -0.04212404787540436, -0.012574682012200356, 0.06462834030389786, 0.014217301271855831, -0.00036664475919678807, -0.017184657976031303, -0.011285698972642422, 0.0009320468525402248, -0.04724104329943657, -0.025498906150460243, -0.020211540162563324, 0.013969600200653076, -0.03514185920357704, 0.03614674508571625, -0.08690259605646133, -0.07703336328268051, 0.049616847187280655, -0.007286230567842722, -0.017315693199634552, -0.03901033475995064, -0.013485530391335487, 0.01697038672864437, 0.051415275782346725, 0.0441695973277092, 0.015939954668283463, 0.04046156257390976, 0.07607079297304153, 0.07126273959875107, -0.020302971825003624, 0.06724943220615387, -0.009869234636425972, -0.032501038163900375, -0.02263225056231022, -0.01024544332176447, -0.032289184629917145, -0.05266885459423065, 0.025942746549844742, -0.02295595593750477, -0.0131752360612154, -0.013065075501799583, 0.05095769837498665, 0.007821289822459221, 0.06714655458927155, 0.03423536941409111, -0.057342495769262314, 0.002056682948023081, 0.11981691420078278, 0.025884969159960747, -0.04595209285616875, 0.018786219879984856, -0.0313296765089035, 0.07127363234758377, -0.07837668061256409, 0.03085584007203579, -0.023737158626317978, 0.05549761652946472, 0.05254010111093521, -0.033542700111866, 0.022534260526299477, -0.05842054262757301, 0.044706791639328, 0.004656859673559666, 0.0571502260863781, 0.011372244916856289, -0.0003250623121857643, -0.013261338695883751, 0.03195945546030998, 0.08540836721658707, -0.04893698915839195, -0.08722499758005142, -0.09979517757892609, 0.06690996885299683, 0.01996711641550064, 0.001600709860213101, -0.09097758680582047, 0.09981241077184677, -0.026379480957984924, 0.032903946936130524, -0.025167083367705345, -0.05381124094128609, -0.037672653794288635, -0.1053071841597557, 0.027983201667666435, 0.011930200271308422, -0.02831510826945305, -0.05263102799654007, 0.0455678291618824, 0.020423060283064842, 0.12898768484592438, 0.006363687105476856, -1.4842037820983478e-08, 0.0340723842382431, -0.007012082729488611, 0.060847386717796326, -0.10104552656412125, -0.01896842196583748, -0.016891425475478172, -0.004909648559987545, 0.015890421345829964, 0.009683875367045403, -0.03511644899845123, -0.024643585085868835, 0.08891911059617996, 0.022731706500053406, -0.052699968218803406, 0.023777635768055916, 0.023815762251615524, -0.007478665094822645, -0.0038091419264674187, -0.017310714349150658, -0.019649459049105644, -0.0024426139425486326, 0.0269607063382864, -0.12022203207015991, -0.0828774943947792, 0.0683465376496315, 0.02007857896387577, 0.06997518986463547, -0.013097480870783329, 0.09269754588603973, 0.05580207705497742, 0.01974797248840332, 0.03621603921055794, 0.017111117020249367, -0.0017093729693442583, -0.04175613075494766, -0.008525184355676174, -0.019291533157229424, -0.07750263810157776, 0.03560198098421097, 0.011028856970369816, -0.041384365409612656, 0.07522527873516083, -0.027777114883065224, -0.013184024952352047, 0.029691392555832863, -0.041326090693473816, 0.045867741107940674, 0.05792960897088051, -0.004718177951872349, -0.019491957500576973, -0.0013911083806306124, 0.0620739571750164, 0.012109833769500256, -0.02224411815404892, -0.04739075154066086, 0.021024107933044434, 0.08878219872713089, -0.08418877422809601, 0.01867057755589485, -0.04285573959350586, -0.007614195812493563, -0.012595842592418194, 0.10436452180147171, 0.09505743533372879]\n",
      "Answer: 78 doc_104\n",
      "\n",
      "Source Documents:\n",
      "Document 1: doc_82...\n",
      "Document 2: doc_78...\n",
      "Document 3: doc_104...\n"
     ]
    }
   ],
   "source": [
    "from transformers import pipeline\n",
    "import pinecone\n",
    "import openai\n",
    "\n",
    "# Initialize HuggingFace's QA model\n",
    "qa_model = pipeline(\"question-answering\", model=\"distilbert-base-cased-distilled-squad\")\n",
    "\n",
    "# Sample query\n",
    "query = \"First aid for accidents\"\n",
    "\n",
    "# Embed the query (Assuming you have an embedding function ready)\n",
    "query_embedding = embeddings.embed_query(query)\n",
    "print(\"Query Embedding:\", query_embedding)\n",
    "\n",
    "# Query Pinecone for the most similar documents (ensure your Pinecone index is initialized)\n",
    "query_results = index.query(\n",
    "    vector=query_embedding,\n",
    "    top_k=3,  # Number of results to retrieve\n",
    "    include_metadata=True  # Ensure metadata is included in the results\n",
    ")\n",
    "\n",
    "# Extract the relevant texts from the metadata, not just the IDs\n",
    "relevant_texts = [match['id'] for match in query_results['matches']]\n",
    "\n",
    "# Combine the relevant texts for answering\n",
    "context = \" \".join(relevant_texts)\n",
    "\n",
    "# Use HuggingFace's QA model to get answers from the context\n",
    "answer = qa_model(question=query, context=context)\n",
    "\n",
    "# Print the answer to the terminal\n",
    "print(f\"Answer: {answer['answer']}\")\n",
    "\n",
    "# Display the source document(s)\n",
    "print(\"\\nSource Documents:\")\n",
    "for i, text in enumerate(relevant_texts):\n",
    "    print(f\"Document {i+1}: {text[:300]}...\")  # Show a preview of the document (first 300 characters)\n"
   ]
  },
  {
   "cell_type": "code",
   "execution_count": null,
   "metadata": {},
   "outputs": [
    {
     "name": "stderr",
     "output_type": "stream",
     "text": [
      "Device set to use cpu\n"
     ]
    },
    {
     "name": "stdout",
     "output_type": "stream",
     "text": [
      "Query Embedding: [-0.005455840844660997, 0.04378029704093933, 0.027246613055467606, -0.05369597673416138, 0.1302870810031891, 0.10018333047628403, 0.09596578776836395, 0.09120149910449982, 0.03518223762512207, 0.03687168285250664, 0.005097693298012018, 0.08385168015956879, -0.05342268943786621, -0.0072566973976790905, -0.017448030412197113, 0.07917889952659607, 0.06340646743774414, 0.04621367156505585, -0.007026128005236387, -0.05080143362283707, -0.08262111991643906, 0.05931633710861206, -0.012949647381901741, -0.009001050144433975, -0.11243610084056854, 0.009701870381832123, -0.09351880848407745, -0.00550502073019743, -0.02029586024582386, -0.03054545819759369, 0.07708901166915894, 0.12032710760831833, -0.013340627774596214, -0.08387485146522522, -0.044509340077638626, 0.012758138589560986, 3.7948622775729746e-05, 0.004364330321550369, -0.03473865985870361, -0.012602406553924084, -0.004949157126247883, -0.0017151961801573634, 0.006551692727953196, 0.02886059693992138, -0.06495911628007889, -0.10507474839687347, 0.002339137252420187, 0.004611549898982048, 0.05263127386569977, -0.10236087441444397, 0.062294382601976395, 0.02882707491517067, 0.01278366893529892, -0.037008754909038544, 0.04438004270195961, -0.07029763609170914, 0.010973656550049782, -0.023409761488437653, -0.09467858076095581, -0.03822038695216179, 0.0023902023676782846, -0.03526248782873154, -0.005901321768760681, -0.05451297014951706, 0.0041435412131249905, -0.06471402198076248, 0.035385217517614365, -0.015844281762838364, 0.015819760039448738, 0.0072739459574222565, -0.030506683513522148, -0.056849610060453415, 0.010343450121581554, -0.0036008202005177736, 0.00995041523128748, 0.023077400401234627, 0.0007702760049141943, -0.05079849809408188, 0.04451330006122589, -0.025407971814274788, -0.0576695054769516, -0.0675334632396698, 0.06678957492113113, 0.042054157704114914, 0.13166920840740204, -0.009965959936380386, -0.00702217873185873, -0.03849269449710846, 0.05436582863330841, 0.027158860117197037, 0.10378700494766235, 0.04817812517285347, 0.0010643263813108206, -0.05481648072600365, -0.09310577809810638, 0.021755192428827286, -0.04635702446103096, -0.053624946624040604, -0.08835644274950027, 0.06232354789972305, 0.003663211828097701, -0.021433919668197632, -0.10695887356996536, -0.04079693183302879, -0.019754203036427498, -0.014364480972290039, 0.09713012725114822, 0.0016968402778729796, 0.07644900679588318, 0.005243115592747927, -0.1037379652261734, 0.03787435591220856, -0.03096184693276882, 0.09170589596033096, -0.05921691656112671, -0.1119464635848999, 0.05889388546347618, -0.08430100977420807, 0.04093683138489723, -0.06763157248497009, 0.025433311238884926, 0.007538247387856245, -0.0705747976899147, 0.03879014402627945, 0.057887353003025055, -0.029279405251145363, 0.00856047123670578, -3.8702824566457494e-33, -0.013277541846036911, 0.04845374822616577, -0.024284198880195618, -0.0038511331658810377, -0.05347667634487152, -0.025696393102407455, -0.061121147125959396, -0.03235913813114166, 0.07876817137002945, -0.05769724398851395, -0.02453315071761608, -0.08362545073032379, 0.029772626236081123, 0.02813040092587471, 0.035249147564172745, 0.007701599504798651, -0.016155416145920753, 0.025290176272392273, 0.06491552293300629, -0.008011069148778915, -0.02688995562493801, -0.07279522716999054, -0.03880893439054489, 0.010136625729501247, 0.010499170050024986, 0.034784216433763504, -0.02966688573360443, 0.06481272727251053, 0.025991106405854225, 0.01665068231523037, 0.127825528383255, -0.01291808020323515, -0.08555736392736435, 0.038545604795217514, -0.02765260450541973, 0.04146251454949379, -0.10799722373485565, -0.06167241558432579, 0.030412012711167336, 0.014890925027430058, -0.021005837246775627, -0.02511690929532051, 0.04973505809903145, 0.0273425355553627, 0.032626476138830185, -0.03561730310320854, -0.06800343841314316, 0.057439692318439484, -0.02333088219165802, -0.027574002742767334, 0.029720885679125786, -0.003647605190053582, 0.01588185504078865, -0.057339590042829514, 0.050012171268463135, 0.0394749790430069, -0.0446799173951149, -0.07149358838796616, -0.010504622012376785, 0.0166008397936821, -0.05781703069806099, -0.004011521115899086, -0.04738035425543785, -0.04644082859158516, 0.11573833972215652, 0.0003956713480874896, 0.07370509207248688, 0.03280346468091011, 0.005392891354858875, -0.020701939240098, -0.008740863762795925, -0.049927860498428345, -0.014569789171218872, 0.01963718794286251, -0.003576084738597274, 0.008137164637446404, -0.03113308921456337, -0.021065622568130493, -0.0017755188746377826, 0.10828956961631775, 0.06984410434961319, -0.11685787886381149, -0.04073859378695488, 0.010706176981329918, -0.045777395367622375, 0.01418116595596075, 0.04350057989358902, -0.04112245514988899, 0.07299797236919403, -0.0011241582687944174, 0.04746032878756523, -0.03902804106473923, -0.02285221964120865, -0.03369146212935448, -0.08632907271385193, 1.3969540886038486e-33, -0.015381504781544209, -0.0007260533748194575, 0.013013026677072048, 0.0066458238288760185, 0.01442602090537548, -0.042780112475156784, 0.0022511444985866547, -0.05341566726565361, 0.016305172815918922, -0.00820765271782875, -0.025292405858635902, 0.022448766976594925, -0.0185986515134573, -0.05530373379588127, 0.005870612803846598, 0.016543902456760406, -0.005993281025439501, -0.07292526960372925, 0.0049863774329423904, -0.13368263840675354, -0.031595293432474136, 0.0638263002038002, 0.008298022672533989, -0.003397884778678417, -0.0355919748544693, -0.008097677491605282, -0.11597923934459686, -0.020117521286010742, 0.0368487648665905, 0.00983230397105217, 0.028087522834539413, 0.024037320166826248, 0.029798060655593872, -0.042145706713199615, 0.06301382929086685, 0.02741297334432602, -0.032502371817827225, -0.003355236491188407, 0.0030482306610792875, -0.017851989716291428, -0.0507134273648262, 0.06912380456924438, 0.032632384449243546, -0.05477363243699074, 0.001623203163035214, 0.09733501821756363, 0.028286375105381012, 0.09842563420534134, 0.039097659289836884, 0.02365342527627945, 0.07266293466091156, 0.07154330611228943, 0.005416310857981443, -0.06598809361457825, 0.03566429764032364, -0.01469816081225872, 0.060388609766960144, -0.06492283195257187, 0.007260827347636223, 0.007766644936054945, -0.002409936161711812, 0.10142748802900314, -0.03445148840546608, 0.05283325910568237, -0.050462305545806885, 0.0442742221057415, -0.007482121232897043, 0.06699052453041077, 0.022015836089849472, -0.0626310408115387, -0.007721369620412588, 0.03145395591855049, 0.08911949396133423, -0.04339408501982689, -0.11427947133779526, -0.0009306124411523342, 0.0731714591383934, 0.004903521854430437, -0.040861133486032486, -0.015221737325191498, -0.0035216091200709343, -0.028812864795327187, 0.015750514343380928, -0.07377820461988449, -0.04953509569168091, -0.013852832838892937, -0.04734813794493675, 0.021638551726937294, 0.004730218555778265, -0.0479198694229126, -0.04184570163488388, -0.011789550073444843, -0.005767627153545618, 0.10203158855438232, 0.020326023921370506, -1.5369424843925117e-08, -0.01496800035238266, 0.012734891846776009, 0.03636734560132027, -0.1393383890390396, -0.0851530134677887, -0.035536810755729675, -0.0010563342366367579, 0.11466709524393082, 0.030369874089956284, -0.020966002717614174, -0.024280155077576637, 0.0920751541852951, -0.01908249780535698, 0.018252907320857048, 0.08501164615154266, 0.0348176546394825, 0.011643061414361, -0.0044954195618629456, -0.06384117901325226, -0.05057516321539879, 0.013786742463707924, 0.025339942425489426, -0.11186806857585907, -0.04624779894948006, 0.05438138544559479, 0.04012659564614296, 0.07360833883285522, -0.013947494328022003, 0.05991049110889435, 0.043987639248371124, 0.04629957303404808, 0.0442451648414135, 0.03179773688316345, 0.0516427606344223, 0.007997383363544941, 0.02158927358686924, -0.025251872837543488, -0.07935255020856857, 0.04890594258904457, 0.02415814995765686, -0.006054198369383812, 0.05234641209244728, -0.059074029326438904, 0.015950549393892288, 0.01987086795270443, -0.06795389205217361, 0.029827872291207314, 0.0864861011505127, -0.06986770033836365, 0.025160998106002808, 0.00014553259825333953, 0.014721704646945, 0.030436566099524498, -0.011875787749886513, -0.01697585918009281, 0.007554654963314533, 0.09973951429128647, -0.11181500554084778, 0.01403984148055315, -0.04333280771970749, -0.03926844894886017, 0.0006981204496696591, 0.09652621299028397, 0.0443304106593132]\n",
      "Metadata for Document 1: {'page': 83.0}\n",
      "Metadata for Document 2: {'page': 104.0}\n",
      "Metadata for Document 3: {'page': 105.0}\n",
      "Answer: Page 83.0: Text content is unavailable in metadata\n",
      "\n",
      "Source Documents:\n",
      "Document 1: Page 83.0: Text content is unavailable in metadata....\n",
      "Document 2: Page 104.0: Text content is unavailable in metadata....\n",
      "Document 3: Page 105.0: Text content is unavailable in metadata....\n"
     ]
    }
   ],
   "source": [
    "from transformers import pipeline\n",
    "import pinecone\n",
    "import openai\n",
    "\n",
    "# Initialize HuggingFace's QA model\n",
    "qa_model = pipeline(\"question-answering\", model=\"distilbert-base-cased-distilled-squad\")\n",
    "\n",
    "# Sample query\n",
    "query = \"Why are pesticides useful\"\n",
    "\n",
    "# Embed the query (Assuming you have an embedding function ready)\n",
    "query_embedding = embeddings.embed_query(query)\n",
    "print(\"Query Embedding:\", query_embedding)\n",
    "\n",
    "# Query Pinecone for the most similar documents (ensure your Pinecone index is initialized)\n",
    "query_results = index.query(\n",
    "    vector=query_embedding,\n",
    "    top_k=3,  # Number of results to retrieve\n",
    "    include_metadata=True  # Ensure metadata is included in the results\n",
    ")\n",
    "\n",
    "# Debug: Print the metadata of the query results to inspect its structure\n",
    "for i, match in enumerate(query_results['matches']):\n",
    "    print(f\"Metadata for Document {i+1}: {match['metadata']}\")  # Check the structure of the metadata field\n",
    "\n",
    "# Check if 'text' is missing but we can use 'page' to retrieve text\n",
    "relevant_texts = []\n",
    "for match in query_results['matches']:\n",
    "    if 'text' in match['metadata']:\n",
    "        relevant_texts.append(match['metadata']['text'])\n",
    "    elif 'page' in match['metadata']:\n",
    "        # Handle page number lookup if 'text' is not available\n",
    "        # This assumes you have a mechanism to fetch text based on page number\n",
    "        page_number = match['metadata']['page']\n",
    "        relevant_texts.append(f\"Page {page_number}: Text content is unavailable in metadata.\")  # Placeholder\n",
    "\n",
    "# If all documents are missing text, handle gracefully\n",
    "if not relevant_texts:\n",
    "    print(\"Warning: All documents are missing text in their metadata.\")\n",
    "\n",
    "# Combine the relevant texts for answering\n",
    "context = \" \".join(relevant_texts)\n",
    "\n",
    "# Use HuggingFace's QA model to get answers from the context\n",
    "answer = qa_model(question=query, context=context)\n",
    "\n",
    "# Print the answer to the terminal\n",
    "print(f\"Answer: {answer['answer']}\")\n",
    "\n",
    "# Display the source document(s)\n",
    "print(\"\\nSource Documents:\")\n",
    "for i, text in enumerate(relevant_texts):\n",
    "    print(f\"Document {i+1}: {text[:300]}...\")  # Show a preview of the document (first 300 characters)\n"
   ]
  },
  {
   "cell_type": "code",
   "execution_count": 271,
   "metadata": {},
   "outputs": [
    {
     "name": "stderr",
     "output_type": "stream",
     "text": [
      "Device set to use cpu\n"
     ]
    },
    {
     "name": "stdout",
     "output_type": "stream",
     "text": [
      "Query Embedding: [-0.03503197059035301, 0.00795325543731451, 0.04602658748626709, -0.025552069768309593, -0.04203873127698898, -0.02762184478342533, -0.05330956354737282, 0.033666301518678665, 0.009664434008300304, 0.005115183535963297, -0.005700603127479553, -0.0435209684073925, -0.029764892533421516, -0.058728836476802826, 0.07083705067634583, -0.0026956575457006693, -0.039573803544044495, -0.009005469270050526, -0.04698815941810608, -0.038688283413648605, 0.0017777091125026345, 0.03380338475108147, -0.0669330358505249, -0.007904496975243092, -0.030843539163470268, 0.018460841849446297, 0.04389534145593643, 0.07017964124679565, 0.04868710786104202, -0.17063376307487488, 0.012575263157486916, 0.018990760669112206, 0.10270581394433975, 0.012849986553192139, -0.023110127076506615, -0.04703689366579056, -0.05049538239836693, -0.050964225083589554, 0.012273811735212803, -0.03422912210226059, 0.018958520144224167, -0.03864239528775215, -0.005127340089529753, 0.08535311371088028, -0.026822587475180626, -0.03656167909502983, -0.019514890387654305, -0.036086827516555786, 0.06788360327482224, -0.005324551369994879, 0.05643452703952789, 0.02070547081530094, 0.024539442732930183, 0.046279847621917725, 0.061852939426898956, -0.07359287887811661, -0.08704233914613724, -0.010272962972521782, -0.05262652784585953, 0.001995563507080078, -0.05952440947294235, 0.04855363816022873, -0.06939339637756348, 0.06018057465553284, -0.10981567203998566, 0.059818901121616364, -0.03409208729863167, -0.015188162215054035, -0.03459102287888527, -0.06332924216985703, -0.09169983118772507, -0.013805259019136429, -0.05917567387223244, 0.0773870050907135, 0.05448150634765625, -0.05480858311057091, 0.02578521892428398, -0.0484238900244236, 0.04265289381146431, 0.007360400166362524, -0.008498713374137878, 0.03243539482355118, -0.0015099408337846398, -0.1029350534081459, 0.044961605221033096, -0.03312067687511444, 0.044907983392477036, -0.01641836389899254, 0.010517966002225876, -0.0008133986848406494, 0.06032007560133934, -0.027326343581080437, -0.010526319034397602, 0.04773002862930298, 0.05158783122897148, 0.07022352516651154, 0.03646710515022278, -0.03540678694844246, -0.03231623396277428, 0.07648789137601852, 0.020518433302640915, 0.01373820099979639, -0.08102261275053024, -0.0336124524474144, -0.12616267800331116, -0.08780642598867416, 0.04507618770003319, 0.03598109632730484, -0.04982435330748558, -0.04459097608923912, 0.044210176914930344, -0.07917483896017075, -0.027563340961933136, -0.01531591173261404, 0.0012699380749836564, 0.030145371332764626, -0.0709369108080864, -0.04995561018586159, 0.06892544031143188, -0.07495855540037155, -0.0643681213259697, 0.030213920399546623, -0.046997565776109695, 0.12032070010900497, -0.012288917787373066, -0.05219436436891556, 0.05479724705219269, 3.5698854263060908e-34, -0.08344209939241409, 0.06203345209360123, -0.030050722882151604, 0.0710626095533371, -0.023532604798674583, 0.05443798378109932, 0.061944328248500824, 0.0680774673819542, -0.08339464664459229, 0.006925950758159161, -0.04222879558801651, 0.10486506670713425, -0.001185051049105823, 0.0582626610994339, -0.03875167295336723, -0.00947627890855074, 0.05340583622455597, 0.18073563277721405, 0.03900438919663429, -0.006979573052376509, 0.014132201671600342, -0.019503535702824593, 0.04408407583832741, -0.026152711361646652, 0.048345353454351425, 0.055444203317165375, -0.00753789534792304, -0.03449815511703491, 0.036237578839063644, 0.014093294739723206, -0.024474414065480232, -0.10271083563566208, 0.01946600154042244, 0.02248426340520382, -0.036025211215019226, 0.07462459802627563, -0.021329162642359734, 0.05339109152555466, 0.03794963285326958, 0.07959164679050446, -0.025480201467871666, 0.04428175464272499, -0.028986874967813492, -0.05743638053536415, -0.11873789131641388, 0.03650273382663727, -0.06543884426355362, 0.0663537085056305, 0.018900008872151375, 0.036336615681648254, -0.013232448138296604, -0.02282124012708664, 0.016952116042375565, -0.0336051806807518, 0.0470716692507267, 0.04953542724251747, -0.035018596798181534, 0.018711380660533905, -0.009414633736014366, 0.007789064664393663, -0.03118732012808323, 0.07396095991134644, -0.09710824489593506, 0.04847388342022896, -0.09279607236385345, 0.01239339355379343, -0.0017132414504885674, -0.11739934980869293, 0.010445247404277325, -0.008013730868697166, 0.010590924881398678, 0.019653968513011932, 0.049529410898685455, 0.012818040326237679, 0.025123195722699165, 0.00021492822270374745, -0.04694775864481926, -0.008535811677575111, 0.014080722816288471, 0.08678679168224335, -0.07024583965539932, 0.05976319685578346, -0.003609085688367486, 0.010105622932314873, 0.043010078370571136, -0.07380696386098862, -0.016852406784892082, -0.015373842790722847, 0.04116836190223694, 0.03439197689294815, 0.010829088278114796, -0.042402468621730804, -0.041359465569257736, 0.01154942624270916, 0.006280634086579084, -1.3361805255711075e-34, 0.0328325591981411, -0.03658108785748482, -0.07862166315317154, 0.03585364297032356, -0.006042639724910259, 0.023021141067147255, 0.08003013581037521, 0.05134689062833786, 0.09244748204946518, 0.12715192139148712, 0.1680888533592224, -0.004801088944077492, 0.03355243429541588, -0.046766478568315506, -0.0036943121813237667, -0.07346155494451523, -0.04468902572989464, -0.004367100074887276, -0.004280233755707741, 0.023540569469332695, -0.06899724900722504, 0.0003922022588085383, 0.0231485515832901, 0.01673513650894165, 0.07945752888917923, 0.015667086467146873, -0.06802598387002945, 0.07364992052316666, -0.04407310485839844, -0.013901414349675179, -0.01861700788140297, -0.047393299639225006, 0.011709668673574924, 0.04432632401585579, -0.11847048252820969, 0.0704682245850563, 0.031293172389268875, 0.0946965217590332, 0.045791205018758774, -0.0034799533896148205, 0.014333946630358696, 0.03842530399560928, -0.07172852009534836, 0.03472956269979477, -0.012931164354085922, -0.06685823947191238, -0.01061350665986538, -0.023409735411405563, 0.025682030245661736, -0.06177585572004318, -0.015002286992967129, 0.07947183400392532, 0.05536574497818947, 0.00911395251750946, -0.022191820666193962, 0.0429871566593647, -0.0446966178715229, 0.013741828501224518, -0.04722554236650467, -0.06359339505434036, -0.016729235649108887, 0.0013900328194722533, 0.01848035864531994, -0.011961008422076702, 0.11104816198348999, -0.022949419915676117, -0.037048280239105225, -0.04616347700357437, -0.028796976432204247, -0.05253453552722931, 0.08672850579023361, -0.03468216210603714, -0.10319080203771591, -0.02771718055009842, 0.029250368475914, 0.034298576414585114, 0.07407504320144653, -0.003099453402683139, 0.012245330028235912, 0.03632279112935066, -0.011862530373036861, -0.016977639868855476, -0.05631697550415993, 0.03730829432606697, -0.0472925566136837, 0.038317132741212845, 0.05694405362010002, 0.038853228092193604, -0.0074380990117788315, 0.022358715534210205, -0.04727063328027725, 0.05333498865365982, 0.05574445053935051, 0.11446458846330643, 0.01456397958099842, -1.310657538056148e-08, -0.07423704862594604, 0.0523904487490654, -0.008167638443410397, 0.01426293421536684, 0.05258017033338547, 0.02184915915131569, 0.055650580674409866, 0.0686505064368248, 0.047788675874471664, 0.05922713875770569, -0.02592058666050434, -0.062297940254211426, -0.017522552981972694, -0.03163982182741165, 0.05498863756656647, 0.08461906760931015, 0.0049090515822172165, 0.0056505571119487286, -0.012931359000504017, -0.012797433882951736, -0.0006066522910259664, 0.03483547270298004, -0.060611825436353683, -0.02472657896578312, 0.06490565836429596, -0.01924549974501133, 0.009343423880636692, 0.04612472653388977, 0.01637466810643673, -0.04902895167469978, -0.028065957129001617, 0.025520632043480873, -0.0338970385491848, 0.004520840011537075, -0.009343662299215794, 0.029220011085271835, 0.034656375646591187, 0.10040272772312164, -0.04117589816451073, 0.14416056871414185, -0.08358972519636154, 0.008476789109408855, -0.00772479921579361, -0.06415686011314392, -0.02696174755692482, -0.03458194062113762, -0.06693344563245773, -0.02526063472032547, 0.04719022288918495, -0.08200693875551224, -0.025998903438448906, -0.009334973059594631, 0.03713945671916008, -0.0035496035125106573, -0.043273232877254486, 0.036620281636714935, -0.04993906989693642, 0.009668057784438133, 0.01782088167965412, 0.08170519769191742, 0.03878811001777649, 0.015862012282013893, -0.0028338502161204815, 0.07036378979682922]\n",
      "Metadata for Document 1: {'page': 82.0}\n",
      "Metadata for Document 2: {'page': 141.0}\n",
      "Metadata for Document 3: {'page': 125.0}\n",
      "Answer: Economic Threshold Level\n",
      "\n",
      "Source Documents:\n",
      "Document 1: 74\n",
      "Plant Protection\n",
      "Farmer’s Handbook on Basic Agriculture\n",
      "sequence instead of one single crop.\n",
      "•\t Keeping the fields clean: Managing the weeds \n",
      "which provides home for pests, treating the seeds with pesticides, growing the crops in sea-sons where pest incidence is less, application of correct dose ...\n",
      "Document 2: Farmer's Access to Service\n",
      "Farmer’s Handbook on Basic Agriculture\n",
      "133livestock, fisheries, inputs, credit, government \n",
      "scheme benefits, through toll free number 1800 180 \n",
      "1551 OR  1551  from 6 A.M. to 10 P .M. except on \n",
      "Sundays and Gazetted holidays. Beyond these hours the calls are attended in the...\n",
      "Document 3: Farm Management\n",
      "Farmer’s Handbook on Basic Agriculture\n",
      "117Expenditure Jan Feb Mar Apr May Jun Jul Aug Sept Oct Nov Dec\n",
      "Paddy\n",
      " (1 ha) - Kharif\n",
      "Cost of Inputs including labour 6550 18610 7400 3450 8150 2000\n",
      "Paddy(1 ha) - Summer\n",
      "Cost of Inputs including labour   18610 7400 3450 8150 2000 6550\n",
      "Household...\n"
     ]
    }
   ],
   "source": [
    "from transformers import pipeline\n",
    "import pinecone\n",
    "import openai\n",
    "import PyPDF2\n",
    "\n",
    "# Initialize HuggingFace's QA model\n",
    "qa_model = pipeline(\"question-answering\", model=\"distilbert-base-cased-distilled-squad\")\n",
    "\n",
    "# Sample query\n",
    "\n",
    "query = \"ETL fullform\"\n",
    "\n",
    "# Embed the query (Assuming you have an embedding function ready)\n",
    "query_embedding = embeddings.embed_query(query)\n",
    "print(\"Query Embedding:\", query_embedding)\n",
    "\n",
    "# Query Pinecone for the most similar documents (ensure your Pinecone index is initialized)\n",
    "query_results = index.query(\n",
    "    vector=query_embedding,\n",
    "    top_k=3,  # Number of results to retrieve\n",
    "    include_metadata=True  # Ensure metadata is included in the results\n",
    ")\n",
    "\n",
    "# Debug: Print the metadata of the query results to inspect its structure\n",
    "for i, match in enumerate(query_results['matches']):\n",
    "    print(f\"Metadata for Document {i+1}: {match['metadata']}\")  # Check the structure of the metadata field\n",
    "\n",
    "# Function to extract text from a PDF page\n",
    "def extract_text_from_pdf(pdf_path, page_num):\n",
    "    with open(pdf_path, 'rb') as f:\n",
    "        pdf_reader = PyPDF2.PdfReader(f)\n",
    "        page = pdf_reader.pages[page_num]\n",
    "        return page.extract_text()\n",
    "\n",
    "# Assuming your PDF file is called \"document.pdf\"\n",
    "pdf_path = \"farmerbook.pdf\"\n",
    "\n",
    "# Check if 'text' is missing but we can use 'page' to retrieve text\n",
    "relevant_texts = []\n",
    "for match in query_results['matches']:\n",
    "    if 'text' in match['metadata']:\n",
    "        relevant_texts.append(match['metadata']['text'])\n",
    "    elif 'page' in match['metadata']:\n",
    "        # Handle page number lookup if 'text' is not available\n",
    "        page_number = int(match['metadata']['page']) - 1  # Adjust for zero-based index\n",
    "        try:\n",
    "            # Extract the text of the page from the PDF\n",
    "            page_text = extract_text_from_pdf(pdf_path, page_number)\n",
    "            relevant_texts.append(page_text if page_text else f\"Page {page_number + 1}: Text content is unavailable.\")\n",
    "        except Exception as e:\n",
    "            relevant_texts.append(f\"Error extracting text from page {page_number + 1}: {e}\")\n",
    "\n",
    "# If all documents are missing text, handle gracefully\n",
    "if not relevant_texts:\n",
    "    print(\"Warning: All documents are missing text in their metadata.\")\n",
    "\n",
    "# Combine the relevant texts for answering\n",
    "context = \" \".join(relevant_texts)\n",
    "\n",
    "# Use HuggingFace's QA model to get answers from the context\n",
    "answer = qa_model(question=query, context=context)\n",
    "\n",
    "# Print the answer to the terminal\n",
    "print(f\"Answer: {answer['answer']}\")\n",
    "\n",
    "# Display the source document(s)\n",
    "print(\"\\nSource Documents:\")\n",
    "for i, text in enumerate(relevant_texts):\n",
    "    print(f\"Document {i+1}: {text[:300]}...\")  # Show a preview of the document (first 300 characters)\n"
   ]
  },
  {
   "cell_type": "code",
   "execution_count": 289,
   "metadata": {},
   "outputs": [
    {
     "name": "stderr",
     "output_type": "stream",
     "text": [
      "Device set to use cpu\n"
     ]
    },
    {
     "name": "stdout",
     "output_type": "stream",
     "text": [
      "Query Embedding: [-0.07541685551404953, -0.007403411902487278, 0.034636978060007095, 0.0030003271531313658, 0.03374212235212326, -0.04918873310089111, 0.015895476564764977, 0.009360406547784805, 0.11298386007547379, 0.023689698427915573, -0.003974025137722492, -0.04490715637803078, 0.010921369306743145, 0.007076033391058445, 0.0035128435119986534, 0.008005197159945965, -0.03647109866142273, -0.0024683454539626837, -0.05192990228533745, -0.09805534780025482, -0.002245626412332058, 0.02588476985692978, -0.04305529594421387, -0.008066317066550255, -0.0396982803940773, 0.014914672821760178, 0.04382815212011337, 0.06949348002672195, -0.028008194640278816, -0.13292071223258972, 0.04082533344626427, 0.006113938521593809, -0.004123073071241379, 0.004726920276880264, -0.037823546677827835, -0.011954301968216896, -0.01323096826672554, -0.05859430506825447, -0.01513008214533329, -0.052743665874004364, 0.0035404774826020002, -0.042580746114254, -0.029550572857260704, -0.044333506375551224, -0.017426323145627975, -0.02567424438893795, -0.06264948844909668, -0.050109874457120895, 0.01767050288617611, 0.007299491669982672, 0.07728549093008041, 0.019546696916222572, 0.02475782111287117, -0.023546122014522552, 0.05037262290716171, -0.04713905602693558, 0.01818976365029812, -0.051174346357584, -0.07020696997642517, 0.03055204451084137, 0.06110391765832901, -0.03777812421321869, -0.06793937087059021, 0.09067049622535706, -0.15500670671463013, 0.048932746052742004, 0.03152027726173401, 0.005302631761878729, 0.007877500727772713, -0.036669306457042694, -0.08279427886009216, -0.0885503813624382, 0.011681734584271908, 0.10198098421096802, 0.036807816475629807, -0.07917940616607666, 0.07792657613754272, -0.07176775485277176, 0.021500756964087486, -0.02013377845287323, -0.0649876520037651, 0.06426827609539032, -0.04096047580242157, -0.04903954267501831, 0.02785237319767475, 0.0008303347858600318, 0.06937016546726227, -0.010764077305793762, 0.0017597706755623221, -0.008817017078399658, 0.06686308979988098, 0.01619083620607853, -0.01934840716421604, -0.003617719514295459, 0.12858164310455322, 0.03772628307342529, 0.006443500053137541, -0.0520763099193573, -0.039643991738557816, 0.02918008714914322, 0.00818105973303318, 0.08239837735891342, -0.06388915330171585, -0.014168485067784786, -0.09000111371278763, -0.07925916463136673, 0.02466815710067749, 0.008921273052692413, -0.08135898411273956, -0.06329666823148727, 0.03165527433156967, -0.07693614810705185, -0.022596437484025955, 0.04014073312282562, -0.02410920523107052, 0.03970706835389137, -0.023405374959111214, -0.046710580587387085, 0.131166473031044, -0.07559464871883392, -0.012300116010010242, -0.010438138619065285, -0.006335653364658356, 0.13769538700580597, 0.03502878546714783, -0.06257934868335724, 0.03478454053401947, -4.9617546753231676e-33, -0.07485058903694153, 0.0017587863840162754, -0.08692538738250732, 0.06911369413137436, -0.0046833171509206295, 0.022520868107676506, 0.07932072132825851, 0.035278141498565674, -0.049566734582185745, -0.03143594041466713, -0.007070581428706646, 0.06788767874240875, 0.050836969166994095, 0.062899649143219, 0.019460072740912437, 0.025318937376141548, -0.008218557573854923, 0.06559326499700546, 0.010321083478629589, -0.0015211672289296985, 0.030117018148303032, -0.04233642295002937, 0.06694473326206207, -0.04597350209951401, -0.027225879952311516, 0.054111067205667496, -0.03230335935950279, -0.05616500601172447, 0.08507715910673141, 0.004883664660155773, -0.000784230709541589, -0.030545596033334732, 0.06019715592265129, 0.0681384727358818, -0.019659612327814102, 0.10418757796287537, 0.04318320006132126, 0.08767331391572952, 0.10662764310836792, 0.09881335496902466, 0.01499259378761053, 0.03248085454106331, -0.010358263738453388, -0.009483645670115948, -0.08674241602420807, 0.04989168420433998, -0.07933662086725235, 0.03829295188188553, -0.09457261860370636, 0.0021555409766733646, 0.03221848979592323, -0.006726881023496389, 0.05857514590024948, -0.021503930911421776, 0.06505238264799118, 0.025209827348589897, -0.050014689564704895, 0.029175810515880585, -0.04081854969263077, 0.03518110513687134, -0.0392993688583374, 0.058042388409376144, -0.04153568297624588, 0.036650195717811584, 0.10065177083015442, 0.034318361431360245, -0.011128039099276066, -0.06983106583356857, -0.03331482410430908, 0.003235547337681055, 0.008750684559345245, 0.08359622210264206, 0.06555578857660294, 0.04466276988387108, 0.013357976451516151, 0.00047079045907594264, -0.07752598822116852, 0.04148795083165169, -0.00625269440934062, 0.11033480614423752, -0.06129331514239311, 0.01209053210914135, -0.0031221513636410236, -0.02887652814388275, 0.00399508373811841, -0.11467881500720978, -0.020702799782156944, 0.042539045214653015, 0.03769725188612938, -0.014955438673496246, 0.03177972510457039, -0.004250705242156982, 0.0062934053130447865, 0.05253013223409653, 0.0002887830196414143, 2.461721738859973e-33, 0.06485357135534286, -0.04297361150383949, -0.01650838926434517, 0.05661122873425484, 0.0013506211107596755, -0.029850099235773087, 0.021183380857110023, -0.004638345912098885, 0.06356112658977509, 0.12434984743595123, 0.08657492697238922, -0.0020421999506652355, 0.027200987562537193, 0.02737800031900406, 0.04438083991408348, -0.07046694308519363, -0.062336504459381104, -0.06498841196298599, -0.04680056869983673, 0.01765989139676094, -0.0392654612660408, -0.022955991327762604, 0.04700111225247383, 0.01975741609930992, 0.06182335317134857, 0.03653884679079056, -0.08069471269845963, -0.06851525604724884, -0.12351899594068527, -0.0729934573173523, -0.014086601324379444, -0.00027278196648694575, 0.07354746013879776, 0.05240562558174133, -0.05252186581492424, 0.08340609073638916, 0.006702754180878401, 0.0071623669937253, -0.052769169211387634, -0.014538549818098545, -0.0368577279150486, 0.13196870684623718, -0.05125795677304268, -0.0796380490064621, -0.021722421050071716, -0.0185826625674963, -0.01395203173160553, 0.0015257690101861954, -0.0047786361537873745, -0.09862928837537766, 0.025583487004041672, 0.057756610214710236, 0.04091957211494446, -0.05796641483902931, -0.021522825583815575, 0.04467843845486641, 0.014581636525690556, -0.012696859426796436, -0.0100982915610075, -0.04502742737531662, -0.004596870858222246, -0.037762630730867386, 0.040548715740442276, 0.02681625261902809, 0.04240209236741066, -0.01764858141541481, -0.05337442085146904, -0.025546154007315636, -0.06969421356916428, 0.0051122927106916904, 0.1382722407579422, -0.026279374957084656, -0.11233460158109665, -0.059062447398900986, 0.021089788526296616, -0.05243022367358208, 0.03837915137410164, -0.03332429751753807, -0.06763821095228195, -0.02700524590909481, -0.006550350692123175, -0.06114315241575241, -0.02616933174431324, 0.0481298603117466, -0.04497818648815155, 0.048980481922626495, 8.998674456961453e-05, 0.03097880631685257, 0.005407535471022129, 0.010643468238413334, -0.03496665880084038, 0.018734807148575783, -0.052884384989738464, 0.13150319457054138, 0.06355305761098862, -1.1825187939962234e-08, -0.07101664692163467, 0.02582482434809208, -0.05724489688873291, -0.0009565806249156594, 0.045127518475055695, 0.022816836833953857, 0.04655735567212105, 0.05423578992486, 0.030945919454097748, -0.007740030065178871, -0.04628846421837807, 0.002580618252977729, 0.016199665144085884, 0.038228027522563934, 0.013383910059928894, 0.03362336382269859, 0.003698770422488451, -0.002337492536753416, 0.059815749526023865, -0.06238161772489548, 0.05503902584314346, 0.0357634462416172, -0.029551688581705093, -0.042958542704582214, -0.009157955646514893, -0.03053520992398262, 0.050845637917518616, 0.030046524479985237, 0.0320902094244957, -0.07367446273565292, -0.058885008096694946, 0.008024745620787144, -0.0025728335604071617, 0.05776814743876457, 0.044376250356435776, 0.028908971697092056, 0.03842298686504364, 0.04213767126202583, -0.06650175154209137, 0.07799194008111954, -0.08021894097328186, 0.03184153884649277, 0.005840951576828957, -0.05671984329819679, 0.015983451157808304, -0.028906021267175674, -0.028964074328541756, -0.08258045464754105, 0.05763041973114014, -0.07677764445543289, -0.07581999897956848, -0.0004737222916446626, 0.019330402836203575, 0.015193392522633076, -0.028458870947360992, -0.015034203417599201, -0.07690556347370148, 0.01784452609717846, 0.05373954772949219, 0.06421171128749847, 0.019208591431379318, -0.007306589279323816, 0.026282791048288345, 0.0711439773440361]\n",
      "Answer: Economic Threshold Level\n",
      "\n",
      "Source Documents:\n",
      "Document 1: 74\n",
      "Plant Protection\n",
      "Farmer’s Handbook on Basic Agriculture\n",
      "sequence instead of one single crop.\n",
      "•\t Keeping the fields clean: Managing the weeds \n",
      "which provides home for pests, treating the seeds with pesticides, growing the crops in sea-sons where pest incidence is less, application of correct dose ...\n",
      "Document 2: Occupational Health and Safety\n",
      "Farmer’s Handbook on Basic Agriculture\n",
      "127\n",
      "•\tRemove and wash protective clothing and footwear.\n",
      "•\tWash yourself well and put on clean clothing.\n",
      "•\tKeep an accurate record of pesticide usage. \n",
      "•\tPrevent persons from entering treated areas until it is safe to do so.\n",
      "•\tMark...\n",
      "Document 3: 22\n",
      "General Conditions for Cultivation of Crops\n",
      "Farmer’s Handbook on Basic Agriculture\n",
      "Seed treatment\n",
      "Seed treatment is usages of specific products and spe-\n",
      "cific techniques to improve the growth environment for the seed, seedlings and young plants. It ranges from a basic dressing to coating and pell...\n"
     ]
    }
   ],
   "source": [
    "from transformers import pipeline\n",
    "import pinecone\n",
    "import PyPDF2\n",
    "from concurrent.futures import ThreadPoolExecutor\n",
    "\n",
    "# Initialize HuggingFace's QA Model (Robust for SQuAD2 tasks)\n",
    "qa_model = pipeline(\"question-answering\", model=\"deepset/roberta-base-squad2\")\n",
    "\n",
    "# Sample query\n",
    "query = \"What is ETL\"\n",
    "\n",
    "# Embed the query (Assuming you have an embedding function)\n",
    "query_embedding = embeddings.embed_query(query)  # Replace with your embedding method\n",
    "print(\"Query Embedding:\", query_embedding)\n",
    "\n",
    "# Query Pinecone\n",
    "query_results = index.query(\n",
    "    vector=query_embedding,\n",
    "    top_k=3,\n",
    "    include_metadata=True\n",
    ")\n",
    "\n",
    "# Extract Text from Pinecone Query Results\n",
    "relevant_texts = []\n",
    "\n",
    "def extract_text_from_pdf(pdf_path, page_num):\n",
    "    with open(pdf_path, 'rb') as f:\n",
    "        pdf_reader = PyPDF2.PdfReader(f)\n",
    "        page = pdf_reader.pages[page_num]\n",
    "        return page.extract_text()\n",
    "\n",
    "def process_page(match):\n",
    "    if 'text' in match.get('metadata', {}):\n",
    "        relevant_texts.append(match['metadata']['text'])\n",
    "    elif 'page' in match.get('metadata', {}):\n",
    "        page_number = int(match['metadata']['page']) - 1\n",
    "        try:\n",
    "            page_text = extract_text_from_pdf(\"farmerbook.pdf\", page_number)\n",
    "            relevant_texts.append(page_text.strip() if page_text else f\"Page {page_number + 1}: Text is unavailable.\")\n",
    "        except Exception as e:\n",
    "            relevant_texts.append(f\"Error extracting text from page {page_number + 1}: {e}\")\n",
    "\n",
    "# Process matches in parallel\n",
    "with ThreadPoolExecutor() as executor:\n",
    "    executor.map(process_page, query_results.get('matches', []))\n",
    "\n",
    "# Ensure context is meaningful\n",
    "if not relevant_texts:\n",
    "    print(\"Warning: No relevant documents found.\")\n",
    "    exit()\n",
    "\n",
    "# Combine Relevant Texts for QA Context\n",
    "context = \" \".join(relevant_texts[:3000])  # Adjust length as needed\n",
    "\n",
    "# Get Answer\n",
    "try:\n",
    "    answer = qa_model(question=query, context=context)\n",
    "    print(f\"Answer: {answer.get('answer', 'No answer found')}\")\n",
    "except Exception as e:\n",
    "    print(f\"Error in QA model inference: {e}\")\n",
    "\n",
    "# Display Source Documents\n",
    "print(\"\\nSource Documents:\")\n",
    "for i, text in enumerate(relevant_texts[:3]):\n",
    "    print(f\"Document {i+1}: {text[:300]}...\")\n"
   ]
  },
  {
   "cell_type": "code",
   "execution_count": null,
   "metadata": {},
   "outputs": [
    {
     "name": "stderr",
     "output_type": "stream",
     "text": [
      "Device set to use cpu\n",
      "Device set to use cpu\n"
     ]
    },
    {
     "name": "stdout",
     "output_type": "stream",
     "text": [
      "Answer: farmers can grow the following combinations in a year\n",
      "\n",
      "Source Documents:\n",
      "Document 1: General Conditions for Cultivation of Crops Farmer’s Handbook on Basic Agriculture 17Name of the Crop Critical Stages Oil Seeds Ground nut Flowering, Peg Formation and Pod Development Sesame Blooming to Maturity Sunflower Pre-flowering to Post-flowering Soybean Blooming and Seed Formation Vegetables...\n",
      "Document 2: 102 Farm Management Farmer’s Handbook on Basic Agriculture for one season. With these three crops, farmers can grow the following combinations in a year: • Paddy – Paddy (Kharif followed by Rabi) • Paddy – Maize (Kharif followed by Rabi) • Cotton – Maize (Kharif followed by Rabi) • Maize – Maize (Kh...\n",
      "Document 3: 106 Farm Management Farmer’s Handbook on Basic Agriculture Exercise 1: Agricultural Calendar of Operations to Plan the Production of Maize The times of work… Of the main season are shown by a square Of the off-season are shown by a circle The tasks of the farmerJanuaryFeb.MarchAprilMayJuneJulyAugust...\n"
     ]
    }
   ],
   "source": [
    "from transformers import pipeline\n",
    "import pinecone\n",
    "import PyPDF2\n",
    "from concurrent.futures import ThreadPoolExecutor\n",
    "\n",
    "# Initialize QA and summarization models\n",
    "qa_model = pipeline(\"question-answering\", model=\"deepset/roberta-base-squad2\")\n",
    "summarizer = pipeline(\"summarization\", model=\"facebook/bart-large-cnn\")\n",
    "\n",
    "# Sample query\n",
    "query = \"What does 'yield' mean in the context of agricultural crop production?\"\n",
    "\n",
    "# Embed the query (Assuming embeddings function exists)\n",
    "query_embedding = embeddings.embed_query(query)\n",
    "\n",
    "# Query Pinecone\n",
    "query_results = index.query(\n",
    "    vector=query_embedding,\n",
    "    top_k=3,\n",
    "    include_metadata=True\n",
    ")\n",
    "\n",
    "# Function to extract text from a PDF\n",
    "def extract_text_from_pdf(pdf_path, page_num):\n",
    "    try:\n",
    "        with open(pdf_path, 'rb') as f:\n",
    "            pdf_reader = PyPDF2.PdfReader(f)\n",
    "            page = pdf_reader.pages[page_num]\n",
    "            return page.extract_text()\n",
    "    except Exception as e:\n",
    "        return f\"Error extracting text from page {page_num + 1}: {e}\"\n",
    "\n",
    "# Clean and preprocess text\n",
    "def clean_text(text):\n",
    "    return ' '.join(text.split())  # Remove excessive whitespace\n",
    "\n",
    "# Process query matches\n",
    "def process_matches(matches, pdf_path):\n",
    "    texts = []\n",
    "    for match in matches:\n",
    "        metadata = match.get('metadata', {})\n",
    "        if 'text' in metadata:\n",
    "            texts.append(clean_text(metadata['text']))\n",
    "        elif 'page' in metadata:\n",
    "            page_number = int(metadata['page']) - 1  # Zero-based index\n",
    "            page_text = extract_text_from_pdf(pdf_path, page_number)\n",
    "            texts.append(clean_text(page_text) if page_text else f\"Page {page_number + 1}: No text.\")\n",
    "    return texts\n",
    "\n",
    "\n",
    "# Process results\n",
    "relevant_texts = process_matches(query_results.get('matches', []), \"farmerbook.pdf\")\n",
    "\n",
    "# Summarize the context (if documents exist)\n",
    "if relevant_texts:\n",
    "    combined_context = \" \".join(relevant_texts[:3000])  # Limit context to 3000 characters\n",
    "    summarized_context = summarizer(combined_context, max_length=500, min_length=50, do_sample=False)[0]['summary_text']\n",
    "else:\n",
    "    print(\"Warning: No relevant documents found.\")\n",
    "    exit()\n",
    "\n",
    "# Get the answer using the QA model\n",
    "try:\n",
    "    answer = qa_model(question=query, context=summarized_context)\n",
    "    print(f\"Answer: {answer.get('answer', 'No answer found')}\")\n",
    "except Exception as e:\n",
    "    print(f\"Error in QA inference: {e}\")\n",
    "\n",
    "# Display source documents\n",
    "print(\"\\nSource Documents:\")\n",
    "for i, text in enumerate(relevant_texts[:3]):  # Display top 3 documents\n",
    "    print(f\"Document {i+1}: {text[:300]}...\")\n"
   ]
  },
  {
   "cell_type": "code",
   "execution_count": 307,
   "metadata": {},
   "outputs": [
    {
     "name": "stderr",
     "output_type": "stream",
     "text": [
      "Device set to use cpu\n"
     ]
    },
    {
     "name": "stdout",
     "output_type": "stream",
     "text": [
      "Answer: pest population density Parasite. There is egg, larval and pupal parasites yellow colour. toll free number 1800 180 1551 ber extension advisory services Farm Management Farmers Handbook on Basic Agriculture In situ plouging\n",
      "\n",
      "Source Documents (with page references):\n",
      "Document 1 (from Page 82): 74 Plant Protection Farmers Handbook on Basic Agriculture sequence instead of one single crop.  Keeping the fields clean Managing the weeds which provides home for pests, treating the seeds with pesticides, growing the crops in seasons where pest incidence is less, application of correct dose of fer...\n",
      "Document 2 (from Page 141): Farmers Access to Service Farmers Handbook on Basic Agriculture 133livestock, fisheries, inputs, credit, government scheme benefits, through toll free number 1800 180 1551 OR 1551 from 6 A.M. to 10 P .M. except on Sundays and Gazetted holidays. Beyond these hours the calls are attended in the IVRS m...\n",
      "Document 3 (from Page 111): Farm Management Farmers Handbook on Basic Agriculture 103Exercise Sheet 2 Paddy Blank sheet to be filled by Farmer based on worked solution given below. Steps  Multiply the quantity with the price in each line  Add the money spent Expenditure on inputs and labour  Multiply the yield by the price of ...\n"
     ]
    }
   ],
   "source": [
    "from transformers import pipeline\n",
    "import pinecone\n",
    "import PyPDF2\n",
    "from concurrent.futures import ThreadPoolExecutor\n",
    "import re\n",
    "\n",
    "# Initialize QA model\n",
    "qa_model = pipeline(\"question-answering\", model=\"deepset/roberta-base-squad2\")\n",
    "\n",
    "# Sample query\n",
    "query = \"ETL full form?\"\n",
    "\n",
    "# Embed the query (Assuming embeddings function exists)\n",
    "query_embedding = embeddings.embed_query(query)\n",
    "\n",
    "# Query Pinecone\n",
    "query_results = index.query(\n",
    "    vector=query_embedding,\n",
    "    top_k=3,\n",
    "    include_metadata=True\n",
    ")\n",
    "\n",
    "# Function to extract text from a PDF page safely\n",
    "def extract_text_from_pdf(pdf_path, page_num):\n",
    "    try:\n",
    "        with open(pdf_path, 'rb') as f:\n",
    "            pdf_reader = PyPDF2.PdfReader(f)\n",
    "            total_pages = len(pdf_reader.pages)\n",
    "            if page_num < 0 or page_num >= total_pages:\n",
    "                return f\"Page {page_num + 1}: Page number out of range. Total pages: {total_pages}.\"\n",
    "            page = pdf_reader.pages[page_num]\n",
    "            return page.extract_text()\n",
    "    except Exception as e:\n",
    "        return f\"Error extracting text from page {page_num + 1}: {e}\"\n",
    "\n",
    "# Preprocess and clean text (improve by removing non-informative parts)\n",
    "def clean_text(text):\n",
    "    # Remove unnecessary whitespace and special characters\n",
    "    text = ' '.join(text.split())  # Remove excessive whitespace\n",
    "    text = re.sub(r'[^A-Za-z0-9\\s,.?!]', '', text)  # Remove non-alphanumeric characters (except punctuation)\n",
    "    return text\n",
    "\n",
    "# Process query matches and track page references\n",
    "def process_matches(matches, pdf_path):\n",
    "    texts = []\n",
    "    page_references = []\n",
    "    for match in matches:\n",
    "        metadata = match.get('metadata', {})\n",
    "        if 'text' in metadata:\n",
    "            texts.append(clean_text(metadata['text']))\n",
    "            page_references.append(f\"Page {metadata.get('page', 'Unknown')}\")\n",
    "        elif 'page' in metadata:\n",
    "            try:\n",
    "                # Attempt to convert page to integer\n",
    "                page_number = int(metadata['page']) - 1  # Zero-based index\n",
    "                page_text = extract_text_from_pdf(pdf_path, page_number)\n",
    "                texts.append(clean_text(page_text) if page_text else f\"Page {page_number + 1}: No text.\")\n",
    "                page_references.append(f\"Page {page_number + 1}\")\n",
    "            except (ValueError, KeyError):\n",
    "                # Handle non-integer or missing page values\n",
    "                texts.append(f\"Invalid or missing page number in metadata: {metadata.get('page')}\")\n",
    "                page_references.append(f\"Unknown page\")\n",
    "    return texts, page_references\n",
    "\n",
    "# Process the query results safely\n",
    "relevant_texts, page_references = process_matches(query_results.get('matches', []), \"farmerbook.pdf\")\n",
    "\n",
    "# Combine the context into a large block (no summarization, but limiting context size)\n",
    "if relevant_texts:\n",
    "    combined_context = \" \".join(relevant_texts[:3000])  # Limit to top 3000 characters\n",
    "else:\n",
    "    print(\"Warning: No relevant documents found.\")\n",
    "    exit()\n",
    "\n",
    "# Split combined context into smaller chunks if it's too long\n",
    "context_chunks = [combined_context[i:i+1024] for i in range(0, len(combined_context), 1024)]\n",
    "\n",
    "# Get the answer using the QA model (apply it to each chunk if needed)\n",
    "answers = []\n",
    "for chunk in context_chunks:\n",
    "    try:\n",
    "        answer = qa_model(question=query, context=chunk)\n",
    "        answers.append(answer['answer'])\n",
    "    except Exception as e:\n",
    "        print(f\"Error in QA inference: {e}\")\n",
    "\n",
    "# Combine answers from chunks\n",
    "final_answer = \" \".join(answers).strip() if answers else \"No answer found\"\n",
    "\n",
    "# Display the final answer\n",
    "print(f\"Answer: {final_answer}\")\n",
    "\n",
    "# Display source documents with page references\n",
    "print(\"\\nSource Documents (with page references):\")\n",
    "for i, (text, page_ref) in enumerate(zip(relevant_texts[:3], page_references[:3])):\n",
    "    print(f\"Document {i+1} (from {page_ref}): {text[:300]}...\")  # Display preview (first 300 characters) of the source text\n"
   ]
  },
  {
   "cell_type": "code",
   "execution_count": null,
   "metadata": {},
   "outputs": [],
   "source": []
  },
  {
   "cell_type": "code",
   "execution_count": null,
   "metadata": {},
   "outputs": [],
   "source": []
  },
  {
   "cell_type": "code",
   "execution_count": 5,
   "metadata": {},
   "outputs": [
    {
     "name": "stdout",
     "output_type": "stream",
     "text": [
      "Requirement already satisfied: faiss-cpu in c:\\users\\aksha\\anaconda3\\envs\\sihenv\\lib\\site-packages (1.9.0.post1)\n",
      "Requirement already satisfied: numpy<3.0,>=1.25.0 in c:\\users\\aksha\\anaconda3\\envs\\sihenv\\lib\\site-packages (from faiss-cpu) (1.26.4)\n",
      "Requirement already satisfied: packaging in c:\\users\\aksha\\anaconda3\\envs\\sihenv\\lib\\site-packages (from faiss-cpu) (24.2)\n",
      "Collecting annoy\n",
      "  Using cached annoy-1.17.3.tar.gz (647 kB)\n",
      "  Preparing metadata (setup.py): started\n",
      "  Preparing metadata (setup.py): finished with status 'done'\n",
      "Building wheels for collected packages: annoy\n",
      "  Building wheel for annoy (setup.py): started\n",
      "  Building wheel for annoy (setup.py): finished with status 'error'\n",
      "  Running setup.py clean for annoy\n",
      "Failed to build annoy\n"
     ]
    },
    {
     "name": "stderr",
     "output_type": "stream",
     "text": [
      "  error: subprocess-exited-with-error\n",
      "  \n",
      "  × python setup.py bdist_wheel did not run successfully.\n",
      "  │ exit code: 1\n",
      "  ╰─> [24 lines of output]\n",
      "      C:\\Users\\aksha\\anaconda3\\envs\\sihenv\\lib\\site-packages\\setuptools\\__init__.py:85: _DeprecatedInstaller: setuptools.installer and fetch_build_eggs are deprecated.\n",
      "      !!\n",
      "      \n",
      "              ********************************************************************************\n",
      "              Requirements should be satisfied by a PEP 517 installer.\n",
      "              If you are using pip, you can try `pip install --use-pep517`.\n",
      "              ********************************************************************************\n",
      "      \n",
      "      !!\n",
      "        dist.fetch_build_eggs(dist.setup_requires)\n",
      "      C:\\Users\\aksha\\anaconda3\\envs\\sihenv\\lib\\site-packages\\setuptools\\_distutils\\dist.py:268: UserWarning: Unknown distribution option: 'tests_require'\n",
      "        warnings.warn(msg)\n",
      "      running bdist_wheel\n",
      "      running build\n",
      "      running build_py\n",
      "      creating build\n",
      "      creating build\\lib.win-amd64-cpython-39\n",
      "      creating build\\lib.win-amd64-cpython-39\\annoy\n",
      "      copying annoy\\__init__.py -> build\\lib.win-amd64-cpython-39\\annoy\n",
      "      copying annoy\\__init__.pyi -> build\\lib.win-amd64-cpython-39\\annoy\n",
      "      copying annoy\\py.typed -> build\\lib.win-amd64-cpython-39\\annoy\n",
      "      running build_ext\n",
      "      building 'annoy.annoylib' extension\n",
      "      error: Microsoft Visual C++ 14.0 or greater is required. Get it with \"Microsoft C++ Build Tools\": https://visualstudio.microsoft.com/visual-cpp-build-tools/\n",
      "      [end of output]\n",
      "  \n",
      "  note: This error originates from a subprocess, and is likely not a problem with pip.\n",
      "  ERROR: Failed building wheel for annoy\n",
      "ERROR: ERROR: Failed to build installable wheels for some pyproject.toml based projects (annoy)\n"
     ]
    }
   ],
   "source": [
    "!pip install faiss-cpu\n",
    "!pip install annoy\n"
   ]
  },
  {
   "cell_type": "code",
   "execution_count": 6,
   "metadata": {},
   "outputs": [],
   "source": [
    "from langchain import PromptTemplate\n",
    "from langchain.chains import RetrievalQA\n",
    "from langchain.embeddings import HuggingFaceEmbeddings\n",
    "from langchain.vectorstores import FAISS\n",
    "from langchain.document_loaders import PyPDFLoader, DirectoryLoader\n",
    "from langchain.text_splitter import RecursiveCharacterTextSplitter\n",
    "from langchain.llms import CTransformers\n"
   ]
  },
  {
   "cell_type": "code",
   "execution_count": 7,
   "metadata": {},
   "outputs": [
    {
     "name": "stdout",
     "output_type": "stream",
     "text": [
      "Number of chunks: 676\n"
     ]
    }
   ],
   "source": [
    "def load_pdf(data_path):\n",
    "    loader = DirectoryLoader(data_path, glob=\"*.pdf\", loader_cls=PyPDFLoader)\n",
    "    documents = loader.load()\n",
    "    return documents\n",
    "\n",
    "extracted_data = load_pdf(\"data/\")\n",
    "\n",
    "def text_split(extracted_data):\n",
    "    text_splitter = RecursiveCharacterTextSplitter(chunk_size=500, chunk_overlap=20)\n",
    "    text_chunks = text_splitter.split_documents(extracted_data)\n",
    "    return text_chunks\n",
    "\n",
    "text_chunks = text_split(extracted_data)\n",
    "print(f\"Number of chunks: {len(text_chunks)}\")\n"
   ]
  },
  {
   "cell_type": "code",
   "execution_count": 8,
   "metadata": {},
   "outputs": [
    {
     "name": "stderr",
     "output_type": "stream",
     "text": [
      "C:\\Users\\aksha\\AppData\\Local\\Temp\\ipykernel_1892\\1741408253.py:2: LangChainDeprecationWarning: The class `HuggingFaceEmbeddings` was deprecated in LangChain 0.2.2 and will be removed in 1.0. An updated version of the class exists in the :class:`~langchain-huggingface package and should be used instead. To use it run `pip install -U :class:`~langchain-huggingface` and import as `from :class:`~langchain_huggingface import HuggingFaceEmbeddings``.\n",
      "  embeddings = HuggingFaceEmbeddings(model_name=\"sentence-transformers/all-MiniLM-L6-v2\")\n",
      "c:\\Users\\aksha\\anaconda3\\envs\\sihenv\\lib\\site-packages\\tqdm\\auto.py:21: TqdmWarning: IProgress not found. Please update jupyter and ipywidgets. See https://ipywidgets.readthedocs.io/en/stable/user_install.html\n",
      "  from .autonotebook import tqdm as notebook_tqdm\n"
     ]
    },
    {
     "name": "stdout",
     "output_type": "stream",
     "text": [
      "Query Embedding Length: 384\n"
     ]
    }
   ],
   "source": [
    "def download_hugging_face_embeddings():\n",
    "    embeddings = HuggingFaceEmbeddings(model_name=\"sentence-transformers/all-MiniLM-L6-v2\")\n",
    "    return embeddings\n",
    "\n",
    "\n",
    "embeddings = download_hugging_face_embeddings()\n",
    "\n",
    "query_result = embeddings.embed_query(\"Hello world\")\n",
    "print(f\"Query Embedding Length: {len(query_result)}\")\n"
   ]
  },
  {
   "cell_type": "code",
   "execution_count": 9,
   "metadata": {},
   "outputs": [
    {
     "name": "stdout",
     "output_type": "stream",
     "text": [
      "Top 3 Documents for the Query: [Document(metadata={}, page_content='Plant Protection\\nFarmer’s Handbook on Basic Agriculture\\n75\\nFor example, Neem Seed Kernal Extract (NSKE) \\n5%, Gronim, Achook and Neemazal.\\n3.7. Pesticides\\nP\\nesticides are the chemicals used to control pests. \\nThe pesticides can be broadly classified into \\nthree groups based on how they act on insects.\\nContact and stomach poison: When insect \\ncomes into contact or when the insect eats the pesti-\\ncide sprayed parts, it gets killed. Contact and stom-'), Document(metadata={}, page_content='manufacturing, import, sale, enforcement authori-\\nties, analysis of samples, specifications and penalty. \\nThe details are available under www.agricoop.nic.in/\\nsublegi/FertilizerControlOrder.htm\\nInsecticides Act, 1968: An act to regulate the \\nimport, manufacture, sale, transport, distribution \\nand use of insecticides with a view to prevent risk \\nto human beings or animals and for matters con-\\nnected. The details are available under http://cibrc.\\nnic.in/insecticides_act.htm'), Document(metadata={}, page_content='Occupational Health and Safety\\nFarmer’s Handbook on Basic Agriculture\\n123\\nBuying pesticides \\nBefore buying think over this\\n•\\t Which pest is to be controlled?\\n•\\t Is damage crossing threshold level requiring \\npesticide use?\\n•\\t Have you observed any predators that check \\npest attack?\\n•\\t What is the recommendation for the ob-\\nserved problem?\\n•\\t Which is the least toxic and low persistent \\nchemical among recommendations?\\nWhile buying\\n•\\t Buy from a reputed and licensed store.')]\n"
     ]
    }
   ],
   "source": [
    "docsearch = FAISS.from_texts([t.page_content for t in text_chunks], embeddings)\n",
    "\n",
    "query = \"What are pesticides?\"\n",
    "docs = docsearch.similarity_search(query, k=3)\n",
    "print(\"Top 3 Documents for the Query:\", docs)\n"
   ]
  },
  {
   "cell_type": "code",
   "execution_count": 10,
   "metadata": {},
   "outputs": [],
   "source": [
    "prompt_template = \"\"\"\n",
    "Use the following pieces of information to answer the user's question.\n",
    "If you don't know the answer, just say that you don't know, don't try to make up an answer.\n",
    "\n",
    "Context: {context}\n",
    "Question: {question}\n",
    "\n",
    "Only return the helpful answer below and nothing else.\n",
    "Helpful answer:\n",
    "\"\"\"\n",
    "\n",
    "PROMPT = PromptTemplate(template=prompt_template, input_variables=[\"context\", \"question\"])\n",
    "\n",
    "chain_type_kwargs = {\"prompt\": PROMPT}\n"
   ]
  },
  {
   "cell_type": "code",
   "execution_count": 16,
   "metadata": {},
   "outputs": [
    {
     "name": "stderr",
     "output_type": "stream",
     "text": [
      "Fetching 1 files:   0%|          | 0/1 [00:13<?, ?it/s]\n"
     ]
    },
    {
     "ename": "GatedRepoError",
     "evalue": "401 Client Error. (Request ID: Root=1-67850012-1780bfd97babead36d713446;92405f43-004f-462e-889f-8a36a0accc86)\n\nCannot access gated repo for url https://huggingface.co/meta-llama/Llama-2-70b-chat-hf/resolve/e9149a12809580e8602995856f8098ce973d1080/config.json.\nAccess to model meta-llama/Llama-2-70b-chat-hf is restricted. You must have access to it and be authenticated to access it. Please log in.",
     "output_type": "error",
     "traceback": [
      "\u001b[1;31m---------------------------------------------------------------------------\u001b[0m",
      "\u001b[1;31mHTTPError\u001b[0m                                 Traceback (most recent call last)",
      "File \u001b[1;32mc:\\Users\\aksha\\anaconda3\\envs\\sihenv\\lib\\site-packages\\huggingface_hub\\utils\\_http.py:406\u001b[0m, in \u001b[0;36mhf_raise_for_status\u001b[1;34m(response, endpoint_name)\u001b[0m\n\u001b[0;32m    405\u001b[0m \u001b[38;5;28;01mtry\u001b[39;00m:\n\u001b[1;32m--> 406\u001b[0m     \u001b[43mresponse\u001b[49m\u001b[38;5;241;43m.\u001b[39;49m\u001b[43mraise_for_status\u001b[49m\u001b[43m(\u001b[49m\u001b[43m)\u001b[49m\n\u001b[0;32m    407\u001b[0m \u001b[38;5;28;01mexcept\u001b[39;00m HTTPError \u001b[38;5;28;01mas\u001b[39;00m e:\n",
      "File \u001b[1;32mc:\\Users\\aksha\\anaconda3\\envs\\sihenv\\lib\\site-packages\\requests\\models.py:1024\u001b[0m, in \u001b[0;36mResponse.raise_for_status\u001b[1;34m(self)\u001b[0m\n\u001b[0;32m   1023\u001b[0m \u001b[38;5;28;01mif\u001b[39;00m http_error_msg:\n\u001b[1;32m-> 1024\u001b[0m     \u001b[38;5;28;01mraise\u001b[39;00m HTTPError(http_error_msg, response\u001b[38;5;241m=\u001b[39m\u001b[38;5;28mself\u001b[39m)\n",
      "\u001b[1;31mHTTPError\u001b[0m: 401 Client Error: Unauthorized for url: https://huggingface.co/meta-llama/Llama-2-70b-chat-hf/resolve/e9149a12809580e8602995856f8098ce973d1080/config.json",
      "\nThe above exception was the direct cause of the following exception:\n",
      "\u001b[1;31mGatedRepoError\u001b[0m                            Traceback (most recent call last)",
      "Cell \u001b[1;32mIn[16], line 1\u001b[0m\n\u001b[1;32m----> 1\u001b[0m llm \u001b[38;5;241m=\u001b[39m \u001b[43mCTransformers\u001b[49m\u001b[43m(\u001b[49m\n\u001b[0;32m      2\u001b[0m \u001b[43m    \u001b[49m\u001b[43mmodel\u001b[49m\u001b[38;5;241;43m=\u001b[39;49m\u001b[38;5;124;43m\"\u001b[39;49m\u001b[38;5;124;43mmeta-llama/Llama-2-70b-chat-hf\u001b[39;49m\u001b[38;5;124;43m\"\u001b[39;49m\u001b[43m,\u001b[49m\n\u001b[0;32m      3\u001b[0m \u001b[43m    \u001b[49m\u001b[43mmodel_type\u001b[49m\u001b[38;5;241;43m=\u001b[39;49m\u001b[38;5;124;43m\"\u001b[39;49m\u001b[38;5;124;43mllama\u001b[39;49m\u001b[38;5;124;43m\"\u001b[39;49m\u001b[43m,\u001b[49m\n\u001b[0;32m      4\u001b[0m \u001b[43m    \u001b[49m\u001b[43mconfig\u001b[49m\u001b[38;5;241;43m=\u001b[39;49m\u001b[43m{\u001b[49m\u001b[38;5;124;43m'\u001b[39;49m\u001b[38;5;124;43mmax_new_tokens\u001b[39;49m\u001b[38;5;124;43m'\u001b[39;49m\u001b[43m:\u001b[49m\u001b[43m \u001b[49m\u001b[38;5;241;43m512\u001b[39;49m\u001b[43m,\u001b[49m\u001b[43m \u001b[49m\u001b[38;5;124;43m'\u001b[39;49m\u001b[38;5;124;43mtemperature\u001b[39;49m\u001b[38;5;124;43m'\u001b[39;49m\u001b[43m:\u001b[49m\u001b[43m \u001b[49m\u001b[38;5;241;43m0.8\u001b[39;49m\u001b[43m}\u001b[49m\n\u001b[0;32m      5\u001b[0m \u001b[43m)\u001b[49m\n",
      "File \u001b[1;32mc:\\Users\\aksha\\anaconda3\\envs\\sihenv\\lib\\site-packages\\langchain_core\\load\\serializable.py:125\u001b[0m, in \u001b[0;36mSerializable.__init__\u001b[1;34m(self, *args, **kwargs)\u001b[0m\n\u001b[0;32m    123\u001b[0m \u001b[38;5;28;01mdef\u001b[39;00m \u001b[38;5;21m__init__\u001b[39m(\u001b[38;5;28mself\u001b[39m, \u001b[38;5;241m*\u001b[39margs: Any, \u001b[38;5;241m*\u001b[39m\u001b[38;5;241m*\u001b[39mkwargs: Any) \u001b[38;5;241m-\u001b[39m\u001b[38;5;241m>\u001b[39m \u001b[38;5;28;01mNone\u001b[39;00m:\n\u001b[0;32m    124\u001b[0m \u001b[38;5;250m    \u001b[39m\u001b[38;5;124;03m\"\"\"\"\"\"\u001b[39;00m\n\u001b[1;32m--> 125\u001b[0m     \u001b[38;5;28msuper\u001b[39m()\u001b[38;5;241m.\u001b[39m\u001b[38;5;21m__init__\u001b[39m(\u001b[38;5;241m*\u001b[39margs, \u001b[38;5;241m*\u001b[39m\u001b[38;5;241m*\u001b[39mkwargs)\n",
      "    \u001b[1;31m[... skipping hidden 1 frame]\u001b[0m\n",
      "File \u001b[1;32mc:\\Users\\aksha\\anaconda3\\envs\\sihenv\\lib\\site-packages\\pydantic\\_internal\\_decorators_v1.py:148\u001b[0m, in \u001b[0;36mmake_v1_generic_root_validator.<locals>._wrapper1\u001b[1;34m(values, _)\u001b[0m\n\u001b[0;32m    147\u001b[0m \u001b[38;5;28;01mdef\u001b[39;00m \u001b[38;5;21m_wrapper1\u001b[39m(values: RootValidatorValues, _: core_schema\u001b[38;5;241m.\u001b[39mValidationInfo) \u001b[38;5;241m-\u001b[39m\u001b[38;5;241m>\u001b[39m RootValidatorValues:\n\u001b[1;32m--> 148\u001b[0m     \u001b[38;5;28;01mreturn\u001b[39;00m \u001b[43mvalidator\u001b[49m\u001b[43m(\u001b[49m\u001b[43mvalues\u001b[49m\u001b[43m)\u001b[49m\n",
      "File \u001b[1;32mc:\\Users\\aksha\\anaconda3\\envs\\sihenv\\lib\\site-packages\\langchain_core\\utils\\pydantic.py:219\u001b[0m, in \u001b[0;36mpre_init.<locals>.wrapper\u001b[1;34m(cls, values)\u001b[0m\n\u001b[0;32m    216\u001b[0m             values[name] \u001b[38;5;241m=\u001b[39m field_info\u001b[38;5;241m.\u001b[39mdefault\n\u001b[0;32m    218\u001b[0m \u001b[38;5;66;03m# Call the decorated function\u001b[39;00m\n\u001b[1;32m--> 219\u001b[0m \u001b[38;5;28;01mreturn\u001b[39;00m \u001b[43mfunc\u001b[49m\u001b[43m(\u001b[49m\u001b[38;5;28;43mcls\u001b[39;49m\u001b[43m,\u001b[49m\u001b[43m \u001b[49m\u001b[43mvalues\u001b[49m\u001b[43m)\u001b[49m\n",
      "File \u001b[1;32mc:\\Users\\aksha\\anaconda3\\envs\\sihenv\\lib\\site-packages\\langchain_community\\llms\\ctransformers.py:72\u001b[0m, in \u001b[0;36mCTransformers.validate_environment\u001b[1;34m(cls, values)\u001b[0m\n\u001b[0;32m     66\u001b[0m     \u001b[38;5;28;01mraise\u001b[39;00m \u001b[38;5;167;01mImportError\u001b[39;00m(\n\u001b[0;32m     67\u001b[0m         \u001b[38;5;124m\"\u001b[39m\u001b[38;5;124mCould not import `ctransformers` package. \u001b[39m\u001b[38;5;124m\"\u001b[39m\n\u001b[0;32m     68\u001b[0m         \u001b[38;5;124m\"\u001b[39m\u001b[38;5;124mPlease install it with `pip install ctransformers`\u001b[39m\u001b[38;5;124m\"\u001b[39m\n\u001b[0;32m     69\u001b[0m     )\n\u001b[0;32m     71\u001b[0m config \u001b[38;5;241m=\u001b[39m values[\u001b[38;5;124m\"\u001b[39m\u001b[38;5;124mconfig\u001b[39m\u001b[38;5;124m\"\u001b[39m] \u001b[38;5;129;01mor\u001b[39;00m {}\n\u001b[1;32m---> 72\u001b[0m values[\u001b[38;5;124m\"\u001b[39m\u001b[38;5;124mclient\u001b[39m\u001b[38;5;124m\"\u001b[39m] \u001b[38;5;241m=\u001b[39m AutoModelForCausalLM\u001b[38;5;241m.\u001b[39mfrom_pretrained(\n\u001b[0;32m     73\u001b[0m     values[\u001b[38;5;124m\"\u001b[39m\u001b[38;5;124mmodel\u001b[39m\u001b[38;5;124m\"\u001b[39m],\n\u001b[0;32m     74\u001b[0m     model_type\u001b[38;5;241m=\u001b[39mvalues[\u001b[38;5;124m\"\u001b[39m\u001b[38;5;124mmodel_type\u001b[39m\u001b[38;5;124m\"\u001b[39m],\n\u001b[0;32m     75\u001b[0m     model_file\u001b[38;5;241m=\u001b[39mvalues[\u001b[38;5;124m\"\u001b[39m\u001b[38;5;124mmodel_file\u001b[39m\u001b[38;5;124m\"\u001b[39m],\n\u001b[0;32m     76\u001b[0m     lib\u001b[38;5;241m=\u001b[39mvalues[\u001b[38;5;124m\"\u001b[39m\u001b[38;5;124mlib\u001b[39m\u001b[38;5;124m\"\u001b[39m],\n\u001b[0;32m     77\u001b[0m     \u001b[38;5;241m*\u001b[39m\u001b[38;5;241m*\u001b[39mconfig,\n\u001b[0;32m     78\u001b[0m )\n\u001b[0;32m     79\u001b[0m \u001b[38;5;28;01mreturn\u001b[39;00m values\n",
      "File \u001b[1;32mc:\\Users\\aksha\\anaconda3\\envs\\sihenv\\lib\\site-packages\\ctransformers\\hub.py:151\u001b[0m, in \u001b[0;36mAutoModelForCausalLM.from_pretrained\u001b[1;34m(cls, model_path_or_repo_id, model_type, model_file, config, lib, local_files_only, revision, hf, **kwargs)\u001b[0m\n\u001b[0;32m    142\u001b[0m     \u001b[38;5;28;01mfrom\u001b[39;00m \u001b[38;5;21;01m.\u001b[39;00m \u001b[38;5;28;01mimport\u001b[39;00m gptq\n\u001b[0;32m    144\u001b[0m     \u001b[38;5;28;01mreturn\u001b[39;00m gptq\u001b[38;5;241m.\u001b[39mAutoModelForCausalLM\u001b[38;5;241m.\u001b[39mfrom_pretrained(\n\u001b[0;32m    145\u001b[0m         model_path_or_repo_id,\n\u001b[0;32m    146\u001b[0m         local_files_only\u001b[38;5;241m=\u001b[39mlocal_files_only,\n\u001b[0;32m    147\u001b[0m         revision\u001b[38;5;241m=\u001b[39mrevision,\n\u001b[0;32m    148\u001b[0m         \u001b[38;5;241m*\u001b[39m\u001b[38;5;241m*\u001b[39mkwargs,\n\u001b[0;32m    149\u001b[0m     )\n\u001b[1;32m--> 151\u001b[0m config \u001b[38;5;241m=\u001b[39m config \u001b[38;5;129;01mor\u001b[39;00m AutoConfig\u001b[38;5;241m.\u001b[39mfrom_pretrained(\n\u001b[0;32m    152\u001b[0m     model_path_or_repo_id,\n\u001b[0;32m    153\u001b[0m     local_files_only\u001b[38;5;241m=\u001b[39mlocal_files_only,\n\u001b[0;32m    154\u001b[0m     revision\u001b[38;5;241m=\u001b[39mrevision,\n\u001b[0;32m    155\u001b[0m     \u001b[38;5;241m*\u001b[39m\u001b[38;5;241m*\u001b[39mkwargs,\n\u001b[0;32m    156\u001b[0m )\n\u001b[0;32m    157\u001b[0m model_type \u001b[38;5;241m=\u001b[39m model_type \u001b[38;5;129;01mor\u001b[39;00m config\u001b[38;5;241m.\u001b[39mmodel_type\n\u001b[0;32m    159\u001b[0m path_type \u001b[38;5;241m=\u001b[39m get_path_type(model_path_or_repo_id)\n",
      "File \u001b[1;32mc:\\Users\\aksha\\anaconda3\\envs\\sihenv\\lib\\site-packages\\ctransformers\\hub.py:48\u001b[0m, in \u001b[0;36mAutoConfig.from_pretrained\u001b[1;34m(cls, model_path_or_repo_id, local_files_only, revision, **kwargs)\u001b[0m\n\u001b[0;32m     46\u001b[0m     \u001b[38;5;28mcls\u001b[39m\u001b[38;5;241m.\u001b[39m_update_from_dir(model_path_or_repo_id, auto_config)\n\u001b[0;32m     47\u001b[0m \u001b[38;5;28;01melif\u001b[39;00m path_type \u001b[38;5;241m==\u001b[39m \u001b[38;5;124m\"\u001b[39m\u001b[38;5;124mrepo\u001b[39m\u001b[38;5;124m\"\u001b[39m:\n\u001b[1;32m---> 48\u001b[0m     \u001b[38;5;28;43mcls\u001b[39;49m\u001b[38;5;241;43m.\u001b[39;49m\u001b[43m_update_from_repo\u001b[49m\u001b[43m(\u001b[49m\n\u001b[0;32m     49\u001b[0m \u001b[43m        \u001b[49m\u001b[43mmodel_path_or_repo_id\u001b[49m\u001b[43m,\u001b[49m\n\u001b[0;32m     50\u001b[0m \u001b[43m        \u001b[49m\u001b[43mauto_config\u001b[49m\u001b[43m,\u001b[49m\n\u001b[0;32m     51\u001b[0m \u001b[43m        \u001b[49m\u001b[43mlocal_files_only\u001b[49m\u001b[38;5;241;43m=\u001b[39;49m\u001b[43mlocal_files_only\u001b[49m\u001b[43m,\u001b[49m\n\u001b[0;32m     52\u001b[0m \u001b[43m        \u001b[49m\u001b[43mrevision\u001b[49m\u001b[38;5;241;43m=\u001b[39;49m\u001b[43mrevision\u001b[49m\u001b[43m,\u001b[49m\n\u001b[0;32m     53\u001b[0m \u001b[43m    \u001b[49m\u001b[43m)\u001b[49m\n\u001b[0;32m     55\u001b[0m \u001b[38;5;28;01mfor\u001b[39;00m k, v \u001b[38;5;129;01min\u001b[39;00m kwargs\u001b[38;5;241m.\u001b[39mitems():\n\u001b[0;32m     56\u001b[0m     \u001b[38;5;28;01mif\u001b[39;00m \u001b[38;5;129;01mnot\u001b[39;00m \u001b[38;5;28mhasattr\u001b[39m(config, k):\n",
      "File \u001b[1;32mc:\\Users\\aksha\\anaconda3\\envs\\sihenv\\lib\\site-packages\\ctransformers\\hub.py:72\u001b[0m, in \u001b[0;36mAutoConfig._update_from_repo\u001b[1;34m(cls, repo_id, auto_config, local_files_only, revision)\u001b[0m\n\u001b[0;32m     64\u001b[0m \u001b[38;5;129m@classmethod\u001b[39m\n\u001b[0;32m     65\u001b[0m \u001b[38;5;28;01mdef\u001b[39;00m \u001b[38;5;21m_update_from_repo\u001b[39m(\n\u001b[0;32m     66\u001b[0m     \u001b[38;5;28mcls\u001b[39m,\n\u001b[1;32m   (...)\u001b[0m\n\u001b[0;32m     70\u001b[0m     revision: Optional[\u001b[38;5;28mstr\u001b[39m] \u001b[38;5;241m=\u001b[39m \u001b[38;5;28;01mNone\u001b[39;00m,\n\u001b[0;32m     71\u001b[0m ) \u001b[38;5;241m-\u001b[39m\u001b[38;5;241m>\u001b[39m \u001b[38;5;28;01mNone\u001b[39;00m:\n\u001b[1;32m---> 72\u001b[0m     path \u001b[38;5;241m=\u001b[39m \u001b[43msnapshot_download\u001b[49m\u001b[43m(\u001b[49m\n\u001b[0;32m     73\u001b[0m \u001b[43m        \u001b[49m\u001b[43mrepo_id\u001b[49m\u001b[38;5;241;43m=\u001b[39;49m\u001b[43mrepo_id\u001b[49m\u001b[43m,\u001b[49m\n\u001b[0;32m     74\u001b[0m \u001b[43m        \u001b[49m\u001b[43mallow_patterns\u001b[49m\u001b[38;5;241;43m=\u001b[39;49m\u001b[38;5;124;43m\"\u001b[39;49m\u001b[38;5;124;43mconfig.json\u001b[39;49m\u001b[38;5;124;43m\"\u001b[39;49m\u001b[43m,\u001b[49m\n\u001b[0;32m     75\u001b[0m \u001b[43m        \u001b[49m\u001b[43mlocal_files_only\u001b[49m\u001b[38;5;241;43m=\u001b[39;49m\u001b[43mlocal_files_only\u001b[49m\u001b[43m,\u001b[49m\n\u001b[0;32m     76\u001b[0m \u001b[43m        \u001b[49m\u001b[43mrevision\u001b[49m\u001b[38;5;241;43m=\u001b[39;49m\u001b[43mrevision\u001b[49m\u001b[43m,\u001b[49m\n\u001b[0;32m     77\u001b[0m \u001b[43m    \u001b[49m\u001b[43m)\u001b[49m\n\u001b[0;32m     78\u001b[0m     \u001b[38;5;28mcls\u001b[39m\u001b[38;5;241m.\u001b[39m_update_from_dir(path, auto_config)\n",
      "File \u001b[1;32mc:\\Users\\aksha\\anaconda3\\envs\\sihenv\\lib\\site-packages\\huggingface_hub\\utils\\_validators.py:114\u001b[0m, in \u001b[0;36mvalidate_hf_hub_args.<locals>._inner_fn\u001b[1;34m(*args, **kwargs)\u001b[0m\n\u001b[0;32m    111\u001b[0m \u001b[38;5;28;01mif\u001b[39;00m check_use_auth_token:\n\u001b[0;32m    112\u001b[0m     kwargs \u001b[38;5;241m=\u001b[39m smoothly_deprecate_use_auth_token(fn_name\u001b[38;5;241m=\u001b[39mfn\u001b[38;5;241m.\u001b[39m\u001b[38;5;18m__name__\u001b[39m, has_token\u001b[38;5;241m=\u001b[39mhas_token, kwargs\u001b[38;5;241m=\u001b[39mkwargs)\n\u001b[1;32m--> 114\u001b[0m \u001b[38;5;28;01mreturn\u001b[39;00m fn(\u001b[38;5;241m*\u001b[39margs, \u001b[38;5;241m*\u001b[39m\u001b[38;5;241m*\u001b[39mkwargs)\n",
      "File \u001b[1;32mc:\\Users\\aksha\\anaconda3\\envs\\sihenv\\lib\\site-packages\\huggingface_hub\\_snapshot_download.py:293\u001b[0m, in \u001b[0;36msnapshot_download\u001b[1;34m(repo_id, repo_type, revision, cache_dir, local_dir, library_name, library_version, user_agent, proxies, etag_timeout, force_download, token, local_files_only, allow_patterns, ignore_patterns, max_workers, tqdm_class, headers, endpoint, local_dir_use_symlinks, resume_download)\u001b[0m\n\u001b[0;32m    291\u001b[0m         _inner_hf_hub_download(file)\n\u001b[0;32m    292\u001b[0m \u001b[38;5;28;01melse\u001b[39;00m:\n\u001b[1;32m--> 293\u001b[0m     \u001b[43mthread_map\u001b[49m\u001b[43m(\u001b[49m\n\u001b[0;32m    294\u001b[0m \u001b[43m        \u001b[49m\u001b[43m_inner_hf_hub_download\u001b[49m\u001b[43m,\u001b[49m\n\u001b[0;32m    295\u001b[0m \u001b[43m        \u001b[49m\u001b[43mfiltered_repo_files\u001b[49m\u001b[43m,\u001b[49m\n\u001b[0;32m    296\u001b[0m \u001b[43m        \u001b[49m\u001b[43mdesc\u001b[49m\u001b[38;5;241;43m=\u001b[39;49m\u001b[38;5;124;43mf\u001b[39;49m\u001b[38;5;124;43m\"\u001b[39;49m\u001b[38;5;124;43mFetching \u001b[39;49m\u001b[38;5;132;43;01m{\u001b[39;49;00m\u001b[38;5;28;43mlen\u001b[39;49m\u001b[43m(\u001b[49m\u001b[43mfiltered_repo_files\u001b[49m\u001b[43m)\u001b[49m\u001b[38;5;132;43;01m}\u001b[39;49;00m\u001b[38;5;124;43m files\u001b[39;49m\u001b[38;5;124;43m\"\u001b[39;49m\u001b[43m,\u001b[49m\n\u001b[0;32m    297\u001b[0m \u001b[43m        \u001b[49m\u001b[43mmax_workers\u001b[49m\u001b[38;5;241;43m=\u001b[39;49m\u001b[43mmax_workers\u001b[49m\u001b[43m,\u001b[49m\n\u001b[0;32m    298\u001b[0m \u001b[43m        \u001b[49m\u001b[38;5;66;43;03m# User can use its own tqdm class or the default one from `huggingface_hub.utils`\u001b[39;49;00m\n\u001b[0;32m    299\u001b[0m \u001b[43m        \u001b[49m\u001b[43mtqdm_class\u001b[49m\u001b[38;5;241;43m=\u001b[39;49m\u001b[43mtqdm_class\u001b[49m\u001b[43m \u001b[49m\u001b[38;5;129;43;01mor\u001b[39;49;00m\u001b[43m \u001b[49m\u001b[43mhf_tqdm\u001b[49m\u001b[43m,\u001b[49m\n\u001b[0;32m    300\u001b[0m \u001b[43m    \u001b[49m\u001b[43m)\u001b[49m\n\u001b[0;32m    302\u001b[0m \u001b[38;5;28;01mif\u001b[39;00m local_dir \u001b[38;5;129;01mis\u001b[39;00m \u001b[38;5;129;01mnot\u001b[39;00m \u001b[38;5;28;01mNone\u001b[39;00m:\n\u001b[0;32m    303\u001b[0m     \u001b[38;5;28;01mreturn\u001b[39;00m \u001b[38;5;28mstr\u001b[39m(os\u001b[38;5;241m.\u001b[39mpath\u001b[38;5;241m.\u001b[39mrealpath(local_dir))\n",
      "File \u001b[1;32mc:\\Users\\aksha\\anaconda3\\envs\\sihenv\\lib\\site-packages\\tqdm\\contrib\\concurrent.py:69\u001b[0m, in \u001b[0;36mthread_map\u001b[1;34m(fn, *iterables, **tqdm_kwargs)\u001b[0m\n\u001b[0;32m     55\u001b[0m \u001b[38;5;250m\u001b[39m\u001b[38;5;124;03m\"\"\"\u001b[39;00m\n\u001b[0;32m     56\u001b[0m \u001b[38;5;124;03mEquivalent of `list(map(fn, *iterables))`\u001b[39;00m\n\u001b[0;32m     57\u001b[0m \u001b[38;5;124;03mdriven by `concurrent.futures.ThreadPoolExecutor`.\u001b[39;00m\n\u001b[1;32m   (...)\u001b[0m\n\u001b[0;32m     66\u001b[0m \u001b[38;5;124;03m    [default: max(32, cpu_count() + 4)].\u001b[39;00m\n\u001b[0;32m     67\u001b[0m \u001b[38;5;124;03m\"\"\"\u001b[39;00m\n\u001b[0;32m     68\u001b[0m \u001b[38;5;28;01mfrom\u001b[39;00m \u001b[38;5;21;01mconcurrent\u001b[39;00m\u001b[38;5;21;01m.\u001b[39;00m\u001b[38;5;21;01mfutures\u001b[39;00m \u001b[38;5;28;01mimport\u001b[39;00m ThreadPoolExecutor\n\u001b[1;32m---> 69\u001b[0m \u001b[38;5;28;01mreturn\u001b[39;00m _executor_map(ThreadPoolExecutor, fn, \u001b[38;5;241m*\u001b[39miterables, \u001b[38;5;241m*\u001b[39m\u001b[38;5;241m*\u001b[39mtqdm_kwargs)\n",
      "File \u001b[1;32mc:\\Users\\aksha\\anaconda3\\envs\\sihenv\\lib\\site-packages\\tqdm\\contrib\\concurrent.py:51\u001b[0m, in \u001b[0;36m_executor_map\u001b[1;34m(PoolExecutor, fn, *iterables, **tqdm_kwargs)\u001b[0m\n\u001b[0;32m     47\u001b[0m \u001b[38;5;28;01mwith\u001b[39;00m ensure_lock(tqdm_class, lock_name\u001b[38;5;241m=\u001b[39mlock_name) \u001b[38;5;28;01mas\u001b[39;00m lk:\n\u001b[0;32m     48\u001b[0m     \u001b[38;5;66;03m# share lock in case workers are already using `tqdm`\u001b[39;00m\n\u001b[0;32m     49\u001b[0m     \u001b[38;5;28;01mwith\u001b[39;00m PoolExecutor(max_workers\u001b[38;5;241m=\u001b[39mmax_workers, initializer\u001b[38;5;241m=\u001b[39mtqdm_class\u001b[38;5;241m.\u001b[39mset_lock,\n\u001b[0;32m     50\u001b[0m                       initargs\u001b[38;5;241m=\u001b[39m(lk,)) \u001b[38;5;28;01mas\u001b[39;00m ex:\n\u001b[1;32m---> 51\u001b[0m         \u001b[38;5;28;01mreturn\u001b[39;00m \u001b[38;5;28;43mlist\u001b[39;49m\u001b[43m(\u001b[49m\u001b[43mtqdm_class\u001b[49m\u001b[43m(\u001b[49m\u001b[43mex\u001b[49m\u001b[38;5;241;43m.\u001b[39;49m\u001b[43mmap\u001b[49m\u001b[43m(\u001b[49m\u001b[43mfn\u001b[49m\u001b[43m,\u001b[49m\u001b[43m \u001b[49m\u001b[38;5;241;43m*\u001b[39;49m\u001b[43miterables\u001b[49m\u001b[43m,\u001b[49m\u001b[43m \u001b[49m\u001b[43mchunksize\u001b[49m\u001b[38;5;241;43m=\u001b[39;49m\u001b[43mchunksize\u001b[49m\u001b[43m)\u001b[49m\u001b[43m,\u001b[49m\u001b[43m \u001b[49m\u001b[38;5;241;43m*\u001b[39;49m\u001b[38;5;241;43m*\u001b[39;49m\u001b[43mkwargs\u001b[49m\u001b[43m)\u001b[49m\u001b[43m)\u001b[49m\n",
      "File \u001b[1;32mc:\\Users\\aksha\\anaconda3\\envs\\sihenv\\lib\\site-packages\\tqdm\\std.py:1181\u001b[0m, in \u001b[0;36mtqdm.__iter__\u001b[1;34m(self)\u001b[0m\n\u001b[0;32m   1178\u001b[0m time \u001b[38;5;241m=\u001b[39m \u001b[38;5;28mself\u001b[39m\u001b[38;5;241m.\u001b[39m_time\n\u001b[0;32m   1180\u001b[0m \u001b[38;5;28;01mtry\u001b[39;00m:\n\u001b[1;32m-> 1181\u001b[0m     \u001b[38;5;28;01mfor\u001b[39;00m obj \u001b[38;5;129;01min\u001b[39;00m iterable:\n\u001b[0;32m   1182\u001b[0m         \u001b[38;5;28;01myield\u001b[39;00m obj\n\u001b[0;32m   1183\u001b[0m         \u001b[38;5;66;03m# Update and possibly print the progressbar.\u001b[39;00m\n\u001b[0;32m   1184\u001b[0m         \u001b[38;5;66;03m# Note: does not call self.update(1) for speed optimisation.\u001b[39;00m\n",
      "File \u001b[1;32mc:\\Users\\aksha\\anaconda3\\envs\\sihenv\\lib\\concurrent\\futures\\_base.py:609\u001b[0m, in \u001b[0;36mExecutor.map.<locals>.result_iterator\u001b[1;34m()\u001b[0m\n\u001b[0;32m    606\u001b[0m \u001b[38;5;28;01mwhile\u001b[39;00m fs:\n\u001b[0;32m    607\u001b[0m     \u001b[38;5;66;03m# Careful not to keep a reference to the popped future\u001b[39;00m\n\u001b[0;32m    608\u001b[0m     \u001b[38;5;28;01mif\u001b[39;00m timeout \u001b[38;5;129;01mis\u001b[39;00m \u001b[38;5;28;01mNone\u001b[39;00m:\n\u001b[1;32m--> 609\u001b[0m         \u001b[38;5;28;01myield\u001b[39;00m \u001b[43mfs\u001b[49m\u001b[38;5;241;43m.\u001b[39;49m\u001b[43mpop\u001b[49m\u001b[43m(\u001b[49m\u001b[43m)\u001b[49m\u001b[38;5;241;43m.\u001b[39;49m\u001b[43mresult\u001b[49m\u001b[43m(\u001b[49m\u001b[43m)\u001b[49m\n\u001b[0;32m    610\u001b[0m     \u001b[38;5;28;01melse\u001b[39;00m:\n\u001b[0;32m    611\u001b[0m         \u001b[38;5;28;01myield\u001b[39;00m fs\u001b[38;5;241m.\u001b[39mpop()\u001b[38;5;241m.\u001b[39mresult(end_time \u001b[38;5;241m-\u001b[39m time\u001b[38;5;241m.\u001b[39mmonotonic())\n",
      "File \u001b[1;32mc:\\Users\\aksha\\anaconda3\\envs\\sihenv\\lib\\concurrent\\futures\\_base.py:446\u001b[0m, in \u001b[0;36mFuture.result\u001b[1;34m(self, timeout)\u001b[0m\n\u001b[0;32m    444\u001b[0m     \u001b[38;5;28;01mraise\u001b[39;00m CancelledError()\n\u001b[0;32m    445\u001b[0m \u001b[38;5;28;01melif\u001b[39;00m \u001b[38;5;28mself\u001b[39m\u001b[38;5;241m.\u001b[39m_state \u001b[38;5;241m==\u001b[39m FINISHED:\n\u001b[1;32m--> 446\u001b[0m     \u001b[38;5;28;01mreturn\u001b[39;00m \u001b[38;5;28;43mself\u001b[39;49m\u001b[38;5;241;43m.\u001b[39;49m\u001b[43m__get_result\u001b[49m\u001b[43m(\u001b[49m\u001b[43m)\u001b[49m\n\u001b[0;32m    447\u001b[0m \u001b[38;5;28;01melse\u001b[39;00m:\n\u001b[0;32m    448\u001b[0m     \u001b[38;5;28;01mraise\u001b[39;00m \u001b[38;5;167;01mTimeoutError\u001b[39;00m()\n",
      "File \u001b[1;32mc:\\Users\\aksha\\anaconda3\\envs\\sihenv\\lib\\concurrent\\futures\\_base.py:391\u001b[0m, in \u001b[0;36mFuture.__get_result\u001b[1;34m(self)\u001b[0m\n\u001b[0;32m    389\u001b[0m \u001b[38;5;28;01mif\u001b[39;00m \u001b[38;5;28mself\u001b[39m\u001b[38;5;241m.\u001b[39m_exception:\n\u001b[0;32m    390\u001b[0m     \u001b[38;5;28;01mtry\u001b[39;00m:\n\u001b[1;32m--> 391\u001b[0m         \u001b[38;5;28;01mraise\u001b[39;00m \u001b[38;5;28mself\u001b[39m\u001b[38;5;241m.\u001b[39m_exception\n\u001b[0;32m    392\u001b[0m     \u001b[38;5;28;01mfinally\u001b[39;00m:\n\u001b[0;32m    393\u001b[0m         \u001b[38;5;66;03m# Break a reference cycle with the exception in self._exception\u001b[39;00m\n\u001b[0;32m    394\u001b[0m         \u001b[38;5;28mself\u001b[39m \u001b[38;5;241m=\u001b[39m \u001b[38;5;28;01mNone\u001b[39;00m\n",
      "File \u001b[1;32mc:\\Users\\aksha\\anaconda3\\envs\\sihenv\\lib\\concurrent\\futures\\thread.py:58\u001b[0m, in \u001b[0;36m_WorkItem.run\u001b[1;34m(self)\u001b[0m\n\u001b[0;32m     55\u001b[0m     \u001b[38;5;28;01mreturn\u001b[39;00m\n\u001b[0;32m     57\u001b[0m \u001b[38;5;28;01mtry\u001b[39;00m:\n\u001b[1;32m---> 58\u001b[0m     result \u001b[38;5;241m=\u001b[39m \u001b[38;5;28mself\u001b[39m\u001b[38;5;241m.\u001b[39mfn(\u001b[38;5;241m*\u001b[39m\u001b[38;5;28mself\u001b[39m\u001b[38;5;241m.\u001b[39margs, \u001b[38;5;241m*\u001b[39m\u001b[38;5;241m*\u001b[39m\u001b[38;5;28mself\u001b[39m\u001b[38;5;241m.\u001b[39mkwargs)\n\u001b[0;32m     59\u001b[0m \u001b[38;5;28;01mexcept\u001b[39;00m \u001b[38;5;167;01mBaseException\u001b[39;00m \u001b[38;5;28;01mas\u001b[39;00m exc:\n\u001b[0;32m     60\u001b[0m     \u001b[38;5;28mself\u001b[39m\u001b[38;5;241m.\u001b[39mfuture\u001b[38;5;241m.\u001b[39mset_exception(exc)\n",
      "File \u001b[1;32mc:\\Users\\aksha\\anaconda3\\envs\\sihenv\\lib\\site-packages\\huggingface_hub\\_snapshot_download.py:267\u001b[0m, in \u001b[0;36msnapshot_download.<locals>._inner_hf_hub_download\u001b[1;34m(repo_file)\u001b[0m\n\u001b[0;32m    266\u001b[0m \u001b[38;5;28;01mdef\u001b[39;00m \u001b[38;5;21m_inner_hf_hub_download\u001b[39m(repo_file: \u001b[38;5;28mstr\u001b[39m):\n\u001b[1;32m--> 267\u001b[0m     \u001b[38;5;28;01mreturn\u001b[39;00m \u001b[43mhf_hub_download\u001b[49m\u001b[43m(\u001b[49m\n\u001b[0;32m    268\u001b[0m \u001b[43m        \u001b[49m\u001b[43mrepo_id\u001b[49m\u001b[43m,\u001b[49m\n\u001b[0;32m    269\u001b[0m \u001b[43m        \u001b[49m\u001b[43mfilename\u001b[49m\u001b[38;5;241;43m=\u001b[39;49m\u001b[43mrepo_file\u001b[49m\u001b[43m,\u001b[49m\n\u001b[0;32m    270\u001b[0m \u001b[43m        \u001b[49m\u001b[43mrepo_type\u001b[49m\u001b[38;5;241;43m=\u001b[39;49m\u001b[43mrepo_type\u001b[49m\u001b[43m,\u001b[49m\n\u001b[0;32m    271\u001b[0m \u001b[43m        \u001b[49m\u001b[43mrevision\u001b[49m\u001b[38;5;241;43m=\u001b[39;49m\u001b[43mcommit_hash\u001b[49m\u001b[43m,\u001b[49m\n\u001b[0;32m    272\u001b[0m \u001b[43m        \u001b[49m\u001b[43mendpoint\u001b[49m\u001b[38;5;241;43m=\u001b[39;49m\u001b[43mendpoint\u001b[49m\u001b[43m,\u001b[49m\n\u001b[0;32m    273\u001b[0m \u001b[43m        \u001b[49m\u001b[43mcache_dir\u001b[49m\u001b[38;5;241;43m=\u001b[39;49m\u001b[43mcache_dir\u001b[49m\u001b[43m,\u001b[49m\n\u001b[0;32m    274\u001b[0m \u001b[43m        \u001b[49m\u001b[43mlocal_dir\u001b[49m\u001b[38;5;241;43m=\u001b[39;49m\u001b[43mlocal_dir\u001b[49m\u001b[43m,\u001b[49m\n\u001b[0;32m    275\u001b[0m \u001b[43m        \u001b[49m\u001b[43mlocal_dir_use_symlinks\u001b[49m\u001b[38;5;241;43m=\u001b[39;49m\u001b[43mlocal_dir_use_symlinks\u001b[49m\u001b[43m,\u001b[49m\n\u001b[0;32m    276\u001b[0m \u001b[43m        \u001b[49m\u001b[43mlibrary_name\u001b[49m\u001b[38;5;241;43m=\u001b[39;49m\u001b[43mlibrary_name\u001b[49m\u001b[43m,\u001b[49m\n\u001b[0;32m    277\u001b[0m \u001b[43m        \u001b[49m\u001b[43mlibrary_version\u001b[49m\u001b[38;5;241;43m=\u001b[39;49m\u001b[43mlibrary_version\u001b[49m\u001b[43m,\u001b[49m\n\u001b[0;32m    278\u001b[0m \u001b[43m        \u001b[49m\u001b[43muser_agent\u001b[49m\u001b[38;5;241;43m=\u001b[39;49m\u001b[43muser_agent\u001b[49m\u001b[43m,\u001b[49m\n\u001b[0;32m    279\u001b[0m \u001b[43m        \u001b[49m\u001b[43mproxies\u001b[49m\u001b[38;5;241;43m=\u001b[39;49m\u001b[43mproxies\u001b[49m\u001b[43m,\u001b[49m\n\u001b[0;32m    280\u001b[0m \u001b[43m        \u001b[49m\u001b[43metag_timeout\u001b[49m\u001b[38;5;241;43m=\u001b[39;49m\u001b[43metag_timeout\u001b[49m\u001b[43m,\u001b[49m\n\u001b[0;32m    281\u001b[0m \u001b[43m        \u001b[49m\u001b[43mresume_download\u001b[49m\u001b[38;5;241;43m=\u001b[39;49m\u001b[43mresume_download\u001b[49m\u001b[43m,\u001b[49m\n\u001b[0;32m    282\u001b[0m \u001b[43m        \u001b[49m\u001b[43mforce_download\u001b[49m\u001b[38;5;241;43m=\u001b[39;49m\u001b[43mforce_download\u001b[49m\u001b[43m,\u001b[49m\n\u001b[0;32m    283\u001b[0m \u001b[43m        \u001b[49m\u001b[43mtoken\u001b[49m\u001b[38;5;241;43m=\u001b[39;49m\u001b[43mtoken\u001b[49m\u001b[43m,\u001b[49m\n\u001b[0;32m    284\u001b[0m \u001b[43m        \u001b[49m\u001b[43mheaders\u001b[49m\u001b[38;5;241;43m=\u001b[39;49m\u001b[43mheaders\u001b[49m\u001b[43m,\u001b[49m\n\u001b[0;32m    285\u001b[0m \u001b[43m    \u001b[49m\u001b[43m)\u001b[49m\n",
      "File \u001b[1;32mc:\\Users\\aksha\\anaconda3\\envs\\sihenv\\lib\\site-packages\\huggingface_hub\\utils\\_validators.py:114\u001b[0m, in \u001b[0;36mvalidate_hf_hub_args.<locals>._inner_fn\u001b[1;34m(*args, **kwargs)\u001b[0m\n\u001b[0;32m    111\u001b[0m \u001b[38;5;28;01mif\u001b[39;00m check_use_auth_token:\n\u001b[0;32m    112\u001b[0m     kwargs \u001b[38;5;241m=\u001b[39m smoothly_deprecate_use_auth_token(fn_name\u001b[38;5;241m=\u001b[39mfn\u001b[38;5;241m.\u001b[39m\u001b[38;5;18m__name__\u001b[39m, has_token\u001b[38;5;241m=\u001b[39mhas_token, kwargs\u001b[38;5;241m=\u001b[39mkwargs)\n\u001b[1;32m--> 114\u001b[0m \u001b[38;5;28;01mreturn\u001b[39;00m fn(\u001b[38;5;241m*\u001b[39margs, \u001b[38;5;241m*\u001b[39m\u001b[38;5;241m*\u001b[39mkwargs)\n",
      "File \u001b[1;32mc:\\Users\\aksha\\anaconda3\\envs\\sihenv\\lib\\site-packages\\huggingface_hub\\file_download.py:862\u001b[0m, in \u001b[0;36mhf_hub_download\u001b[1;34m(repo_id, filename, subfolder, repo_type, revision, library_name, library_version, cache_dir, local_dir, user_agent, force_download, proxies, etag_timeout, token, local_files_only, headers, endpoint, resume_download, force_filename, local_dir_use_symlinks)\u001b[0m\n\u001b[0;32m    842\u001b[0m     \u001b[38;5;28;01mreturn\u001b[39;00m _hf_hub_download_to_local_dir(\n\u001b[0;32m    843\u001b[0m         \u001b[38;5;66;03m# Destination\u001b[39;00m\n\u001b[0;32m    844\u001b[0m         local_dir\u001b[38;5;241m=\u001b[39mlocal_dir,\n\u001b[1;32m   (...)\u001b[0m\n\u001b[0;32m    859\u001b[0m         local_files_only\u001b[38;5;241m=\u001b[39mlocal_files_only,\n\u001b[0;32m    860\u001b[0m     )\n\u001b[0;32m    861\u001b[0m \u001b[38;5;28;01melse\u001b[39;00m:\n\u001b[1;32m--> 862\u001b[0m     \u001b[38;5;28;01mreturn\u001b[39;00m \u001b[43m_hf_hub_download_to_cache_dir\u001b[49m\u001b[43m(\u001b[49m\n\u001b[0;32m    863\u001b[0m \u001b[43m        \u001b[49m\u001b[38;5;66;43;03m# Destination\u001b[39;49;00m\n\u001b[0;32m    864\u001b[0m \u001b[43m        \u001b[49m\u001b[43mcache_dir\u001b[49m\u001b[38;5;241;43m=\u001b[39;49m\u001b[43mcache_dir\u001b[49m\u001b[43m,\u001b[49m\n\u001b[0;32m    865\u001b[0m \u001b[43m        \u001b[49m\u001b[38;5;66;43;03m# File info\u001b[39;49;00m\n\u001b[0;32m    866\u001b[0m \u001b[43m        \u001b[49m\u001b[43mrepo_id\u001b[49m\u001b[38;5;241;43m=\u001b[39;49m\u001b[43mrepo_id\u001b[49m\u001b[43m,\u001b[49m\n\u001b[0;32m    867\u001b[0m \u001b[43m        \u001b[49m\u001b[43mfilename\u001b[49m\u001b[38;5;241;43m=\u001b[39;49m\u001b[43mfilename\u001b[49m\u001b[43m,\u001b[49m\n\u001b[0;32m    868\u001b[0m \u001b[43m        \u001b[49m\u001b[43mrepo_type\u001b[49m\u001b[38;5;241;43m=\u001b[39;49m\u001b[43mrepo_type\u001b[49m\u001b[43m,\u001b[49m\n\u001b[0;32m    869\u001b[0m \u001b[43m        \u001b[49m\u001b[43mrevision\u001b[49m\u001b[38;5;241;43m=\u001b[39;49m\u001b[43mrevision\u001b[49m\u001b[43m,\u001b[49m\n\u001b[0;32m    870\u001b[0m \u001b[43m        \u001b[49m\u001b[38;5;66;43;03m# HTTP info\u001b[39;49;00m\n\u001b[0;32m    871\u001b[0m \u001b[43m        \u001b[49m\u001b[43mendpoint\u001b[49m\u001b[38;5;241;43m=\u001b[39;49m\u001b[43mendpoint\u001b[49m\u001b[43m,\u001b[49m\n\u001b[0;32m    872\u001b[0m \u001b[43m        \u001b[49m\u001b[43metag_timeout\u001b[49m\u001b[38;5;241;43m=\u001b[39;49m\u001b[43metag_timeout\u001b[49m\u001b[43m,\u001b[49m\n\u001b[0;32m    873\u001b[0m \u001b[43m        \u001b[49m\u001b[43mheaders\u001b[49m\u001b[38;5;241;43m=\u001b[39;49m\u001b[43mheaders\u001b[49m\u001b[43m,\u001b[49m\n\u001b[0;32m    874\u001b[0m \u001b[43m        \u001b[49m\u001b[43mproxies\u001b[49m\u001b[38;5;241;43m=\u001b[39;49m\u001b[43mproxies\u001b[49m\u001b[43m,\u001b[49m\n\u001b[0;32m    875\u001b[0m \u001b[43m        \u001b[49m\u001b[43mtoken\u001b[49m\u001b[38;5;241;43m=\u001b[39;49m\u001b[43mtoken\u001b[49m\u001b[43m,\u001b[49m\n\u001b[0;32m    876\u001b[0m \u001b[43m        \u001b[49m\u001b[38;5;66;43;03m# Additional options\u001b[39;49;00m\n\u001b[0;32m    877\u001b[0m \u001b[43m        \u001b[49m\u001b[43mlocal_files_only\u001b[49m\u001b[38;5;241;43m=\u001b[39;49m\u001b[43mlocal_files_only\u001b[49m\u001b[43m,\u001b[49m\n\u001b[0;32m    878\u001b[0m \u001b[43m        \u001b[49m\u001b[43mforce_download\u001b[49m\u001b[38;5;241;43m=\u001b[39;49m\u001b[43mforce_download\u001b[49m\u001b[43m,\u001b[49m\n\u001b[0;32m    879\u001b[0m \u001b[43m    \u001b[49m\u001b[43m)\u001b[49m\n",
      "File \u001b[1;32mc:\\Users\\aksha\\anaconda3\\envs\\sihenv\\lib\\site-packages\\huggingface_hub\\file_download.py:969\u001b[0m, in \u001b[0;36m_hf_hub_download_to_cache_dir\u001b[1;34m(cache_dir, repo_id, filename, repo_type, revision, endpoint, etag_timeout, headers, proxies, token, local_files_only, force_download)\u001b[0m\n\u001b[0;32m    966\u001b[0m                 \u001b[38;5;28;01mreturn\u001b[39;00m pointer_path\n\u001b[0;32m    968\u001b[0m     \u001b[38;5;66;03m# Otherwise, raise appropriate error\u001b[39;00m\n\u001b[1;32m--> 969\u001b[0m     \u001b[43m_raise_on_head_call_error\u001b[49m\u001b[43m(\u001b[49m\u001b[43mhead_call_error\u001b[49m\u001b[43m,\u001b[49m\u001b[43m \u001b[49m\u001b[43mforce_download\u001b[49m\u001b[43m,\u001b[49m\u001b[43m \u001b[49m\u001b[43mlocal_files_only\u001b[49m\u001b[43m)\u001b[49m\n\u001b[0;32m    971\u001b[0m \u001b[38;5;66;03m# From now on, etag, commit_hash, url and size are not None.\u001b[39;00m\n\u001b[0;32m    972\u001b[0m \u001b[38;5;28;01massert\u001b[39;00m etag \u001b[38;5;129;01mis\u001b[39;00m \u001b[38;5;129;01mnot\u001b[39;00m \u001b[38;5;28;01mNone\u001b[39;00m, \u001b[38;5;124m\"\u001b[39m\u001b[38;5;124metag must have been retrieved from server\u001b[39m\u001b[38;5;124m\"\u001b[39m\n",
      "File \u001b[1;32mc:\\Users\\aksha\\anaconda3\\envs\\sihenv\\lib\\site-packages\\huggingface_hub\\file_download.py:1484\u001b[0m, in \u001b[0;36m_raise_on_head_call_error\u001b[1;34m(head_call_error, force_download, local_files_only)\u001b[0m\n\u001b[0;32m   1478\u001b[0m     \u001b[38;5;28;01mraise\u001b[39;00m LocalEntryNotFoundError(\n\u001b[0;32m   1479\u001b[0m         \u001b[38;5;124m\"\u001b[39m\u001b[38;5;124mCannot find the requested files in the disk cache and outgoing traffic has been disabled. To enable\u001b[39m\u001b[38;5;124m\"\u001b[39m\n\u001b[0;32m   1480\u001b[0m         \u001b[38;5;124m\"\u001b[39m\u001b[38;5;124m hf.co look-ups and downloads online, set \u001b[39m\u001b[38;5;124m'\u001b[39m\u001b[38;5;124mlocal_files_only\u001b[39m\u001b[38;5;124m'\u001b[39m\u001b[38;5;124m to False.\u001b[39m\u001b[38;5;124m\"\u001b[39m\n\u001b[0;32m   1481\u001b[0m     )\n\u001b[0;32m   1482\u001b[0m \u001b[38;5;28;01melif\u001b[39;00m \u001b[38;5;28misinstance\u001b[39m(head_call_error, RepositoryNotFoundError) \u001b[38;5;129;01mor\u001b[39;00m \u001b[38;5;28misinstance\u001b[39m(head_call_error, GatedRepoError):\n\u001b[0;32m   1483\u001b[0m     \u001b[38;5;66;03m# Repo not found or gated => let's raise the actual error\u001b[39;00m\n\u001b[1;32m-> 1484\u001b[0m     \u001b[38;5;28;01mraise\u001b[39;00m head_call_error\n\u001b[0;32m   1485\u001b[0m \u001b[38;5;28;01melse\u001b[39;00m:\n\u001b[0;32m   1486\u001b[0m     \u001b[38;5;66;03m# Otherwise: most likely a connection issue or Hub downtime => let's warn the user\u001b[39;00m\n\u001b[0;32m   1487\u001b[0m     \u001b[38;5;28;01mraise\u001b[39;00m LocalEntryNotFoundError(\n\u001b[0;32m   1488\u001b[0m         \u001b[38;5;124m\"\u001b[39m\u001b[38;5;124mAn error happened while trying to locate the file on the Hub and we cannot find the requested files\u001b[39m\u001b[38;5;124m\"\u001b[39m\n\u001b[0;32m   1489\u001b[0m         \u001b[38;5;124m\"\u001b[39m\u001b[38;5;124m in the local cache. Please check your connection and try again or make sure your Internet connection\u001b[39m\u001b[38;5;124m\"\u001b[39m\n\u001b[0;32m   1490\u001b[0m         \u001b[38;5;124m\"\u001b[39m\u001b[38;5;124m is on.\u001b[39m\u001b[38;5;124m\"\u001b[39m\n\u001b[0;32m   1491\u001b[0m     ) \u001b[38;5;28;01mfrom\u001b[39;00m \u001b[38;5;21;01mhead_call_error\u001b[39;00m\n",
      "File \u001b[1;32mc:\\Users\\aksha\\anaconda3\\envs\\sihenv\\lib\\site-packages\\huggingface_hub\\file_download.py:1376\u001b[0m, in \u001b[0;36m_get_metadata_or_catch_error\u001b[1;34m(repo_id, filename, repo_type, revision, endpoint, proxies, etag_timeout, headers, token, local_files_only, relative_filename, storage_folder)\u001b[0m\n\u001b[0;32m   1374\u001b[0m \u001b[38;5;28;01mtry\u001b[39;00m:\n\u001b[0;32m   1375\u001b[0m     \u001b[38;5;28;01mtry\u001b[39;00m:\n\u001b[1;32m-> 1376\u001b[0m         metadata \u001b[38;5;241m=\u001b[39m \u001b[43mget_hf_file_metadata\u001b[49m\u001b[43m(\u001b[49m\n\u001b[0;32m   1377\u001b[0m \u001b[43m            \u001b[49m\u001b[43murl\u001b[49m\u001b[38;5;241;43m=\u001b[39;49m\u001b[43murl\u001b[49m\u001b[43m,\u001b[49m\u001b[43m \u001b[49m\u001b[43mproxies\u001b[49m\u001b[38;5;241;43m=\u001b[39;49m\u001b[43mproxies\u001b[49m\u001b[43m,\u001b[49m\u001b[43m \u001b[49m\u001b[43mtimeout\u001b[49m\u001b[38;5;241;43m=\u001b[39;49m\u001b[43metag_timeout\u001b[49m\u001b[43m,\u001b[49m\u001b[43m \u001b[49m\u001b[43mheaders\u001b[49m\u001b[38;5;241;43m=\u001b[39;49m\u001b[43mheaders\u001b[49m\u001b[43m,\u001b[49m\u001b[43m \u001b[49m\u001b[43mtoken\u001b[49m\u001b[38;5;241;43m=\u001b[39;49m\u001b[43mtoken\u001b[49m\n\u001b[0;32m   1378\u001b[0m \u001b[43m        \u001b[49m\u001b[43m)\u001b[49m\n\u001b[0;32m   1379\u001b[0m     \u001b[38;5;28;01mexcept\u001b[39;00m EntryNotFoundError \u001b[38;5;28;01mas\u001b[39;00m http_error:\n\u001b[0;32m   1380\u001b[0m         \u001b[38;5;28;01mif\u001b[39;00m storage_folder \u001b[38;5;129;01mis\u001b[39;00m \u001b[38;5;129;01mnot\u001b[39;00m \u001b[38;5;28;01mNone\u001b[39;00m \u001b[38;5;129;01mand\u001b[39;00m relative_filename \u001b[38;5;129;01mis\u001b[39;00m \u001b[38;5;129;01mnot\u001b[39;00m \u001b[38;5;28;01mNone\u001b[39;00m:\n\u001b[0;32m   1381\u001b[0m             \u001b[38;5;66;03m# Cache the non-existence of the file\u001b[39;00m\n",
      "File \u001b[1;32mc:\\Users\\aksha\\anaconda3\\envs\\sihenv\\lib\\site-packages\\huggingface_hub\\utils\\_validators.py:114\u001b[0m, in \u001b[0;36mvalidate_hf_hub_args.<locals>._inner_fn\u001b[1;34m(*args, **kwargs)\u001b[0m\n\u001b[0;32m    111\u001b[0m \u001b[38;5;28;01mif\u001b[39;00m check_use_auth_token:\n\u001b[0;32m    112\u001b[0m     kwargs \u001b[38;5;241m=\u001b[39m smoothly_deprecate_use_auth_token(fn_name\u001b[38;5;241m=\u001b[39mfn\u001b[38;5;241m.\u001b[39m\u001b[38;5;18m__name__\u001b[39m, has_token\u001b[38;5;241m=\u001b[39mhas_token, kwargs\u001b[38;5;241m=\u001b[39mkwargs)\n\u001b[1;32m--> 114\u001b[0m \u001b[38;5;28;01mreturn\u001b[39;00m fn(\u001b[38;5;241m*\u001b[39margs, \u001b[38;5;241m*\u001b[39m\u001b[38;5;241m*\u001b[39mkwargs)\n",
      "File \u001b[1;32mc:\\Users\\aksha\\anaconda3\\envs\\sihenv\\lib\\site-packages\\huggingface_hub\\file_download.py:1296\u001b[0m, in \u001b[0;36mget_hf_file_metadata\u001b[1;34m(url, token, proxies, timeout, library_name, library_version, user_agent, headers)\u001b[0m\n\u001b[0;32m   1293\u001b[0m headers[\u001b[38;5;124m\"\u001b[39m\u001b[38;5;124mAccept-Encoding\u001b[39m\u001b[38;5;124m\"\u001b[39m] \u001b[38;5;241m=\u001b[39m \u001b[38;5;124m\"\u001b[39m\u001b[38;5;124midentity\u001b[39m\u001b[38;5;124m\"\u001b[39m  \u001b[38;5;66;03m# prevent any compression => we want to know the real size of the file\u001b[39;00m\n\u001b[0;32m   1295\u001b[0m \u001b[38;5;66;03m# Retrieve metadata\u001b[39;00m\n\u001b[1;32m-> 1296\u001b[0m r \u001b[38;5;241m=\u001b[39m \u001b[43m_request_wrapper\u001b[49m\u001b[43m(\u001b[49m\n\u001b[0;32m   1297\u001b[0m \u001b[43m    \u001b[49m\u001b[43mmethod\u001b[49m\u001b[38;5;241;43m=\u001b[39;49m\u001b[38;5;124;43m\"\u001b[39;49m\u001b[38;5;124;43mHEAD\u001b[39;49m\u001b[38;5;124;43m\"\u001b[39;49m\u001b[43m,\u001b[49m\n\u001b[0;32m   1298\u001b[0m \u001b[43m    \u001b[49m\u001b[43murl\u001b[49m\u001b[38;5;241;43m=\u001b[39;49m\u001b[43murl\u001b[49m\u001b[43m,\u001b[49m\n\u001b[0;32m   1299\u001b[0m \u001b[43m    \u001b[49m\u001b[43mheaders\u001b[49m\u001b[38;5;241;43m=\u001b[39;49m\u001b[43mheaders\u001b[49m\u001b[43m,\u001b[49m\n\u001b[0;32m   1300\u001b[0m \u001b[43m    \u001b[49m\u001b[43mallow_redirects\u001b[49m\u001b[38;5;241;43m=\u001b[39;49m\u001b[38;5;28;43;01mFalse\u001b[39;49;00m\u001b[43m,\u001b[49m\n\u001b[0;32m   1301\u001b[0m \u001b[43m    \u001b[49m\u001b[43mfollow_relative_redirects\u001b[49m\u001b[38;5;241;43m=\u001b[39;49m\u001b[38;5;28;43;01mTrue\u001b[39;49;00m\u001b[43m,\u001b[49m\n\u001b[0;32m   1302\u001b[0m \u001b[43m    \u001b[49m\u001b[43mproxies\u001b[49m\u001b[38;5;241;43m=\u001b[39;49m\u001b[43mproxies\u001b[49m\u001b[43m,\u001b[49m\n\u001b[0;32m   1303\u001b[0m \u001b[43m    \u001b[49m\u001b[43mtimeout\u001b[49m\u001b[38;5;241;43m=\u001b[39;49m\u001b[43mtimeout\u001b[49m\u001b[43m,\u001b[49m\n\u001b[0;32m   1304\u001b[0m \u001b[43m\u001b[49m\u001b[43m)\u001b[49m\n\u001b[0;32m   1305\u001b[0m hf_raise_for_status(r)\n\u001b[0;32m   1307\u001b[0m \u001b[38;5;66;03m# Return\u001b[39;00m\n",
      "File \u001b[1;32mc:\\Users\\aksha\\anaconda3\\envs\\sihenv\\lib\\site-packages\\huggingface_hub\\file_download.py:277\u001b[0m, in \u001b[0;36m_request_wrapper\u001b[1;34m(method, url, follow_relative_redirects, **params)\u001b[0m\n\u001b[0;32m    275\u001b[0m \u001b[38;5;66;03m# Recursively follow relative redirects\u001b[39;00m\n\u001b[0;32m    276\u001b[0m \u001b[38;5;28;01mif\u001b[39;00m follow_relative_redirects:\n\u001b[1;32m--> 277\u001b[0m     response \u001b[38;5;241m=\u001b[39m _request_wrapper(\n\u001b[0;32m    278\u001b[0m         method\u001b[38;5;241m=\u001b[39mmethod,\n\u001b[0;32m    279\u001b[0m         url\u001b[38;5;241m=\u001b[39murl,\n\u001b[0;32m    280\u001b[0m         follow_relative_redirects\u001b[38;5;241m=\u001b[39m\u001b[38;5;28;01mFalse\u001b[39;00m,\n\u001b[0;32m    281\u001b[0m         \u001b[38;5;241m*\u001b[39m\u001b[38;5;241m*\u001b[39mparams,\n\u001b[0;32m    282\u001b[0m     )\n\u001b[0;32m    284\u001b[0m     \u001b[38;5;66;03m# If redirection, we redirect only relative paths.\u001b[39;00m\n\u001b[0;32m    285\u001b[0m     \u001b[38;5;66;03m# This is useful in case of a renamed repository.\u001b[39;00m\n\u001b[0;32m    286\u001b[0m     \u001b[38;5;28;01mif\u001b[39;00m \u001b[38;5;241m300\u001b[39m \u001b[38;5;241m<\u001b[39m\u001b[38;5;241m=\u001b[39m response\u001b[38;5;241m.\u001b[39mstatus_code \u001b[38;5;241m<\u001b[39m\u001b[38;5;241m=\u001b[39m \u001b[38;5;241m399\u001b[39m:\n",
      "File \u001b[1;32mc:\\Users\\aksha\\anaconda3\\envs\\sihenv\\lib\\site-packages\\huggingface_hub\\file_download.py:301\u001b[0m, in \u001b[0;36m_request_wrapper\u001b[1;34m(method, url, follow_relative_redirects, **params)\u001b[0m\n\u001b[0;32m    299\u001b[0m \u001b[38;5;66;03m# Perform request and return if status_code is not in the retry list.\u001b[39;00m\n\u001b[0;32m    300\u001b[0m response \u001b[38;5;241m=\u001b[39m get_session()\u001b[38;5;241m.\u001b[39mrequest(method\u001b[38;5;241m=\u001b[39mmethod, url\u001b[38;5;241m=\u001b[39murl, \u001b[38;5;241m*\u001b[39m\u001b[38;5;241m*\u001b[39mparams)\n\u001b[1;32m--> 301\u001b[0m \u001b[43mhf_raise_for_status\u001b[49m\u001b[43m(\u001b[49m\u001b[43mresponse\u001b[49m\u001b[43m)\u001b[49m\n\u001b[0;32m    302\u001b[0m \u001b[38;5;28;01mreturn\u001b[39;00m response\n",
      "File \u001b[1;32mc:\\Users\\aksha\\anaconda3\\envs\\sihenv\\lib\\site-packages\\huggingface_hub\\utils\\_http.py:423\u001b[0m, in \u001b[0;36mhf_raise_for_status\u001b[1;34m(response, endpoint_name)\u001b[0m\n\u001b[0;32m    419\u001b[0m \u001b[38;5;28;01melif\u001b[39;00m error_code \u001b[38;5;241m==\u001b[39m \u001b[38;5;124m\"\u001b[39m\u001b[38;5;124mGatedRepo\u001b[39m\u001b[38;5;124m\"\u001b[39m:\n\u001b[0;32m    420\u001b[0m     message \u001b[38;5;241m=\u001b[39m (\n\u001b[0;32m    421\u001b[0m         \u001b[38;5;124mf\u001b[39m\u001b[38;5;124m\"\u001b[39m\u001b[38;5;132;01m{\u001b[39;00mresponse\u001b[38;5;241m.\u001b[39mstatus_code\u001b[38;5;132;01m}\u001b[39;00m\u001b[38;5;124m Client Error.\u001b[39m\u001b[38;5;124m\"\u001b[39m \u001b[38;5;241m+\u001b[39m \u001b[38;5;124m\"\u001b[39m\u001b[38;5;130;01m\\n\u001b[39;00m\u001b[38;5;130;01m\\n\u001b[39;00m\u001b[38;5;124m\"\u001b[39m \u001b[38;5;241m+\u001b[39m \u001b[38;5;124mf\u001b[39m\u001b[38;5;124m\"\u001b[39m\u001b[38;5;124mCannot access gated repo for url \u001b[39m\u001b[38;5;132;01m{\u001b[39;00mresponse\u001b[38;5;241m.\u001b[39murl\u001b[38;5;132;01m}\u001b[39;00m\u001b[38;5;124m.\u001b[39m\u001b[38;5;124m\"\u001b[39m\n\u001b[0;32m    422\u001b[0m     )\n\u001b[1;32m--> 423\u001b[0m     \u001b[38;5;28;01mraise\u001b[39;00m _format(GatedRepoError, message, response) \u001b[38;5;28;01mfrom\u001b[39;00m \u001b[38;5;21;01me\u001b[39;00m\n\u001b[0;32m    425\u001b[0m \u001b[38;5;28;01melif\u001b[39;00m error_message \u001b[38;5;241m==\u001b[39m \u001b[38;5;124m\"\u001b[39m\u001b[38;5;124mAccess to this resource is disabled.\u001b[39m\u001b[38;5;124m\"\u001b[39m:\n\u001b[0;32m    426\u001b[0m     message \u001b[38;5;241m=\u001b[39m (\n\u001b[0;32m    427\u001b[0m         \u001b[38;5;124mf\u001b[39m\u001b[38;5;124m\"\u001b[39m\u001b[38;5;132;01m{\u001b[39;00mresponse\u001b[38;5;241m.\u001b[39mstatus_code\u001b[38;5;132;01m}\u001b[39;00m\u001b[38;5;124m Client Error.\u001b[39m\u001b[38;5;124m\"\u001b[39m\n\u001b[0;32m    428\u001b[0m         \u001b[38;5;241m+\u001b[39m \u001b[38;5;124m\"\u001b[39m\u001b[38;5;130;01m\\n\u001b[39;00m\u001b[38;5;130;01m\\n\u001b[39;00m\u001b[38;5;124m\"\u001b[39m\n\u001b[1;32m   (...)\u001b[0m\n\u001b[0;32m    431\u001b[0m         \u001b[38;5;241m+\u001b[39m \u001b[38;5;124m\"\u001b[39m\u001b[38;5;124mAccess to this resource is disabled.\u001b[39m\u001b[38;5;124m\"\u001b[39m\n\u001b[0;32m    432\u001b[0m     )\n",
      "\u001b[1;31mGatedRepoError\u001b[0m: 401 Client Error. (Request ID: Root=1-67850012-1780bfd97babead36d713446;92405f43-004f-462e-889f-8a36a0accc86)\n\nCannot access gated repo for url https://huggingface.co/meta-llama/Llama-2-70b-chat-hf/resolve/e9149a12809580e8602995856f8098ce973d1080/config.json.\nAccess to model meta-llama/Llama-2-70b-chat-hf is restricted. You must have access to it and be authenticated to access it. Please log in."
     ]
    }
   ],
   "source": [
    "\n",
    "llm = CTransformers(\n",
    "    model=\"meta-llama/Llama-2-70b-chat-hf\",\n",
    "    model_type=\"llama\",\n",
    "    config={'max_new_tokens': 512, 'temperature': 0.8}\n",
    ")\n"
   ]
  },
  {
   "cell_type": "code",
   "execution_count": 13,
   "metadata": {},
   "outputs": [
    {
     "ename": "NameError",
     "evalue": "name 'llm' is not defined",
     "output_type": "error",
     "traceback": [
      "\u001b[1;31m---------------------------------------------------------------------------\u001b[0m",
      "\u001b[1;31mNameError\u001b[0m                                 Traceback (most recent call last)",
      "Cell \u001b[1;32mIn[13], line 2\u001b[0m\n\u001b[0;32m      1\u001b[0m qa \u001b[38;5;241m=\u001b[39m RetrievalQA\u001b[38;5;241m.\u001b[39mfrom_chain_type(\n\u001b[1;32m----> 2\u001b[0m     llm\u001b[38;5;241m=\u001b[39m\u001b[43mllm\u001b[49m,\n\u001b[0;32m      3\u001b[0m     chain_type\u001b[38;5;241m=\u001b[39m\u001b[38;5;124m\"\u001b[39m\u001b[38;5;124mstuff\u001b[39m\u001b[38;5;124m\"\u001b[39m,\n\u001b[0;32m      4\u001b[0m     retriever\u001b[38;5;241m=\u001b[39mdocsearch\u001b[38;5;241m.\u001b[39mas_retriever(search_kwargs\u001b[38;5;241m=\u001b[39m{\u001b[38;5;124m'\u001b[39m\u001b[38;5;124mk\u001b[39m\u001b[38;5;124m'\u001b[39m: \u001b[38;5;241m2\u001b[39m}),\n\u001b[0;32m      5\u001b[0m     return_source_documents\u001b[38;5;241m=\u001b[39m\u001b[38;5;28;01mTrue\u001b[39;00m,\n\u001b[0;32m      6\u001b[0m     chain_type_kwargs\u001b[38;5;241m=\u001b[39mchain_type_kwargs\n\u001b[0;32m      7\u001b[0m )\n",
      "\u001b[1;31mNameError\u001b[0m: name 'llm' is not defined"
     ]
    }
   ],
   "source": [
    "\n",
    "qa = RetrievalQA.from_chain_type(\n",
    "    llm=llm,\n",
    "    chain_type=\"stuff\",\n",
    "    retriever=docsearch.as_retriever(search_kwargs={'k': 2}),\n",
    "    return_source_documents=True,\n",
    "    chain_type_kwargs=chain_type_kwargs\n",
    ")\n"
   ]
  },
  {
   "cell_type": "code",
   "execution_count": null,
   "metadata": {},
   "outputs": [],
   "source": [
    "\n",
    "while True:\n",
    "    try:\n",
    "        \n",
    "        user_input = input(f\"\\nInput your question (type 'exit' to stop): \")\n",
    "\n",
    "       \n",
    "        if user_input.lower() == 'exit':\n",
    "            print(\"\\nExiting chat... Goodbye!\")\n",
    "            break\n",
    "        \n",
    "       \n",
    "        result = qa({\"query\": user_input})\n",
    "        \n",
    "        \n",
    "        response = result[\"result\"]\n",
    "        \n",
    "        \n",
    "        print(f\"\\nUser Question: {user_input}\")\n",
    "        print(f\"Bot Response: {response}\\n\")\n",
    "    \n",
    "    except KeyboardInterrupt:\n",
    "        \n",
    "        print(\"\\nExiting chat...\")\n",
    "        break\n"
   ]
  },
  {
   "cell_type": "code",
   "execution_count": null,
   "metadata": {},
   "outputs": [],
   "source": []
  }
 ],
 "metadata": {
  "kernelspec": {
   "display_name": "sihenv",
   "language": "python",
   "name": "python3"
  },
  "language_info": {
   "codemirror_mode": {
    "name": "ipython",
    "version": 3
   },
   "file_extension": ".py",
   "mimetype": "text/x-python",
   "name": "python",
   "nbconvert_exporter": "python",
   "pygments_lexer": "ipython3",
   "version": "3.9.19"
  }
 },
 "nbformat": 4,
 "nbformat_minor": 2
}
